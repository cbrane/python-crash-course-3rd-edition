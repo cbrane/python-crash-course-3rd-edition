{
 "cells": [
  {
   "cell_type": "code",
   "execution_count": null,
   "metadata": {},
   "outputs": [],
   "source": [
    "# Chapter 9 - Classes\n",
    "\n",
    "# In OOP, you write classes that represent real-world things and situations,\n",
    "#   and you create objects based on thesee classes. When you write a class, you\n",
    "#   you define the general behavior that a whole category of objects can have.\n",
    "# Making an object from a class is called instantiation, and you work with\n",
    "#   instances of a class."
   ]
  },
  {
   "cell_type": "code",
   "execution_count": 3,
   "metadata": {},
   "outputs": [],
   "source": [
    "# Creating and Using a Class:\n",
    "\n",
    "# You can model almost anything using classes, so here let's start by writing\n",
    "#   a simple class, Dog, that represents a dog. This class will tell Python\n",
    "#   how to make an object representing a dog. After it is written, we'll use it\n",
    "#   to make individual instances, each of which represents one specific dog.\n",
    "\n",
    "class Dog: # here, we define the class, capitalized names refer to class in Py\n",
    "    \"\"\"A simple attempt to model a dog.\"\"\"\n",
    "\n",
    "# a function that is part of a class is a method, and everything we learned\n",
    "#   about functions applies to methods as well, with the only practical diff\n",
    "#   for now is the way that we'll call methods.\n",
    "# The __init__() method:\n",
    "#   A special method that Python runs automatically whenever we create a new\n",
    "#   instance based on the Dog class. With the two leading and trailing undersc.\n",
    "#   it helps to prevent this default method name from cconflicting with your\n",
    "#   method names. If you don't use two __ on each side, the method won't be\n",
    "#   called automatically when you use your class, and can result in errors that\n",
    "#   are hard to identify. \n",
    "#   The self parameter is required in the method def. and it must come first \n",
    "#   before other parameters. It has to be included in the def because when py\n",
    "#   calls this method later (to create an instance of Dog), the method will\n",
    "#   automatically pass the self argument. Every method call associated with an\n",
    "#   instance automatically passes self, which is a reference to the instance\n",
    "#   itself, and gives the individual instance access to the attributes & methods\n",
    "#   in the class.\n",
    "#   When we make an instance od Dog, Python will call the __init__() method from\n",
    "#   the Dog class. We'll pass Dog() a name and an age as arguments; self is \n",
    "#   passed automatically, so we don't need to pass it. Whenever we want to make\n",
    "#   an instance from the Dog class, we'll provide values for only the last two\n",
    "#   parameters, name and age.\n",
    "#   In addition, the two variables defined in the body of the __init__() method\n",
    "#   each have the prefix self. Any var prefixed with self is available to every\n",
    "#   method in the class, and we'll also be able to access these vars thru any\n",
    "#   instance created from the class. \n",
    "    def __init__(self, name, age): \n",
    "        \"\"\"Initialize name and age attributes.\"\"\"\n",
    "        self.name = name \n",
    "        self.age = age\n",
    "    # The line self.name = name takes the value associated with the parameter\n",
    "    #   name, and assigns it to the variable name, which is then attached to\n",
    "    #   the instance being created, and same with age. Vars that are accessible\n",
    "    #   thru instaces like this are called attributes.\n",
    "\n",
    "    def sit(self):\n",
    "        \"\"\"Simulate a dog sitting in respose to a command.\"\"\"\n",
    "        print(f\"{self.name} is now sitting.\")\n",
    "\n",
    "    def roll_over(self):\n",
    "        \"\"\"Simulate rolling over in response to a command.\"\"\"\n",
    "        print(f\"{self.name} rolled over.\")\n",
    "\n",
    "    # Our Dog class has two other methods defined /\\\n",
    "    #   Because these methods don't need additional information to run, we just\n",
    "    #   define them to have one parameter, self. The instances we create later\n",
    "    #   will have access to these methods. "
   ]
  },
  {
   "cell_type": "code",
   "execution_count": null,
   "metadata": {},
   "outputs": [],
   "source": [
    "# The Dog class code without the comments:\n",
    "\n",
    "class Dog: \n",
    "    \"\"\"A simple attempt to model a dog.\"\"\"\n",
    "\n",
    "    def __init__(self, name, age): \n",
    "        \"\"\"Initialize name and age attributes.\"\"\"\n",
    "        self.name = name \n",
    "        self.age = age\n",
    "\n",
    "    def sit(self):\n",
    "        \"\"\"Simulate a dog sitting in respose to a command.\"\"\"\n",
    "        print(f\"{self.name} is now sitting.\")\n",
    "\n",
    "    def roll_over(self):\n",
    "        \"\"\"Simulate rolling over in response to a command.\"\"\"\n",
    "        print(f\"{self.name} rolled over.\")"
   ]
  },
  {
   "cell_type": "code",
   "execution_count": 4,
   "metadata": {},
   "outputs": [
    {
     "name": "stdout",
     "output_type": "stream",
     "text": [
      "My dog's name is Willie.\n",
      "My dog is 6 years old.\n",
      "Willie is now sitting.\n",
      "Willie rolled over.\n"
     ]
    }
   ],
   "source": [
    "# Making an Instance from a Class\n",
    "\n",
    "# Think of a class at a set of instructions for how to make an instance. The\n",
    "#   Dog class is a set of instructions that tells Python how to make individual\n",
    "#   instances representing specific dogs. \n",
    "\n",
    "# Let's make an instance representing a specific dog:\n",
    "\n",
    "my_dog = Dog('Willie', 6)\n",
    "\n",
    "# Naming conventions are useful here, because we can assume that a capitalized\n",
    "#   name like Dog refers to a class, and a lowercase name like my_dog refers to\n",
    "#   a single instance created from a class.\n",
    "\n",
    "print(f\"My dog's name is {my_dog.name}.\")\n",
    "print(f\"My dog is {my_dog.age} years old.\")\n",
    "\n",
    "# Accessing Attributes:\n",
    "#   To access the attributes of an instance, we use the dot notation\n",
    "\n",
    "# Calling Methods:\n",
    "#   After we create an instance from the class Dog, we can use the dot notation\n",
    "#   to call any method defined in Dog. Let's make our dog sit and roll over:\n",
    "my_dog.sit()\n",
    "my_dog.roll_over()\n",
    "\n",
    "# This syntax is quite useful, because when attributes and method have been\n",
    "#   given appropriately descriptive names like name, age, sit(), roll_over(),\n",
    "#   we can easily infer what a block of code, even one we have never seen\n",
    "#   before, is supposed to do. "
   ]
  },
  {
   "cell_type": "code",
   "execution_count": 6,
   "metadata": {},
   "outputs": [
    {
     "name": "stdout",
     "output_type": "stream",
     "text": [
      "My dog's name is Willie.\n",
      "My dog is 6 years old.\n",
      "Willie is now sitting.\n",
      "\n",
      "Your dog's name is Lucy.\n",
      "My dog is 3 years old.\n",
      "Lucy is now sitting.\n"
     ]
    }
   ],
   "source": [
    "# Creating Multiple Instances\n",
    "\n",
    "my_dog = Dog('Willie', 6)\n",
    "your_dog = Dog('Lucy', 3)\n",
    "\n",
    "print(f\"My dog's name is {my_dog.name}.\")\n",
    "print(f\"My dog is {my_dog.age} years old.\")\n",
    "my_dog.sit()\n",
    "\n",
    "print(f\"\\nYour dog's name is {your_dog.name}.\")\n",
    "print(f\"My dog is {your_dog.age} years old.\")\n",
    "your_dog.sit()"
   ]
  },
  {
   "cell_type": "code",
   "execution_count": 9,
   "metadata": {},
   "outputs": [
    {
     "name": "stdout",
     "output_type": "stream",
     "text": [
      "Connor's Restaurant is a Italian restaurant.\n",
      "Connor's Restaurant is now open.\n"
     ]
    }
   ],
   "source": [
    "# 9-1. Restaurant\n",
    "\n",
    "# 1. Make a class called Restaurant. The __init__() method should store 2 atrbts\n",
    "#   A restaurant_name and and a cuisine_type. \n",
    "# 2. Make a method describe_restaurant() that prints these two pieces of info\n",
    "# 3. Make a method called open_restaurant() that prints a msg. saying it is open\n",
    "\n",
    "class Restaurant:\n",
    "    \"\"\"Stores and describes info about a restaurant.\"\"\"\n",
    "\n",
    "    def __init__(self, restaurant_name, cuisine_type): \n",
    "        \"\"\"Initialize name and age attributes.\"\"\"\n",
    "        self.restaurant_name = restaurant_name \n",
    "        self.cuisine_type = cuisine_type\n",
    "\n",
    "    def describe_restaurant(self):\n",
    "        \"\"\"Describe the restaurant that was created.\"\"\"\n",
    "        print(f\"{self.restaurant_name} is a {self.cuisine_type} restaurant.\")\n",
    "\n",
    "    def open_restaurant(self):\n",
    "        \"\"\"Print a message saying that the restaurant is open.\"\"\"\n",
    "        print(f\"{self.restaurant_name} is now open.\")\n",
    "\n",
    "my_restaurant = Restaurant(\"Connor's Restaurant\", 'Italian')\n",
    "my_restaurant.describe_restaurant()\n",
    "my_restaurant.open_restaurant()"
   ]
  },
  {
   "cell_type": "code",
   "execution_count": 10,
   "metadata": {},
   "outputs": [
    {
     "name": "stdout",
     "output_type": "stream",
     "text": [
      "Connor's Restaurant is a Italian restaurant.\n",
      "Jimmy's Restaurant is a Chinese restaurant.\n",
      "Ryan's Restaurant is a Italian restaurant.\n"
     ]
    }
   ],
   "source": [
    "# 9-2. Three Restaurants\n",
    "\n",
    "# Start with program from 9-1, make 3 instances from the class and call\n",
    "#   describe for each.\n",
    "\n",
    "class Restaurant:\n",
    "    \"\"\"Stores and describes info about a restaurant.\"\"\"\n",
    "\n",
    "    def __init__(self, restaurant_name, cuisine_type): \n",
    "        \"\"\"Initialize name and age attributes.\"\"\"\n",
    "        self.restaurant_name = restaurant_name \n",
    "        self.cuisine_type = cuisine_type\n",
    "\n",
    "    def describe_restaurant(self):\n",
    "        \"\"\"Describe the restaurant that was created.\"\"\"\n",
    "        print(f\"{self.restaurant_name} is a {self.cuisine_type} restaurant.\")\n",
    "\n",
    "    def open_restaurant(self):\n",
    "        \"\"\"Print a message saying that the restaurant is open.\"\"\"\n",
    "        print(f\"{self.restaurant_name} is now open.\")\n",
    "\n",
    "my_restaurant = Restaurant(\"Connor's Restaurant\", 'Italian')\n",
    "restaurant_1 = Restaurant(\"Jimmy's Restaurant\", 'Chinese')\n",
    "restaurant_2 = Restaurant(\"Ryan's Restaurant\", 'Italian')\n",
    "my_restaurant.describe_restaurant()\n",
    "restaurant_1.describe_restaurant()\n",
    "restaurant_2.describe_restaurant()"
   ]
  },
  {
   "cell_type": "code",
   "execution_count": 15,
   "metadata": {},
   "outputs": [
    {
     "name": "stdout",
     "output_type": "stream",
     "text": [
      "\n",
      "Username: connorrr\n",
      "First name: Connor\n",
      "Last name: Raney\n",
      "Age: 20\n",
      "Hi Connor, it is very nice to see you.\n",
      "\n",
      "Username: ryannn\n",
      "First name: Ryan\n",
      "Last name: Whitney\n",
      "Age: 37\n",
      "Hi Ryan, it is very nice to see you.\n",
      "\n",
      "Username: bizzer\n",
      "First name: Paul\n",
      "Last name: Bizonnette\n",
      "Age: 78\n",
      "Hi Paul, it is very nice to see you.\n"
     ]
    }
   ],
   "source": [
    "# 9-3. Users\n",
    "\n",
    "# 1. Make a class called user, two attributes first and last name, and others.\n",
    "# 2. Make describe_user() and greet_user() methods\n",
    "# 3. Create several instances for diff users, call both methods for each user\n",
    "\n",
    "class User:\n",
    "    \"\"\"A simple attempt to model a user.\"\"\"\n",
    "\n",
    "    def __init__(self, username, first_name, last_name, age): \n",
    "        \"\"\"Initialize first and last name attributes.\"\"\"\n",
    "        self.username = username\n",
    "        self.first_name = first_name \n",
    "        self.last_name = last_name\n",
    "        self.age = age\n",
    "\n",
    "    def describe_user(self):\n",
    "        \"\"\"Print a summary of the user's information.\"\"\"\n",
    "        print(f\"\\nUsername: {self.username}\")\n",
    "        print(f\"First name: {self.first_name.title()}\")\n",
    "        print(f\"Last name: {self.last_name.title()}\")\n",
    "        print(f\"Age: {self.age}\")\n",
    "\n",
    "    def greet_user(self):\n",
    "        \"\"\"Print a personalized greeting to the user.\"\"\"\n",
    "        print(f\"Hi {self.first_name.title()}, it is very nice to see you.\")\n",
    "\n",
    "\n",
    "user_1 = User('connorrr', 'connor', 'raney', 20)\n",
    "user_2 = User('ryannn', 'ryan', 'whitney', 37)\n",
    "user_3 = User('bizzer', 'paul', 'bizonnette', 78)\n",
    "\n",
    "User.describe_user(user_1)\n",
    "User.greet_user(user_1)\n",
    "User.describe_user(user_2)\n",
    "User.greet_user(user_2)\n",
    "User.describe_user(user_3)\n",
    "User.greet_user(user_3)"
   ]
  },
  {
   "cell_type": "code",
   "execution_count": 16,
   "metadata": {},
   "outputs": [
    {
     "name": "stdout",
     "output_type": "stream",
     "text": [
      "2024 Audi A4\n"
     ]
    }
   ],
   "source": [
    "# Working with Classes and Instances\n",
    "\n",
    "# Let's write a new class representing a car:\n",
    "\n",
    "class Car:\n",
    "    \"\"\"A simple attempt to model a car.\"\"\"\n",
    "\n",
    "    def __init__(self, make, model, year):\n",
    "        \"\"\"Initialize attributes to describe a car.\"\"\"\n",
    "        self.make = make\n",
    "        self.model = model\n",
    "        self.year = year\n",
    "\n",
    "    def get_descriptive_name(self):\n",
    "        \"\"\"Return a neatly formatted descriptive name.\"\"\"\n",
    "        long_name = f\"{self.year} {self.make} {self.model}\"\n",
    "        return long_name.title()\n",
    "\n",
    "my_new_car = Car('audi', 'a4', 2024)\n",
    "print(my_new_car.get_descriptive_name())"
   ]
  },
  {
   "cell_type": "code",
   "execution_count": 26,
   "metadata": {},
   "outputs": [
    {
     "name": "stdout",
     "output_type": "stream",
     "text": [
      "2024 Audi A4\n",
      "This car has 0 miles on it.\n"
     ]
    }
   ],
   "source": [
    "# Setting a Default Value for an Attribute\n",
    "\n",
    "# When an instance is created, attributes can be defined without being passed\n",
    "#   in as parameters. These attributes can be defined in the __init__() method\n",
    "#   where they are assigned a default value.\n",
    "\n",
    "class Car:\n",
    "    \"\"\"A simple attempt to model a car.\"\"\"\n",
    "\n",
    "    def __init__(self, make, model, year):\n",
    "        \"\"\"Initialize attributes to describe a car.\"\"\"\n",
    "        self.make = make\n",
    "        self.model = model\n",
    "        self.year = year\n",
    "        self.odometer_reading = 0 # here is the attribute w/ the default value\n",
    "\n",
    "    def get_descriptive_name(self):\n",
    "        \"\"\"Return a neatly formatted descriptive name.\"\"\"\n",
    "        long_name = f\"{self.year} {self.make} {self.model}\"\n",
    "        return long_name.title()\n",
    "    \n",
    "    def read_odometer(self):\n",
    "        \"\"\"Print a statement showing the car's mileage.\"\"\"\n",
    "        print(f\"This car has {self.odometer_reading} miles on it.\")\n",
    "\n",
    "    def update_odometer(self, mileage):\n",
    "        \"\"\"Set the odometer reading to the given value.\"\"\"\n",
    "        self.odometer_reading = mileage\n",
    "\n",
    "    def increment_odometer(self, miles):\n",
    "        \"\"\"Add the given amount to the odometer reading.\"\"\"\n",
    "        self.odometer_reading += miles\n",
    "\n",
    "my_new_car = Car('audi', 'a4', 2024)\n",
    "print(my_new_car.get_descriptive_name())\n",
    "my_new_car.read_odometer() # then we will print the odometer value here"
   ]
  },
  {
   "cell_type": "code",
   "execution_count": 29,
   "metadata": {},
   "outputs": [
    {
     "name": "stdout",
     "output_type": "stream",
     "text": [
      "This car has 23 miles on it.\n",
      "This car has 23 miles on it.\n",
      "2019 Subaru Outback\n",
      "This car has 23500 miles on it.\n",
      "This car has 23600 miles on it.\n"
     ]
    }
   ],
   "source": [
    "# Modifying Attribute Values\n",
    "\n",
    "# There are 3 ways to change an attribute's value:\n",
    "#   1. Change the value directly thru an instance\n",
    "#   2. Set the value thru a method\n",
    "#   3. Increment the value (add a certain amount to it) thru a method\n",
    "\n",
    "# 1. Modifying an Attribute's Value Directly:\n",
    "my_new_car.odometer_reading = 23\n",
    "my_new_car.read_odometer()\n",
    "\n",
    "# 2. Modifying an Attribute's Value Through a Method\n",
    "#def update_odometer(self, mileage):\n",
    "    #\"\"\"Set the odometer reading to the given value.\"\"\"\n",
    "    #self.odometer_reading = mileage\n",
    "# Adding this method into the class block above /\\\n",
    "my_new_car.update_odometer(23)\n",
    "my_new_car.read_odometer()\n",
    "\n",
    "# 3. Incrementing an Attribute's Value Through a Method\n",
    "#def increment_odometer(self, miles):\n",
    "    #\"\"\"Add the given amount to the odometer reading.\"\"\"\n",
    "    #self.odometer_reading += miles\n",
    "# Adding this method into the class block above /\\\n",
    "\n",
    "# Another thing you can do with this method is to modify it to reject neg.\n",
    "#   increments so no one can use the function to rol back an odometer.\n",
    "\n",
    "my_used_car = Car('subaru', 'outback', 2019)\n",
    "print(my_used_car.get_descriptive_name())\n",
    "my_used_car.update_odometer(23_500) # remember _ can be used as a comma 23,500\n",
    "my_used_car.read_odometer()\n",
    "my_used_car.increment_odometer(100)\n",
    "my_used_car.read_odometer()"
   ]
  },
  {
   "cell_type": "code",
   "execution_count": 39,
   "metadata": {},
   "outputs": [
    {
     "name": "stdout",
     "output_type": "stream",
     "text": [
      "Connor's Restaurant has served 500 customers.\n",
      "Connor's Restaurant has served 600 customers.\n",
      "Connor's Restaurant has served 600 customers.\n"
     ]
    }
   ],
   "source": [
    "# 9-4. Number Served:\n",
    "\n",
    "# 1. Start with program from 9-1, add an attribute called number_served \n",
    "#   with a default value of 0.\n",
    "# 2. Create an insatnce called restaurant from this class.\n",
    "# 3. Print the number of customers the restaurant has served, then change the\n",
    "#   number and do it again. \n",
    "\n",
    "class Restaurant:\n",
    "    \"\"\"Stores and describes info about a restaurant.\"\"\"\n",
    "\n",
    "    def __init__(self, restaurant_name, cuisine_type): \n",
    "        \"\"\"Initialize name and age attributes.\"\"\"\n",
    "        self.restaurant_name = restaurant_name \n",
    "        self.cuisine_type = cuisine_type\n",
    "        self.number_served = 0\n",
    "\n",
    "    def describe_restaurant(self):\n",
    "        \"\"\"Describe the restaurant that was created.\"\"\"\n",
    "        print(f\"{self.restaurant_name} is a {self.cuisine_type} restaurant.\")\n",
    "\n",
    "    def open_restaurant(self):\n",
    "        \"\"\"Print a message saying that the restaurant is open.\"\"\"\n",
    "        print(f\"{self.restaurant_name} is now open.\")\n",
    "\n",
    "    def set_number_served(self, number):\n",
    "        \"\"\"Set the number of people who have been served by the restaurant.\"\"\"\n",
    "        self.number_served = number\n",
    "    \n",
    "    def increment_number_served(self, number):\n",
    "        \"\"\"Increment the amount of people who have been served.\"\"\"\n",
    "        self.number_served += number\n",
    "\n",
    "restaurant = Restaurant(\"Connor's Restaurant\", 'Italian')\n",
    "restaurant.number_served = 500\n",
    "print_number_served = (f\"{restaurant.restaurant_name} has served\")\n",
    "print_number_served += (f\" {restaurant.number_served} customers.\")\n",
    "print(print_number_served)\n",
    "restaurant.number_served = 600\n",
    "print_number_served = (f\"{restaurant.restaurant_name} has served\")\n",
    "print_number_served += (f\" {restaurant.number_served} customers.\")\n",
    "print(print_number_served)\n",
    "restaurant.set_number_served(700)\n",
    "restaurant.increment_number_served(200)\n",
    "print(print_number_served)"
   ]
  },
  {
   "cell_type": "code",
   "execution_count": null,
   "metadata": {},
   "outputs": [],
   "source": [
    "# Inheritance\n",
    "\n",
    "# You do not always have to start from scratch when writing a class, and if the\n",
    "#   class you are writing is a specialized version of another class that you\n",
    "#   wrote, you can use inhereitance.\n",
    "# When one class inherits from another, it takes on the attributes and methods \n",
    "#   of the first class. The original class is called the parent class, and the\n",
    "#   new class is called the child class. The child class can inherit any or all\n",
    "#   of the attributes and methods of its parent class, but it's also free to\n",
    "#   define new attributes and methods of its own."
   ]
  },
  {
   "cell_type": "code",
   "execution_count": 41,
   "metadata": {},
   "outputs": [
    {
     "name": "stdout",
     "output_type": "stream",
     "text": [
      "2024 Nissan Leaf\n"
     ]
    }
   ],
   "source": [
    "# The __init__() Method for a Child Class\n",
    "\n",
    "# When you're writing a new class based on an existing class, you'll often want\n",
    "#   to call the __init__() method from the parent class. This will initialize\n",
    "#   any attributes that were defined in the parent __init__() method and make\n",
    "#   them available in the child class.\n",
    "\n",
    "# One example of this is modeling an electric car. An electric car is just a\n",
    "#   specific kind of car, so we can base our new ElectricCar class on the Car\n",
    "#   class we wrote earlier. Then, we will only have to write code for the\n",
    "#   attributes and behaviors specific to electric cars. \n",
    "\n",
    "# Let's make a simple version of the ElectricCar class, which does everything\n",
    "#   the Car class does:\n",
    "class Car:\n",
    "    \"\"\"A simple attempt to model a car.\"\"\"\n",
    "\n",
    "    def __init__(self, make, model, year):\n",
    "        \"\"\"Initialize attributes to describe a car.\"\"\"\n",
    "        self.make = make\n",
    "        self.model = model\n",
    "        self.year = year\n",
    "        self.odometer_reading = 0 # here is the attribute w/ the default value\n",
    "\n",
    "    def get_descriptive_name(self):\n",
    "        \"\"\"Return a neatly formatted descriptive name.\"\"\"\n",
    "        long_name = f\"{self.year} {self.make} {self.model}\"\n",
    "        return long_name.title()\n",
    "    \n",
    "    def read_odometer(self):\n",
    "        \"\"\"Print a statement showing the car's mileage.\"\"\"\n",
    "        print(f\"This car has {self.odometer_reading} miles on it.\")\n",
    "\n",
    "    def update_odometer(self, mileage):\n",
    "        \"\"\"Set the odometer reading to the given value.\"\"\"\n",
    "        self.odometer_reading = mileage\n",
    "\n",
    "    def increment_odometer(self, miles):\n",
    "        \"\"\"Add the given amount to the odometer reading.\"\"\"\n",
    "        self.odometer_reading += miles\n",
    "\n",
    "# Our ElectricCar class:\n",
    "class ElectricCar(Car): \n",
    "    \"\"\"Represent aspects of a car, specific to electric vehicles.\"\"\"\n",
    "\n",
    "    def __init__(self, make, model, year):\n",
    "        \"\"\"Initialize attributes of the parent class.\"\"\"\n",
    "        super().__init__(make, model, year) # ***\n",
    "\n",
    "my_leaf = ElectricCar('nissan', 'leaf', 2024)\n",
    "print(my_leaf.get_descriptive_name())\n",
    "\n",
    "# We start with Car, as when you create a child class, the parent class must\n",
    "#   be a part of the current file, and must appear before the child class in\n",
    "#   the file. \n",
    "\n",
    "# Then, we define the child class, ElectricCar, and the name of the parent\n",
    "#   class must be included in the parentheses in the definition of a child\n",
    "#   class.\n",
    "\n",
    "# The __init__() method then takes the info required to make a Car instance.\n",
    "\n",
    "# The super() function is a special function that allows you to call a method\n",
    "#   from the parent class. # *** This line tells python to call the __init__()\n",
    "#   method from Car, which gives an ElectricCar instance all the attributes\n",
    "#   defined in that method. The name super comes from a convention of calling\n",
    "#   the parent class a superclass, and the child class a subclass.\n",
    "\n",
    "# We then can test whether inheritance is working properly by trying to create\n",
    "#   an electric car with the same kind of info we'd provide when making a \n",
    "#   regular car. "
   ]
  },
  {
   "cell_type": "code",
   "execution_count": 42,
   "metadata": {},
   "outputs": [
    {
     "name": "stdout",
     "output_type": "stream",
     "text": [
      "2024 Nissan Leaf\n",
      "This car has a 40-kWh battery.\n"
     ]
    }
   ],
   "source": [
    "# Defining Attributes and Methods for the Child Class (subclass)\n",
    "\n",
    "class Car:\n",
    "    \"\"\"A simple attempt to model a car.\"\"\"\n",
    "\n",
    "    def __init__(self, make, model, year):\n",
    "        \"\"\"Initialize attributes to describe a car.\"\"\"\n",
    "        self.make = make\n",
    "        self.model = model\n",
    "        self.year = year\n",
    "        self.odometer_reading = 0 # here is the attribute w/ the default value\n",
    "\n",
    "    def get_descriptive_name(self):\n",
    "        \"\"\"Return a neatly formatted descriptive name.\"\"\"\n",
    "        long_name = f\"{self.year} {self.make} {self.model}\"\n",
    "        return long_name.title()\n",
    "    \n",
    "    def read_odometer(self):\n",
    "        \"\"\"Print a statement showing the car's mileage.\"\"\"\n",
    "        print(f\"This car has {self.odometer_reading} miles on it.\")\n",
    "\n",
    "    def update_odometer(self, mileage):\n",
    "        \"\"\"Set the odometer reading to the given value.\"\"\"\n",
    "        self.odometer_reading = mileage\n",
    "\n",
    "    def increment_odometer(self, miles):\n",
    "        \"\"\"Add the given amount to the odometer reading.\"\"\"\n",
    "        self.odometer_reading += miles\n",
    "\n",
    "# Our ElectricCar class:\n",
    "class ElectricCar(Car): \n",
    "    \"\"\"Represent aspects of a car, specific to electric vehicles.\"\"\"\n",
    "\n",
    "    def __init__(self, make, model, year):\n",
    "        \"\"\"\n",
    "        Initialize attributes of the parent class.\n",
    "        Then initialize attributes specific to an electric car.\n",
    "        \"\"\"\n",
    "\n",
    "        super().__init__(make, model, year) \n",
    "        self.battery_size = 40\n",
    "\n",
    "    def describe_battery(self):\n",
    "        \"\"\"Print a statement describing the battery size.\"\"\"\n",
    "        print(f\"This car has a {self.battery_size}-kWh battery.\")\n",
    "    \n",
    "my_leaf = ElectricCar('nissan', 'leaf', 2024)\n",
    "print(my_leaf.get_descriptive_name())\n",
    "my_leaf.describe_battery()\n",
    "\n",
    "# As you can see above, we add a new attribute self.battery_size and set the\n",
    "#   initial value to 40. This is nice because this attribute will be associated\n",
    "#   with all instances created from the ElectricCar class, but won't be\n",
    "#   associated with any instances of Car. \n",
    "# With this, there is no limit to how much we can specialize the ElectricCar \n",
    "#   class. We can add as many attributes and methods needed for an electric car."
   ]
  },
  {
   "cell_type": "code",
   "execution_count": null,
   "metadata": {},
   "outputs": [],
   "source": [
    "# Overriding Methods from the Superclass\n",
    "\n",
    "# We can override any method from the parent class that doesn't fit what we are\n",
    "#   trying to model with the child class, and in order to do this we will\n",
    "#   define a method in the subclass with the same name as the method we want\n",
    "#   to override in the superclass. \n",
    "\n",
    "# One example could be, lets say the Car class has a fill_gas_tank() method,\n",
    "#   so, we will then override it:\n",
    "def fill_gas_tank(self):\n",
    "    \"\"\"Electric cars don't have gas tanks.\"\"\"\n",
    "    print(\"This car doesn't have a gas tank!\")\n",
    "\n",
    "# Now, if someone calls this method with an electric car, python will ignore\n",
    "#   the superclass method and run the subclass method instead. "
   ]
  },
  {
   "cell_type": "code",
   "execution_count": 48,
   "metadata": {},
   "outputs": [
    {
     "name": "stdout",
     "output_type": "stream",
     "text": [
      "2024 Nissan Leaf\n",
      "This car has a 40 battery size.\n",
      "THis car can go about 150 miles on a full charge.\n"
     ]
    }
   ],
   "source": [
    "# Instances as Attributes\n",
    "\n",
    "# When modeling something from the real world as code, you may find that you're\n",
    "#   adding more and more detail to a class, and that you have a growing list\n",
    "#   of attributes and methods, and that your files are becoming lengthy.\n",
    "# In these situations, you might recognize that part of one class can be\n",
    "#   written as a seperate class. You can break your large class into smaller\n",
    "#   classes that work together; this approach is called **composition**\n",
    "\n",
    "# For example, if we continue to add detail to the ElectricCar class, we might\n",
    "#   notice that we are adding a ton of attributes and methods specific to the \n",
    "#   car's battery, and when we see this happening, we can stop and move those\n",
    "#   attributes and methods to a seperate class called Battery. Then, we can\n",
    "#   use a Battery instance as an attribute in the ElectricCar class:\n",
    "\n",
    "class Car:\n",
    "    \"\"\"A simple attempt to model a car.\"\"\"\n",
    "\n",
    "    def __init__(self, make, model, year):\n",
    "        \"\"\"Initialize attributes to describe a car.\"\"\"\n",
    "        self.make = make\n",
    "        self.model = model\n",
    "        self.year = year\n",
    "        self.odometer_reading = 0 # here is the attribute w/ the default value\n",
    "\n",
    "    def get_descriptive_name(self):\n",
    "        \"\"\"Return a neatly formatted descriptive name.\"\"\"\n",
    "        long_name = f\"{self.year} {self.make} {self.model}\"\n",
    "        return long_name.title()\n",
    "    \n",
    "    def read_odometer(self):\n",
    "        \"\"\"Print a statement showing the car's mileage.\"\"\"\n",
    "        print(f\"This car has {self.odometer_reading} miles on it.\")\n",
    "\n",
    "    def update_odometer(self, mileage):\n",
    "        \"\"\"Set the odometer reading to the given value.\"\"\"\n",
    "        self.odometer_reading = mileage\n",
    "\n",
    "    def increment_odometer(self, miles):\n",
    "        \"\"\"Add the given amount to the odometer reading.\"\"\"\n",
    "        self.odometer_reading += miles\n",
    "\n",
    "\n",
    "class Battery:\n",
    "    \"\"\"An attempt to model a battery for an electric car.\"\"\"\n",
    "    def __init__(self, battery_size=40):\n",
    "        \"\"\"Initialize the battery's attributes.\"\"\"\n",
    "        self.battery_size = battery_size\n",
    "\n",
    "    def describe_battery(self):\n",
    "        \"\"\"Print a statement describing the battery's size.\"\"\"\n",
    "        print(f\"This car has a {self.battery_size} battery size.\")\n",
    "\n",
    "    def get_range(self):\n",
    "        \"\"\"Print a statement about the range this battery provides.\"\"\"\n",
    "        if self.battery_size == 40:\n",
    "            range = 150\n",
    "        elif self.battery_size == 65:\n",
    "            range = 225\n",
    "\n",
    "        print(f\"THis car can go about {range} miles on a full charge.\")\n",
    "\n",
    "# Our ElectricCar class:\n",
    "class ElectricCar(Car): \n",
    "    \"\"\"Represent aspects of a car, specific to electric vehicles.\"\"\"\n",
    "\n",
    "    def __init__(self, make, model, year):\n",
    "        \"\"\"\n",
    "        Initialize attributes of the parent class.\n",
    "        Then initialize attributes specific to an electric car.\n",
    "        \"\"\"\n",
    "\n",
    "        super().__init__(make, model, year) \n",
    "        self.battery = Battery()\n",
    "\n",
    "# We define this new Battery() class, then in the ElectricCar class we now add\n",
    "#   an attribute called self.battery() and tells it to create a new instance of\n",
    "#   Battery() with a size of 40 kWh, and will happen everytime the __init__()\n",
    "#   method is called, and every ElectricCar instance will have a Battery\n",
    "#   instance created alongside it.\n",
    "\n",
    "# Then, we want to create an electric car, and assign it to the variable my_leaf\n",
    "#   and we want to describe the battery, we have to work thru the car's battery\n",
    "#   attribute, like:\n",
    "my_leaf = ElectricCar('nissan', 'leaf', 2024)\n",
    "print(my_leaf.get_descriptive_name())\n",
    "my_leaf.battery.describe_battery() # tells it to look at my_leaf instance,\n",
    "                                   # then battery instance, then the method\n",
    "\n",
    "# Now, we can describe the battery in as much detail as we want to without\n",
    "#   adding more clutter to the ElectricCar class, keeping this all organized.\n",
    "\n",
    "# After adding in get_range, we can check it like this:\n",
    "my_leaf.battery.get_range()"
   ]
  },
  {
   "cell_type": "code",
   "execution_count": 56,
   "metadata": {},
   "outputs": [
    {
     "name": "stdout",
     "output_type": "stream",
     "text": [
      "The Stand has the following flavors:\n",
      "Chocolate\n",
      "Strawberry\n"
     ]
    }
   ],
   "source": [
    "# 9-6. Ice Cream Stand\n",
    "\n",
    "# 1. Write a class IceCreamStand that inherits from the Restaurant class you\n",
    "#   wrote in 9-1 or 9-4. \n",
    "# 2. Add an attribute called flavors that stores a list of ice cream flavors\n",
    "# 3. Write a method that displays these flavors\n",
    "# 4. Create an instance of IceCreamStand, and call this method\n",
    "\n",
    "class Restaurant:\n",
    "    \"\"\"Stores and describes info about a restaurant.\"\"\"\n",
    "\n",
    "    def __init__(self, restaurant_name, cuisine_type): \n",
    "        \"\"\"Initialize name and age attributes.\"\"\"\n",
    "        self.restaurant_name = restaurant_name \n",
    "        self.cuisine_type = cuisine_type\n",
    "        self.number_served = 0\n",
    "\n",
    "    def describe_restaurant(self):\n",
    "        \"\"\"Describe the restaurant that was created.\"\"\"\n",
    "        print(f\"{self.restaurant_name} is a {self.cuisine_type} restaurant.\")\n",
    "\n",
    "    def open_restaurant(self):\n",
    "        \"\"\"Print a message saying that the restaurant is open.\"\"\"\n",
    "        print(f\"{self.restaurant_name} is now open.\")\n",
    "\n",
    "    def set_number_served(self, number):\n",
    "        \"\"\"Set the number of people who have been served by the restaurant.\"\"\"\n",
    "        self.number_served = number\n",
    "    \n",
    "    def increment_number_served(self, number):\n",
    "        \"\"\"Increment the amount of people who have been served.\"\"\"\n",
    "        self.number_served += number\n",
    "\n",
    "\n",
    "class IceCreamStand(Restaurant):\n",
    "    \"\"\"Stores and describes info about an ice cream stand.\"\"\"\n",
    "\n",
    "    def __init__(self, restaurant_name, cuisine_type='Ice Cream Stand', *flavors): \n",
    "        \"\"\"\n",
    "        Initialize attributes for the superclass.\n",
    "        Then initialize attributes specific to an ice cream shop.\n",
    "        \"\"\"\n",
    "        super().__init__(restaurant_name, cuisine_type)\n",
    "        self.flavors = list(flavors)\n",
    "\n",
    "    def display_flavors(self):\n",
    "        print(f\"{self.restaurant_name.title()} has the following flavors:\")\n",
    "        for flavor in self.flavors:\n",
    "           print(flavor.title())\n",
    "\n",
    "my_stand = IceCreamStand('the stand', 'vanilla', 'chocolate', 'strawberry')\n",
    "my_stand.display_flavors()"
   ]
  },
  {
   "cell_type": "code",
   "execution_count": 65,
   "metadata": {},
   "outputs": [
    {
     "name": "stdout",
     "output_type": "stream",
     "text": [
      "Connor's privileges are:\n",
      "Can Add Post\n",
      "Can Delete Post\n",
      "Can Ban User\n"
     ]
    }
   ],
   "source": [
    "# 9-7. Admin\n",
    "\n",
    "# 1. Write a class called Admin that inherits from the User class in 9-3\n",
    "#    Add an attribute, called privileges, that stores a list of strings like\n",
    "#    \"can add post\", \"can delete post\", \"can ban user\", etc.\n",
    "# 2. Write a method called show_privileges() that lists the admin's privleges\n",
    "# 3. Create a new instance of Admin and use your method to show them\n",
    "\n",
    "class User:\n",
    "    \"\"\"A simple attempt to model a user.\"\"\"\n",
    "\n",
    "    def __init__(self, username, first_name, last_name, age): \n",
    "        \"\"\"Initialize first and last name attributes.\"\"\"\n",
    "        self.username = username\n",
    "        self.first_name = first_name \n",
    "        self.last_name = last_name\n",
    "        self.age = age\n",
    "\n",
    "    def describe_user(self):\n",
    "        \"\"\"Print a summary of the user's information.\"\"\"\n",
    "        print(f\"\\nUsername: {self.username}\")\n",
    "        print(f\"First name: {self.first_name.title()}\")\n",
    "        print(f\"Last name: {self.last_name.title()}\")\n",
    "        print(f\"Age: {self.age}\")\n",
    "\n",
    "    def greet_user(self):\n",
    "        \"\"\"Print a personalized greeting to the user.\"\"\"\n",
    "        print(f\"Hi {self.first_name.title()}, it is very nice to see you.\")\n",
    "\n",
    "class Admin(User):\n",
    "    \"\"\"A simple attempt to model an admin.\"\"\"\n",
    "\n",
    "    def __init__(self, username, first_name, last_name, age, *privileges):\n",
    "        \"\"\"\n",
    "        Initialize attributes for the super class.\n",
    "        Initialize attributes for the subclass.\n",
    "        \"\"\"\n",
    "        super().__init__(username, first_name, last_name, age)\n",
    "        self.privileges = list(privileges)\n",
    "\n",
    "    def show_privileges(self):\n",
    "        print(f\"{self.first_name.title()}'s privileges are:\")\n",
    "        for privilege in self.privileges:\n",
    "            print(privilege.title())\n",
    "\n",
    "new_admin = Admin('connor', 'connor', 'raney', 20, 'can add post',\n",
    "                  'can delete post', 'can ban user')\n",
    "new_admin.show_privileges()"
   ]
  },
  {
   "cell_type": "code",
   "execution_count": 75,
   "metadata": {},
   "outputs": [
    {
     "name": "stdout",
     "output_type": "stream",
     "text": [
      "Privileges:\n",
      "Can Add Post\n",
      "Can Delete Post\n",
      "Can Ban User\n"
     ]
    }
   ],
   "source": [
    "# 9-8. Privliges\n",
    "\n",
    "# 1. Write a separate Privilges class, should have one attribute, privilges,\n",
    "#    that stores a list of strings just like in 9-7\n",
    "# 2. Move the show_privilges() method to this class, make a Privilges instance\n",
    "#    as an attribute in the Admin class, create a new instance of Admin & use\n",
    "#    your method to show its privilges\n",
    "\n",
    "class User:\n",
    "    \"\"\"A simple attempt to model a user.\"\"\"\n",
    "\n",
    "    def __init__(self, username, first_name, last_name, age): \n",
    "        \"\"\"Initialize first and last name attributes.\"\"\"\n",
    "        self.username = username\n",
    "        self.first_name = first_name \n",
    "        self.last_name = last_name\n",
    "        self.age = age\n",
    "\n",
    "    def describe_user(self):\n",
    "        \"\"\"Print a summary of the user's information.\"\"\"\n",
    "        print(f\"\\nUsername: {self.username}\")\n",
    "        print(f\"First name: {self.first_name.title()}\")\n",
    "        print(f\"Last name: {self.last_name.title()}\")\n",
    "        print(f\"Age: {self.age}\")\n",
    "\n",
    "    def greet_user(self):\n",
    "        \"\"\"Print a personalized greeting to the user.\"\"\"\n",
    "        print(f\"Hi {self.first_name.title()}, it is very nice to see you.\")\n",
    "\n",
    "\n",
    "class Privileges:\n",
    "    \"\"\"An attempt to model privileges for an admin.\"\"\"\n",
    "    def __init__(self, *privileges):\n",
    "        \"\"\"Initialize the privileges' attributes.\"\"\"\n",
    "        self.privileges = privileges\n",
    "\n",
    "    def show_privileges(self):\n",
    "        print(\"Privileges:\")\n",
    "        for privilege in self.privileges:\n",
    "            print(privilege.title())\n",
    "\n",
    "\n",
    "class Admin(User):\n",
    "    \"\"\"A simple attempt to model an admin.\"\"\"\n",
    "\n",
    "    def __init__(self, username, first_name, last_name, age, *privileges):\n",
    "        \"\"\"\n",
    "        Initialize attributes for the super class.\n",
    "        Initialize attributes for the subclass.\n",
    "        \"\"\"\n",
    "        super().__init__(username, first_name, last_name, age)\n",
    "        self.privileges = Privileges(*privileges)\n",
    "\n",
    "new_admin = Admin('connor', 'connor', 'raney', 20, 'can add post',\n",
    "                  'can delete post', 'can ban user')\n",
    "new_admin.privileges.show_privileges()"
   ]
  },
  {
   "cell_type": "code",
   "execution_count": 78,
   "metadata": {},
   "outputs": [
    {
     "name": "stdout",
     "output_type": "stream",
     "text": [
      "2024 Nissan Leaf\n",
      "This car has a 40 battery size.\n",
      "THis car can go about 150 miles on a full charge.\n",
      "THis car can go about 225 miles on a full charge.\n"
     ]
    }
   ],
   "source": [
    "# 9-9. Battery Upgrade\n",
    "\n",
    "# 1. Use the final version of electric car, add a method to the Battery class\n",
    "#    called upgrade_battery(), and it should check the battery size & set the\n",
    "#    capacity to 65 if it isn't already.\n",
    "# 2. Make an electric car with the default battery size, get_range() once, and\n",
    "#    then call get_range() a second time after upgrading the battery\n",
    "\n",
    "class Car:\n",
    "    \"\"\"A simple attempt to model a car.\"\"\"\n",
    "\n",
    "    def __init__(self, make, model, year):\n",
    "        \"\"\"Initialize attributes to describe a car.\"\"\"\n",
    "        self.make = make\n",
    "        self.model = model\n",
    "        self.year = year\n",
    "        self.odometer_reading = 0 # here is the attribute w/ the default value\n",
    "\n",
    "    def get_descriptive_name(self):\n",
    "        \"\"\"Return a neatly formatted descriptive name.\"\"\"\n",
    "        long_name = f\"{self.year} {self.make} {self.model}\"\n",
    "        return long_name.title()\n",
    "    \n",
    "    def read_odometer(self):\n",
    "        \"\"\"Print a statement showing the car's mileage.\"\"\"\n",
    "        print(f\"This car has {self.odometer_reading} miles on it.\")\n",
    "\n",
    "    def update_odometer(self, mileage):\n",
    "        \"\"\"Set the odometer reading to the given value.\"\"\"\n",
    "        self.odometer_reading = mileage\n",
    "\n",
    "    def increment_odometer(self, miles):\n",
    "        \"\"\"Add the given amount to the odometer reading.\"\"\"\n",
    "        self.odometer_reading += miles\n",
    "\n",
    "\n",
    "class Battery:\n",
    "    \"\"\"An attempt to model a battery for an electric car.\"\"\"\n",
    "    def __init__(self, battery_size=40):\n",
    "        \"\"\"Initialize the battery's attributes.\"\"\"\n",
    "        self.battery_size = battery_size\n",
    "\n",
    "    def describe_battery(self):\n",
    "        \"\"\"Print a statement describing the battery's size.\"\"\"\n",
    "        print(f\"This car has a {self.battery_size} battery size.\")\n",
    "\n",
    "    def get_range(self):\n",
    "        \"\"\"Print a statement about the range this battery provides.\"\"\"\n",
    "        if self.battery_size == 40:\n",
    "            range = 150\n",
    "        elif self.battery_size == 65:\n",
    "            range = 225\n",
    "\n",
    "        print(f\"THis car can go about {range} miles on a full charge.\")\n",
    "\n",
    "    def upgrade_battery(self):\n",
    "        if self.battery_size != 65:\n",
    "            self.battery_size = 65\n",
    "\n",
    "\n",
    "class ElectricCar(Car): \n",
    "    \"\"\"Represent aspects of a car, specific to electric vehicles.\"\"\"\n",
    "\n",
    "    def __init__(self, make, model, year):\n",
    "        \"\"\"\n",
    "        Initialize attributes of the parent class.\n",
    "        Then initialize attributes specific to an electric car.\n",
    "        \"\"\"\n",
    "\n",
    "        super().__init__(make, model, year) \n",
    "        self.battery = Battery()\n",
    "\n",
    "my_leaf = ElectricCar('nissan', 'leaf', 2024)\n",
    "print(my_leaf.get_descriptive_name())\n",
    "my_leaf.battery.describe_battery()\n",
    "my_leaf.battery.get_range()\n",
    "my_leaf.battery.upgrade_battery()\n",
    "my_leaf.battery.get_range()"
   ]
  },
  {
   "cell_type": "code",
   "execution_count": null,
   "metadata": {},
   "outputs": [],
   "source": [
    "# Importing Classes\n",
    "\n",
    "# As you add more functionality to your classes, your files can get long\n",
    "#   even when you use inheritance and composition properly, so you'll want to\n",
    "#   keep your files as uncluttered as possible. To help, Python lets you store\n",
    "#   your classes in modules and then import the classes you need into your\n",
    "#   main program. "
   ]
  },
  {
   "cell_type": "code",
   "execution_count": 80,
   "metadata": {},
   "outputs": [
    {
     "name": "stdout",
     "output_type": "stream",
     "text": [
      "2024 Audi A4\n",
      "This car has 23 miles on it.\n"
     ]
    }
   ],
   "source": [
    "# Importing a Single Class\n",
    "\n",
    "# In the car.py file that we created, we included a module_level docstring\n",
    "#   and you should do this for each module you create.\n",
    "from car import Car\n",
    "\n",
    "my_new_car = Car('audi', 'a4', 2024)\n",
    "print(my_new_car.get_descriptive_name())\n",
    "my_new_car.odometer_reading = 23\n",
    "my_new_car.read_odometer()"
   ]
  },
  {
   "cell_type": "code",
   "execution_count": 1,
   "metadata": {},
   "outputs": [
    {
     "name": "stdout",
     "output_type": "stream",
     "text": [
      "2024 Nissan Leaf\n",
      "This car has a 40 battery size.\n",
      "THis car can go about 150 miles on a full charge.\n"
     ]
    }
   ],
   "source": [
    "# Storing Multiple Classes in a Module (car.py)\n",
    "\n",
    "# You can store as many classes as you need in a single module, although\n",
    "#   each module should be related somehow, but of course the Battery and\n",
    "#   ElectricCar both help represent cars, so they should be added\n",
    "from car import ElectricCar\n",
    "\n",
    "my_leaf = ElectricCar('nissan', 'leaf', 2024)\n",
    "print(my_leaf.get_descriptive_name())\n",
    "my_leaf.battery.describe_battery()\n",
    "my_leaf.battery.get_range()"
   ]
  },
  {
   "cell_type": "code",
   "execution_count": 2,
   "metadata": {},
   "outputs": [
    {
     "name": "stdout",
     "output_type": "stream",
     "text": [
      "2024 Ford Mustang\n",
      "2024 Nissan Leaf\n"
     ]
    }
   ],
   "source": [
    "# Importing Multiple Classes from a Module\n",
    "from car import Car, ElectricCar\n",
    "\n",
    "my_mustang = Car('ford', 'mustang', 2024)\n",
    "print(my_mustang.get_descriptive_name())\n",
    "my_leaf = ElectricCar('nissan', 'leaf', 2024)\n",
    "print(my_leaf.get_descriptive_name())"
   ]
  },
  {
   "cell_type": "code",
   "execution_count": 3,
   "metadata": {},
   "outputs": [
    {
     "name": "stdout",
     "output_type": "stream",
     "text": [
      "2024 Ford Mustang\n",
      "2024 Nissan Leaf\n"
     ]
    }
   ],
   "source": [
    "# Importing an Entire Module\n",
    "import car\n",
    "\n",
    "my_mustang = Car('ford', 'mustang', 2024)\n",
    "print(my_mustang.get_descriptive_name())\n",
    "\n",
    "my_leaf = ElectricCar('nissan', 'leaf', 2024)\n",
    "print(my_leaf.get_descriptive_name())"
   ]
  },
  {
   "cell_type": "code",
   "execution_count": null,
   "metadata": {},
   "outputs": [],
   "source": [
    "# Importing All Classes from a Module\n",
    "\n",
    "from module_name import *\n",
    "\n",
    "# This method is not recommended because:\n",
    "# 1. It is unclear which classes you're using from the module\n",
    "# 2. If you accidentally import a class with the same name as something else\n",
    "#   in the in your program file, you can create hard to diagnose errors\n",
    "\n",
    "# If you want to importing many classes from a module, you're much better off\n",
    "#   importing the entire module and using the module_name.ClassName syntax"
   ]
  },
  {
   "cell_type": "code",
   "execution_count": null,
   "metadata": {},
   "outputs": [],
   "source": [
    "# Importing a Module into a Module\n",
    "\n",
    "# Sometimes you'll want to spread out your classes over several modules to\n",
    "#   keep any one file from growing too large and avoid storing unrelated\n",
    "#   classes in the same module. When you store your classes in several modules\n",
    "#   you may find that a class in one module depends on a class in another\n",
    "#   module, so you can import the required class into the first module. \n",
    "\n",
    "# For example, if we store the Car class in one module, and ElectricCar and\n",
    "#   Battery in another, we will need to import Car into the new module as they\n",
    "#   depend on this class."
   ]
  },
  {
   "cell_type": "code",
   "execution_count": 7,
   "metadata": {},
   "outputs": [],
   "source": [
    "# Using Aliases\n",
    "\n",
    "# Like in chapter 8, aliases can be helpful when using modules to organize\n",
    "#   your projects code, and we can use them like this:\n",
    "\n",
    "from car import ElectricCar as EC\n",
    "my_leaf = EC('nissan', 'leaf', 2024)\n",
    "\n",
    "# We can also give the whole module an alias:\n",
    "import car as c"
   ]
  },
  {
   "cell_type": "code",
   "execution_count": null,
   "metadata": {},
   "outputs": [],
   "source": [
    "# Finding Your Own Workflow\n",
    "\n",
    "# There are many options for how to structure code in a large project,\n",
    "#   but when you are starting out, start simple with one file, and move your\n",
    "#   classes to separate files once everything is working. If you like how \n",
    "#   modules and files interact, you can try to store your classes in modules\n",
    "#   when you start a project. Find an approach you like, and go from there."
   ]
  },
  {
   "cell_type": "code",
   "execution_count": 11,
   "metadata": {},
   "outputs": [
    {
     "name": "stdout",
     "output_type": "stream",
     "text": [
      "Connor's Restaurant has served 500 customers.\n"
     ]
    }
   ],
   "source": [
    "# 9-10. Imported Restaurant\n",
    "\n",
    "# 1. Using your latest Restaurant class, store it in a module.\n",
    "# 2. Import Restaurant, make an instance of Restaurant, and call one of the\n",
    "#    methods to show that it is working properly.\n",
    "\n",
    "from restaurants import Restaurant \n",
    "\n",
    "restaurant = Restaurant(\"Connor's Restaurant\", 'Italian')\n",
    "restaurant.number_served = 500\n",
    "print_number_served = (f\"{restaurant.restaurant_name} has served\")\n",
    "print_number_served += (f\" {restaurant.number_served} customers.\")\n",
    "print(print_number_served)"
   ]
  },
  {
   "cell_type": "code",
   "execution_count": 12,
   "metadata": {},
   "outputs": [
    {
     "name": "stdout",
     "output_type": "stream",
     "text": [
      "Privileges:\n",
      "Can Add Post\n",
      "Can Delete Post\n",
      "Can Ban User\n"
     ]
    }
   ],
   "source": [
    "# 9-11. Imported Admin\n",
    "\n",
    "# 1. Start with your work from 9-8, store the classes in a module.\n",
    "# 2. Import the module, Make an Admin instance, call show_privilges()\n",
    "from users import Admin\n",
    "\n",
    "new_admin = Admin('connor', 'connor', 'raney', 20, 'can add post',\n",
    "                  'can delete post', 'can ban user')\n",
    "new_admin.privileges.show_privileges()"
   ]
  },
  {
   "cell_type": "code",
   "execution_count": 15,
   "metadata": {},
   "outputs": [
    {
     "name": "stdout",
     "output_type": "stream",
     "text": [
      "Privileges:\n",
      "Can Add Post\n",
      "Can Delete Post\n",
      "Can Ban User\n"
     ]
    }
   ],
   "source": [
    "# 9-12. Multiple Modules\n",
    "\n",
    "# 1. Store the User class in one module, and store the Privilges and Admin\n",
    "#    classes in a separate module.\n",
    "# 2. Make an Admin instance and call show_privilges() to show it is working\n",
    "\n",
    "from adminprivilges import Admin, Privileges\n",
    "\n",
    "new_admin = Admin('connor', 'connor', 'raney', 20, 'can add post',\n",
    "                  'can delete post', 'can ban user')\n",
    "\n",
    "new_admin.privileges.show_privileges()"
   ]
  },
  {
   "cell_type": "code",
   "execution_count": null,
   "metadata": {},
   "outputs": [],
   "source": [
    "# The Python Standard Library\n",
    "\n",
    "# There is a set of modules included with every Python installation, and now\n",
    "#   that we have learned how to use these types of modules, we can use them"
   ]
  },
  {
   "cell_type": "code",
   "execution_count": 17,
   "metadata": {},
   "outputs": [
    {
     "data": {
      "text/plain": [
       "'martina'"
      ]
     },
     "execution_count": 17,
     "metadata": {},
     "output_type": "execute_result"
    }
   ],
   "source": [
    "# The Random Module\n",
    "\n",
    "# randint()\n",
    "from random import randint\n",
    "randint(1,6)\n",
    "\n",
    "# The choice() function\n",
    "from random import choice\n",
    "players = ['charles', 'martina', 'michael', 'florence', 'eli']\n",
    "first_up = choice(players)\n",
    "# choice takes in a list or tuple and chooses a randomly chosen element"
   ]
  },
  {
   "cell_type": "code",
   "execution_count": 19,
   "metadata": {},
   "outputs": [
    {
     "name": "stdout",
     "output_type": "stream",
     "text": [
      "1\n",
      "4\n",
      "6\n",
      "5\n",
      "6\n",
      "2\n",
      "2\n",
      "1\n",
      "2\n",
      "6\n"
     ]
    }
   ],
   "source": [
    "# 9-13. Dice\n",
    "\n",
    "# 1. Make a class Die, with one attribute called sides, which has a default\n",
    "#    value of 6\n",
    "# 2. Write a method called roll_die() that prints a random number between 1 and\n",
    "#    the number of sides that the die has\n",
    "# 3. Make a 6 sided die and roll it 10 times\n",
    "\n",
    "class Die:\n",
    "    \"\"\"An attempt at making a die and some things that have to do with it.\"\"\"\n",
    "    def __init__(self, sides):\n",
    "        self.sides = sides\n",
    "    \n",
    "    def roll_die(self):\n",
    "        number_rolled = randint(1, self.sides)\n",
    "        return number_rolled\n",
    "\n",
    "my_die = Die(6)\n",
    "print(my_die.roll_die())\n",
    "print(my_die.roll_die())\n",
    "print(my_die.roll_die())\n",
    "print(my_die.roll_die())\n",
    "print(my_die.roll_die())\n",
    "print(my_die.roll_die())\n",
    "print(my_die.roll_die())\n",
    "print(my_die.roll_die())\n",
    "print(my_die.roll_die())\n",
    "print(my_die.roll_die())"
   ]
  },
  {
   "cell_type": "code",
   "execution_count": 27,
   "metadata": {},
   "outputs": [
    {
     "name": "stdout",
     "output_type": "stream",
     "text": [
      "The winning numbers are: 4347!\n"
     ]
    }
   ],
   "source": [
    "# 9-14. Lottery\n",
    "\n",
    "# 1. Make a list or a tuple containing a series of 10 numbers and 5 letters\n",
    "# 2. Randomly select 4 numbers or letters from the list and print a msg. saying\n",
    "#    that any ticket matching these 4 numbers or letters wins a prize\n",
    "from random import choices\n",
    "\n",
    "class Lottery:\n",
    "    \"\"\"A class which runs a lottery for a list of numbers.\"\"\"\n",
    "    def __init__(self, numbers):\n",
    "        self.numbers = numbers\n",
    "\n",
    "    def run_lottery(self, amount_of_winning_numbers):\n",
    "        winning_numbers = choices(self.numbers, k=amount_of_winning_numbers)\n",
    "        return ''.join(map(str, winning_numbers)) # convert numbers to str \n",
    "                                                  # & join them together\n",
    "\n",
    "lottery_numbers = [1, 2, 3, 4, 5, 6, 7, 8, 9, 0]\n",
    "lottery_instance = Lottery(lottery_numbers)\n",
    "winning_numbers = lottery_instance.run_lottery(4)\n",
    "print(f\"The winning numbers are: {winning_numbers}!\")"
   ]
  },
  {
   "cell_type": "code",
   "execution_count": 35,
   "metadata": {},
   "outputs": [
    {
     "name": "stdout",
     "output_type": "stream",
     "text": [
      "It took 52498 amount of runs for your ticket to win.\n"
     ]
    }
   ],
   "source": [
    "# 9-15. Lottery Analysis\n",
    "\n",
    "# 1. Use a loop to see how hard it might be to win the kind of lottery that\n",
    "#    you just modeled. \n",
    "# 2. Make a list or tuple called my_ticket, and write a loop that keeps\n",
    "#    pulling numbers until your ticket wins. \n",
    "# 3. Print a message reporting how many times the loop had to run to give you\n",
    "#    a winning ticket.\n",
    "\n",
    "my_ticket = \"3726\"\n",
    "x = 1 # for one run\n",
    "while winning_numbers != my_ticket:\n",
    "    winning_numbers = lottery_instance.run_lottery(4)\n",
    "    x += 1\n",
    "print(f\"It took {x} amount of runs for your ticket to win.\")"
   ]
  }
 ],
 "metadata": {
  "kernelspec": {
   "display_name": "myenv",
   "language": "python",
   "name": "python3"
  },
  "language_info": {
   "codemirror_mode": {
    "name": "ipython",
    "version": 3
   },
   "file_extension": ".py",
   "mimetype": "text/x-python",
   "name": "python",
   "nbconvert_exporter": "python",
   "pygments_lexer": "ipython3",
   "version": "3.12.3"
  }
 },
 "nbformat": 4,
 "nbformat_minor": 2
}
