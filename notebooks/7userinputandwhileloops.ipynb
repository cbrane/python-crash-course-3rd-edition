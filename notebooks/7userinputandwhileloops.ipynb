{
 "cells": [
  {
   "cell_type": "code",
   "execution_count": 2,
   "metadata": {},
   "outputs": [
    {
     "name": "stdout",
     "output_type": "stream",
     "text": [
      "hey\n"
     ]
    }
   ],
   "source": [
    "# Chapter 7 - User Input and While Loops\n",
    "\n",
    "# The input() function pauses your program and waits for the user to enter\n",
    "# some text, and then assigns that input to a variable to work with after:\n",
    "\n",
    "message = input(\"Tell me something, and I will repeat it back to you: \")\n",
    "print(message)"
   ]
  },
  {
   "cell_type": "code",
   "execution_count": 4,
   "metadata": {},
   "outputs": [
    {
     "name": "stdout",
     "output_type": "stream",
     "text": [
      "\n",
      "Hello, Connor!\n",
      "\n",
      "Hello, Connor!\n"
     ]
    }
   ],
   "source": [
    "# Writing Clear Prompts\n",
    "\n",
    "# Each time you use input() you should include a clear & easy to follow prompt:\n",
    "\n",
    "name = input(\"Please enter your name: \")\n",
    "print(f\"\\nHello, {name}!\")"
   ]
  },
  {
   "cell_type": "code",
   "execution_count": 5,
   "metadata": {},
   "outputs": [
    {
     "name": "stdout",
     "output_type": "stream",
     "text": [
      "\n",
      "Hello, !\n"
     ]
    }
   ],
   "source": [
    "# Sometimes you will want to write a prompt that is longer than one line:\n",
    "\n",
    "prompt = \"If you share your name, we can personalize the messages you see.\"\n",
    "# We can assign the whole prompt to a variable, and then pass this var to input.\n",
    "prompt += \"\\nWhat is your first name?\"\n",
    "# += takes the string and adds the new string onto the end.\n",
    "\n",
    "name = input(prompt)\n",
    "print(f\"\\nHello, {name}!\")"
   ]
  },
  {
   "cell_type": "code",
   "execution_count": 8,
   "metadata": {},
   "outputs": [
    {
     "data": {
      "text/plain": [
       "True"
      ]
     },
     "execution_count": 8,
     "metadata": {},
     "output_type": "execute_result"
    }
   ],
   "source": [
    "# Using int() to Accept Numerical Input\n",
    "\n",
    "# Normally, input() interprets everything as a string, so we can print it,\n",
    "#   but if we want to use their input, we need to have it formatted differently\n",
    "\n",
    "age = input(\"How old are you? \")\n",
    "age = int(age)\n",
    "age >= 18 # Now we can run the conditional test, since we used int()"
   ]
  },
  {
   "cell_type": "code",
   "execution_count": 9,
   "metadata": {},
   "outputs": [
    {
     "name": "stdout",
     "output_type": "stream",
     "text": [
      "\n",
      "You're tall enough to ride!\n"
     ]
    }
   ],
   "source": [
    "# Another example of using int()\n",
    "\n",
    "height = input(\"How tall are you, in inches? \")\n",
    "height = int(height)\n",
    "\n",
    "if height >= 48:\n",
    "    print(\"\\nYou're tall enough to ride!\")\n",
    "else:\n",
    "    print(\"\\nYou'll be able to ride when you're a little older.\")"
   ]
  },
  {
   "cell_type": "code",
   "execution_count": 14,
   "metadata": {},
   "outputs": [
    {
     "name": "stdout",
     "output_type": "stream",
     "text": [
      "1\n",
      "2\n",
      "0\n",
      "1\n",
      "\n",
      "The number 3 is odd.\n"
     ]
    }
   ],
   "source": [
    "# The Modulo Operator\n",
    "# A useful tool where it divides one number by another number and returns the\n",
    "#   remainder:\n",
    "\n",
    "print(4 % 3)\n",
    "print(5 % 3)\n",
    "print(6 % 3)\n",
    "print(7 % 3)\n",
    "\n",
    "# It doesn't tell you how many times the number fits into one, just remainder\n",
    "\n",
    "number = input(\"Enter a number and I'll tell you if it's even or odd: \")\n",
    "number = int(number)\n",
    "\n",
    "if number % 2 == 0:\n",
    "    print(f\"\\nThe number {number} is even.\")\n",
    "else:\n",
    "    print(f\"\\nThe number {number} is odd.\")"
   ]
  },
  {
   "cell_type": "code",
   "execution_count": 17,
   "metadata": {},
   "outputs": [
    {
     "name": "stdout",
     "output_type": "stream",
     "text": [
      "\n",
      "Let me see if I can get you a Honda.\n"
     ]
    }
   ],
   "source": [
    "# 7-1. Rental Car\n",
    "\n",
    "# Write a program that asks the user what kind of rental car they would like.\n",
    "#   Then, print a message about that car.\n",
    "\n",
    "prompt = input(\"What kind of rental car would you like? \")\n",
    "print(f\"\\nLet me see if I can get you a {prompt}.\")"
   ]
  },
  {
   "cell_type": "code",
   "execution_count": 19,
   "metadata": {},
   "outputs": [
    {
     "name": "stdout",
     "output_type": "stream",
     "text": [
      "\n",
      "Amazing, we have a table ready for you!\n"
     ]
    }
   ],
   "source": [
    "# 7-2. Restaurant Seating\n",
    "\n",
    "# Write a program asking how many people they have for dinner. If the answer\n",
    "#   is more than 8, print a message saying they'll have to wait for a table.\n",
    "\n",
    "number = input(\"Enter the amount of people in your dinner party: \")\n",
    "number = int(number)\n",
    "\n",
    "if number > 8:\n",
    "    print(f\"\\nSince you are a big party, you will have to wait for a table.\")\n",
    "else:\n",
    "    print(f\"\\nAmazing, we have a table ready for you!\")"
   ]
  },
  {
   "cell_type": "code",
   "execution_count": 22,
   "metadata": {},
   "outputs": [
    {
     "name": "stdout",
     "output_type": "stream",
     "text": [
      "\n",
      "Your number is a multiple of ten.\n"
     ]
    }
   ],
   "source": [
    "# 7-3. Multiple of Ten\n",
    "\n",
    "# Ask the user for a number, and then report whether the number is a multiple\n",
    "#   of 10 or not.\n",
    "\n",
    "number = input(\"Enter your number: \")\n",
    "number = int(number)\n",
    "\n",
    "if number % 10 == 0:\n",
    "    print(f\"\\nYour number is a multiple of ten.\")\n",
    "else:\n",
    "    print(f\"\\nYour number is not a multiple of ten.\")"
   ]
  },
  {
   "cell_type": "code",
   "execution_count": 25,
   "metadata": {},
   "outputs": [
    {
     "name": "stdout",
     "output_type": "stream",
     "text": [
      "1\n",
      "2\n",
      "3\n",
      "4\n",
      "5\n"
     ]
    }
   ],
   "source": [
    "# Introducing while Loops\n",
    "\n",
    "# A for loop takes a collection of items and executes a block of code once for\n",
    "#   each item in the collection, meanwhile a while loop runs as long as or\n",
    "#   *while* a certain condition is true.\n",
    "\n",
    "# The while Loop in Action\n",
    "\n",
    "current_number = 1\n",
    "while current_number <= 5:\n",
    "    print(current_number)\n",
    "    current_number += 1"
   ]
  },
  {
   "cell_type": "code",
   "execution_count": 26,
   "metadata": {},
   "outputs": [
    {
     "name": "stdout",
     "output_type": "stream",
     "text": [
      "My name is Connor!\n",
      "\n",
      "quit\n"
     ]
    }
   ],
   "source": [
    "# Letting the User Choose When to Quit\n",
    "\n",
    "prompt = \"\\nTell me something, and I will repeat it back to you:\"\n",
    "prompt += \"\\nEnter 'quit' to end the program.\"\n",
    "\n",
    "message = \"\"\n",
    "while message != 'quit':\n",
    "    message = input(prompt)\n",
    "    print(message)"
   ]
  },
  {
   "cell_type": "code",
   "execution_count": 27,
   "metadata": {},
   "outputs": [
    {
     "name": "stdout",
     "output_type": "stream",
     "text": [
      "Connor\n",
      "Connor\n",
      "Hey\n",
      "Hey\n",
      "Hey\n"
     ]
    }
   ],
   "source": [
    "# Using a Flag\n",
    "\n",
    "# We can use a flag as a signal to this program, so it only has to check 1 cond.\n",
    "\n",
    "prompt = \"\\nTell me something, and I will repeat it back to you:\"\n",
    "prompt += \"\\nEnter 'quit' to end the program.\"\n",
    "\n",
    "# The flag:\n",
    "active = True # set this to true so program starts in an active state\n",
    "while active:\n",
    "    message = input(prompt)\n",
    "\n",
    "    if message == 'quit':\n",
    "        active = False\n",
    "    else:\n",
    "        print(message)"
   ]
  },
  {
   "cell_type": "code",
   "execution_count": 28,
   "metadata": {},
   "outputs": [
    {
     "name": "stdout",
     "output_type": "stream",
     "text": [
      "I'd love to go to New York City!\n"
     ]
    }
   ],
   "source": [
    "# Using break to Exit a Loop\n",
    "# To exit a while loop immediately without running any remaining code,\n",
    "#   you can use the break statement\n",
    "\n",
    "prompt = \"\\nPlease enter the name of a city you have visited:\"\n",
    "prompt += \"\\n(Enter 'quit' when you are finished.)\"\n",
    "\n",
    "while True: # a loop that starts with while True will run forever unless break.\n",
    "    city = input(prompt)\n",
    "\n",
    "    if city == 'quit':\n",
    "        break\n",
    "    else:\n",
    "        print(f\"I'd love to go to {city.title()}!\")\n",
    "\n",
    "# Note that you can use the break statement in any of Python's loops, so you\n",
    "#   could also use it to quit a for loop that's working thru a dictionary."
   ]
  },
  {
   "cell_type": "code",
   "execution_count": 29,
   "metadata": {},
   "outputs": [
    {
     "name": "stdout",
     "output_type": "stream",
     "text": [
      "1\n",
      "3\n",
      "5\n",
      "7\n",
      "9\n"
     ]
    }
   ],
   "source": [
    "# Using continue in a Loop\n",
    "\n",
    "# Rather than breaking out a loop entirely without executing the rest of its code,\n",
    "#   you can use continue statement to return to the beginning of the loop.\n",
    "\n",
    "# In this example, we print out the \n",
    "current_number = 0\n",
    "while current_number < 10:\n",
    "    current_number += 1\n",
    "    if current_number % 2 == 0:\n",
    "        continue\n",
    "\n",
    "    print(current_number)"
   ]
  },
  {
   "cell_type": "code",
   "execution_count": null,
   "metadata": {},
   "outputs": [],
   "source": [
    "# Avoiding Infinite Loops\n",
    "# Every while loop needs a way to stop running so it won't continue forever\n",
    "\n",
    "x = 1\n",
    "while x <= 5:\n",
    "    print(x)\n",
    "    x += 1\n",
    "\n",
    "# However, if you omit the x += 1 line, it will run forever!"
   ]
  },
  {
   "cell_type": "code",
   "execution_count": 31,
   "metadata": {},
   "outputs": [
    {
     "name": "stdout",
     "output_type": "stream",
     "text": [
      "I will add pepperoni to your pizza!\n",
      "I will add cheese to your pizza!\n",
      "I will add lol to your pizza!\n"
     ]
    }
   ],
   "source": [
    "# 7-4. Pizza Toppings:\n",
    "\n",
    "# Write a loop that prompts the user to enter a series of pizza toppings until\n",
    "#   they enter a 'quit' value. As they enter each topping, print a message\n",
    "#   saying you'll add that topping to their pizza.\n",
    "\n",
    "prompt = \"\\nPlease enter the name of a city you have visited:\"\n",
    "prompt += \"\\n(Enter 'quit' when you are finished.)\"\n",
    "\n",
    "while True: # a loop that starts with while True will run forever unless break.\n",
    "    topping = input(prompt)\n",
    "\n",
    "    if topping == 'quit':\n",
    "        break\n",
    "    else:\n",
    "        print(f\"I will add {topping} to your pizza!\")"
   ]
  },
  {
   "cell_type": "code",
   "execution_count": 35,
   "metadata": {},
   "outputs": [
    {
     "name": "stdout",
     "output_type": "stream",
     "text": [
      "Your ticket will be $10.\n"
     ]
    }
   ],
   "source": [
    "# 7-5. Movie Tickets\n",
    "\n",
    "# Write a loop where you ask users their age, and tell them the cost of their\n",
    "#   movie ticket. < 3 is free, 3-12 is $10, and > 12 is $15.\n",
    "\n",
    "prompt = \"\\nPlease enter your age.\"\n",
    "\n",
    "age = input(prompt)\n",
    "age = int(age)\n",
    "    \n",
    "if age < 3:\n",
    "        print(\"Your ticket is free since you are under 3!\")\n",
    "elif age <= 12: \n",
    "        print(\"Your ticket will be $10.\")\n",
    "else:\n",
    "        print(\"Your ticket will be $15.\")"
   ]
  },
  {
   "cell_type": "code",
   "execution_count": 36,
   "metadata": {},
   "outputs": [
    {
     "name": "stdout",
     "output_type": "stream",
     "text": [
      "Verifying user: Candace\n",
      "Verifying user: Brian\n",
      "Verifying user: Alice\n",
      "\n",
      "The following users have been confirmed:\n",
      "Candace\n",
      "Brian\n",
      "Alice\n"
     ]
    }
   ],
   "source": [
    "# Using a while Loop with Lists and Dictionaries\n",
    "# You shouldn't use a for loop to modify lists since Python will have trouble\n",
    "#   keeping track of the items in the list, so use a while loop.\n",
    "\n",
    "# Moving Items from One List to Another\n",
    "\n",
    "# Start with users that need to be verified,\n",
    "#   and an empty list to hold confirmed users.\n",
    "\n",
    "unconfirmed_users = ['alice', 'brian', 'candace']\n",
    "confirmed_users = []\n",
    "\n",
    "# Verify each user until there are no more unconfirmed users. \n",
    "#   Move each verified user into the list of confimed users.\n",
    "while unconfirmed_users:\n",
    "    current_user = unconfirmed_users.pop()\n",
    "\n",
    "    print(f\"Verifying user: {current_user.title()}\")\n",
    "    confirmed_users.append(current_user)\n",
    "\n",
    "# Display all confirmed users.\n",
    "print(\"\\nThe following users have been confirmed:\")\n",
    "for confirmed_user in confirmed_users:\n",
    "    print(confirmed_user.title())"
   ]
  },
  {
   "cell_type": "code",
   "execution_count": 38,
   "metadata": {},
   "outputs": [
    {
     "name": "stdout",
     "output_type": "stream",
     "text": [
      "['dog', 'cat', 'dog', 'goldfish', 'cat', 'rabbit', 'cat']\n",
      "['dog', 'dog', 'goldfish', 'rabbit']\n"
     ]
    }
   ],
   "source": [
    "# Removing All Instances of Specific Values from a List\n",
    "\n",
    "pets = ['dog', 'cat', 'dog', 'goldfish', 'cat', 'rabbit', 'cat']\n",
    "print(pets)\n",
    "\n",
    "while 'cat' in pets:\n",
    "    pets.remove('cat')\n",
    "\n",
    "print(pets)"
   ]
  },
  {
   "cell_type": "code",
   "execution_count": 39,
   "metadata": {},
   "outputs": [
    {
     "name": "stdout",
     "output_type": "stream",
     "text": [
      "\n",
      "--- Poll Results ---\n",
      "Connor would like to climb Fiji.\n"
     ]
    }
   ],
   "source": [
    "# Filling a Dictionary with User Input\n",
    "# You can prompt for as much input as you need in each pass thru a while loop\n",
    "\n",
    "responses = {}\n",
    "# Set a flag to indicate that polling is active.\n",
    "polling_active = True\n",
    "\n",
    "while polling_active:\n",
    "    # Prompt for the person's name and response.\n",
    "    name = input(\"\\nWhat is your name? \")\n",
    "    response = input(\"Which mountain would you like to climb someday? \")\n",
    "\n",
    "    # Store the response in the dictionary.\n",
    "    responses[name] = response\n",
    "\n",
    "    # Find out if anyone else is going to take the poll.\n",
    "    repeat = input(\"Would you like to let another person respond? (yes/no) \")\n",
    "    if repeat == 'no':\n",
    "        polling_active = False\n",
    "\n",
    "# Polling is complete. Show the results.\n",
    "print(\"\\n--- Poll Results ---\")\n",
    "for name, response in responses.items():\n",
    "    print(f\"{name} would like to climb {response}.\")"
   ]
  },
  {
   "cell_type": "code",
   "execution_count": 40,
   "metadata": {},
   "outputs": [
    {
     "name": "stdout",
     "output_type": "stream",
     "text": [
      "We are currently making the firehouse sandwich.\n",
      "We are currently making the redgate sandwich.\n",
      "We are currently making the italian sandwich.\n",
      "We are currently making the pastrami sandwich.\n",
      "\n",
      "The following sandwiches have been finished:\n",
      "Firehouse\n",
      "Redgate\n",
      "Italian\n",
      "Pastrami\n"
     ]
    }
   ],
   "source": [
    "# 7-8. Deli\n",
    "\n",
    "# Make a list called sandwich_orders and fill it with the names of sandwiches\n",
    "sandwich_orders = ['pastrami', 'italian', 'redgate', 'firehouse']\n",
    "\n",
    "# Make an empty list called finished_sandwiches\n",
    "finished_sandwiches = []\n",
    "\n",
    "# Loop through the list of sandwich orders and print a msg for each order\n",
    "while sandwich_orders:\n",
    "    current_sandwich = sandwich_orders.pop()\n",
    "    \n",
    "    print(f\"We are currently making the {current_sandwich} sandwich.\")\n",
    "    finished_sandwiches.append(current_sandwich)\n",
    "\n",
    "# Display all finished sandwiches.\n",
    "print(\"\\nThe following sandwiches have been finished:\")\n",
    "for finished_sandwich in finished_sandwiches:\n",
    "    print(finished_sandwich.title())"
   ]
  },
  {
   "cell_type": "code",
   "execution_count": 41,
   "metadata": {},
   "outputs": [
    {
     "name": "stdout",
     "output_type": "stream",
     "text": [
      "\n",
      "Oh no! We have unfortunately run out of pastrami, we are so sorry.\n",
      "We are currently making the firehouse sandwich.\n",
      "We are currently making the redgate sandwich.\n",
      "We are currently making the italian sandwich.\n",
      "\n",
      "The following sandwiches have been finished:\n",
      "Firehouse\n",
      "Redgate\n",
      "Italian\n"
     ]
    }
   ],
   "source": [
    "# 7-9. No Pastrami\n",
    "\n",
    "# Using the list sandwich_orders from 7-8, make sure 'pastrami' appears in list\n",
    "#   at least three times. Add code at the beginning to say the deli has run out\n",
    "#   of pastrami, and then use a while loop to remove all occurences of 'pastrami'\n",
    "#   from sandwich_orders. \n",
    "\n",
    "sandwich_orders = ['pastrami', 'pastrami', 'pastrami', 'italian', 'redgate', 'firehouse']\n",
    "finished_sandwiches = []\n",
    "\n",
    "print(\"\\nOh no! We have unfortunately run out of pastrami, we are so sorry.\")\n",
    "while 'pastrami' in sandwich_orders:\n",
    "    sandwich_orders.remove('pastrami')\n",
    "    \n",
    "# Loop through the list of sandwich orders and print a msg for each order\n",
    "while sandwich_orders:\n",
    "    current_sandwich = sandwich_orders.pop()\n",
    "    \n",
    "    print(f\"We are currently making the {current_sandwich} sandwich.\")\n",
    "    finished_sandwiches.append(current_sandwich)\n",
    "\n",
    "# Display all finished sandwiches.\n",
    "print(\"\\nThe following sandwiches have been finished:\")\n",
    "for finished_sandwich in finished_sandwiches:\n",
    "    print(finished_sandwich.title())"
   ]
  },
  {
   "cell_type": "code",
   "execution_count": 42,
   "metadata": {},
   "outputs": [
    {
     "name": "stdout",
     "output_type": "stream",
     "text": [
      "\n",
      "--- Poll Results ---\n",
      "Connor's dream vacation place is Hawaii!\n",
      "David's dream vacation place is Kansas!\n"
     ]
    }
   ],
   "source": [
    "# 7-10. Dream Vacation\n",
    "# Write a program that polls users about their dream vacation, and print the results.\n",
    "\n",
    "responses = {}\n",
    "# Set a flag to indicate that polling is active.\n",
    "polling_active = True\n",
    "\n",
    "while polling_active:\n",
    "    # Prompt for the person's name and response.\n",
    "    name = input(\"\\nWhat is your name? \")\n",
    "    response = input(\"Where is your dream vacation spot? \")\n",
    "\n",
    "    # Store the response in the dictionary.\n",
    "    responses[name] = response\n",
    "\n",
    "    # Find out if anyone else is going to take the poll.\n",
    "    repeat = input(\"Would you like to let another person respond? (yes/no) \")\n",
    "    if repeat == 'no':\n",
    "        polling_active = False\n",
    "\n",
    "# Polling is complete. Show the results.\n",
    "print(\"\\n--- Poll Results ---\")\n",
    "for name, response in responses.items():\n",
    "    print(f\"{name}'s dream vacation place is {response}!\")"
   ]
  }
 ],
 "metadata": {
  "kernelspec": {
   "display_name": "myenv",
   "language": "python",
   "name": "python3"
  },
  "language_info": {
   "codemirror_mode": {
    "name": "ipython",
    "version": 3
   },
   "file_extension": ".py",
   "mimetype": "text/x-python",
   "name": "python",
   "nbconvert_exporter": "python",
   "pygments_lexer": "ipython3",
   "version": "3.12.3"
  }
 },
 "nbformat": 4,
 "nbformat_minor": 2
}
