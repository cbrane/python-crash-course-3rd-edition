{
 "cells": [
  {
   "cell_type": "code",
   "execution_count": null,
   "metadata": {},
   "outputs": [],
   "source": [
    "# Chapter 10 - Files and Exceptions"
   ]
  },
  {
   "cell_type": "code",
   "execution_count": 7,
   "metadata": {},
   "outputs": [
    {
     "name": "stdout",
     "output_type": "stream",
     "text": [
      "3.1415926535\n",
      "  8979323846\n",
      "  2643383279\n"
     ]
    }
   ],
   "source": [
    "# Reading from a File\n",
    "from pathlib import Path\n",
    "\n",
    "path = Path('/Users/connorraney/Desktop/desktop/python_work/projectsourcefiles/pcc_3e-main/chapter_10/reading_from_a_file/pi_digits.txt')\n",
    "contents = path.read_text().rstrip()\n",
    "print(contents)"
   ]
  },
  {
   "cell_type": "code",
   "execution_count": 8,
   "metadata": {},
   "outputs": [
    {
     "name": "stdout",
     "output_type": "stream",
     "text": [
      "3.1415926535\n",
      "  8979323846\n",
      "  2643383279\n"
     ]
    }
   ],
   "source": [
    "# Accessing a File's Lines\n",
    "from pathlib import Path\n",
    "\n",
    "path = Path('/Users/connorraney/Desktop/desktop/python_work/projectsourcefiles/pcc_3e-main/chapter_10/reading_from_a_file/pi_digits.txt')\n",
    "contents = path.read_text()\n",
    "\n",
    "lines = contents.splitlines()\n",
    "for line in lines:\n",
    "    print(line)"
   ]
  },
  {
   "cell_type": "code",
   "execution_count": 10,
   "metadata": {},
   "outputs": [
    {
     "name": "stdout",
     "output_type": "stream",
     "text": [
      "3.141592653589793238462643383279\n",
      "32\n"
     ]
    }
   ],
   "source": [
    "# Working with a File's Contents\n",
    "from pathlib import Path\n",
    "\n",
    "path = Path('/Users/connorraney/Desktop/desktop/python_work/projectsourcefiles/pcc_3e-main/chapter_10/reading_from_a_file/pi_digits.txt')\n",
    "contents = path.read_text()\n",
    "\n",
    "lines = contents.splitlines()\n",
    "pi_string = ''\n",
    "for line in lines:\n",
    "    pi_string += line.lstrip()\n",
    "\n",
    "print(pi_string)\n",
    "print(len(pi_string))"
   ]
  },
  {
   "cell_type": "code",
   "execution_count": 14,
   "metadata": {},
   "outputs": [
    {
     "name": "stdout",
     "output_type": "stream",
     "text": [
      "3.14159265358979323846264338327950288419716939937510...\n",
      "1000002\n"
     ]
    }
   ],
   "source": [
    "# Large Files: One Million Digits\n",
    "\n",
    "from pathlib import Path\n",
    "\n",
    "path = Path('/Users/connorraney/Desktop/desktop/python_work/projectsourcefiles/pcc_3e-main/chapter_10/reading_from_a_file/pi_million_digits.txt')\n",
    "contents = path.read_text()\n",
    "\n",
    "lines = contents.splitlines()\n",
    "pi_string = ''\n",
    "for line in lines:\n",
    "    pi_string += line.lstrip()\n",
    "\n",
    "print(f\"{pi_string[:52]}...\")\n",
    "print(len(pi_string))"
   ]
  },
  {
   "cell_type": "code",
   "execution_count": 15,
   "metadata": {},
   "outputs": [
    {
     "name": "stdout",
     "output_type": "stream",
     "text": [
      "Your birthday appears in the first million digits of pi!\n"
     ]
    }
   ],
   "source": [
    "# Is Your Birthday Contained in Pi?\n",
    "\n",
    "from pathlib import Path\n",
    "\n",
    "path = Path('/Users/connorraney/Desktop/desktop/python_work/projectsourcefiles/pcc_3e-main/chapter_10/reading_from_a_file/pi_million_digits.txt')\n",
    "contents = path.read_text()\n",
    "\n",
    "lines = contents.splitlines()\n",
    "pi_string = ''\n",
    "for line in lines:\n",
    "    pi_string += line.lstrip()\n",
    "\n",
    "birthday = input(\"Enter your birthday, in the form mmddyy: \")\n",
    "if birthday in pi_string:\n",
    "    print(\"Your birthday appears in the first million digits of pi!\")\n",
    "else:\n",
    "    print(\"Your birthday does not appear in the first million digits of pi.\")"
   ]
  },
  {
   "cell_type": "code",
   "execution_count": 16,
   "metadata": {},
   "outputs": [
    {
     "data": {
      "text/plain": [
       "19"
      ]
     },
     "execution_count": 16,
     "metadata": {},
     "output_type": "execute_result"
    }
   ],
   "source": [
    "# Writing to a File\n",
    "\n",
    "from pathlib import Path\n",
    "\n",
    "path = Path('/Users/connorraney/Desktop/desktop/python_work/projectsourcefiles/pcc_3e-main/chapter_10/writing_to_a_file/programming.txt')\n",
    "path.write_text('I love programming.')\n",
    "\n",
    "# Note that Python can only write strings to a text file, and if you want to\n",
    "#   store numerical data in a text file, you'll have to convert the data to str\n",
    "#   format first using the str() function."
   ]
  },
  {
   "cell_type": "code",
   "execution_count": 17,
   "metadata": {},
   "outputs": [
    {
     "data": {
      "text/plain": [
       "75"
      ]
     },
     "execution_count": 17,
     "metadata": {},
     "output_type": "execute_result"
    }
   ],
   "source": [
    "# Writing Multiple Lines\n",
    "\n",
    "from pathlib import Path\n",
    "\n",
    "contents = \"I love programming.\\n\"\n",
    "contents += \"I love creating new games.\\n\"\n",
    "contents += \"I also love working with data.\\n\"\n",
    "\n",
    "path = Path('/Users/connorraney/Desktop/desktop/python_work/projectsourcefiles/pcc_3e-main/chapter_10/writing_to_a_file/programming.txt')\n",
    "path.write_text(contents)\n",
    "\n",
    "# Be careful when calling write_text() on a path object, because if the path\n",
    "#   object already exists, write_text() will erase the current contents of the\n",
    "#   file and write new contents to the file. Later, we will learn to check if\n",
    "#   a file exists first using pathlib."
   ]
  },
  {
   "cell_type": "code",
   "execution_count": null,
   "metadata": {},
   "outputs": [],
   "source": [
    "# Exceptions\n",
    "\n",
    "# Python uses special objects called exceptions to manage errors that arise\n",
    "#   during a program's execution. Whenevr an error occurs that makes Python\n",
    "#   unsure of what to do next, it creates an exception object. If you write\n",
    "#   code that handles the exception, the program will continue running, but\n",
    "#   if you do not handle it, the program will halt and show a traceback, which\n",
    "#   includes a report of the exception that was raised.\n",
    "\n",
    "# Exceptions are handled with try-except blocks, as it asks Python to do\n",
    "#   something, but it also tells Python what to do if an exception is raised,\n",
    "#   so your programs will continue running even if things start to go wrong."
   ]
  },
  {
   "cell_type": "code",
   "execution_count": 19,
   "metadata": {},
   "outputs": [
    {
     "name": "stdout",
     "output_type": "stream",
     "text": [
      "You can't divide by zero!\n"
     ]
    }
   ],
   "source": [
    "# Handling the ZeroDivisionError Exception\n",
    "try:\n",
    "    print(5/0) # since you obviously cannot divide by zero, py gives a traceback\n",
    "except ZeroDivisionError:\n",
    "    print(\"You can't divide by zero!\")"
   ]
  },
  {
   "cell_type": "code",
   "execution_count": 21,
   "metadata": {},
   "outputs": [
    {
     "name": "stdout",
     "output_type": "stream",
     "text": [
      "Give me two numbers, and I'll divide them.\n",
      "Enter 'q' to quit.\n",
      "You can't divide by zero!\n"
     ]
    }
   ],
   "source": [
    "# Using Exceptions to Prevent Crashes\n",
    "\n",
    "# Calculator with a try-except block\n",
    "\n",
    "print(\"Give me two numbers, and I'll divide them.\")\n",
    "print(\"Enter 'q' to quit.\")\n",
    "\n",
    "while True:\n",
    "    first_number = input(\"\\nFirst number: \")\n",
    "    if first_number == 'q':\n",
    "        break\n",
    "    second_number = input(\"Second number: \")\n",
    "    if second_number == 'q':\n",
    "        break\n",
    "    try:\n",
    "        answer = int(first_number) / int(second_number)\n",
    "    except ZeroDivisionError:\n",
    "        print(\"You can't divide by zero!\")\n",
    "    else:\n",
    "        print(answer)"
   ]
  },
  {
   "cell_type": "code",
   "execution_count": 23,
   "metadata": {},
   "outputs": [
    {
     "name": "stdout",
     "output_type": "stream",
     "text": [
      "Sorry, the file alice.txt does not exist.\n"
     ]
    }
   ],
   "source": [
    "# Handling the FileNotFoundError Exception\n",
    "\n",
    "from pathlib import Path\n",
    "\n",
    "path = Path('alice.txt')\n",
    "try:\n",
    "    contents = path.read_text(encoding='utf-8')\n",
    "except FileNotFoundError:\n",
    "    print(f\"Sorry, the file {path} does not exist.\")"
   ]
  },
  {
   "cell_type": "code",
   "execution_count": 26,
   "metadata": {},
   "outputs": [
    {
     "name": "stdout",
     "output_type": "stream",
     "text": [
      "The file has about 29594 words.\n"
     ]
    }
   ],
   "source": [
    "# Analyzing Text\n",
    "\n",
    "from pathlib import Path\n",
    "\n",
    "path = Path('/Users/connorraney/Desktop/desktop/python_work/projectsourcefiles/pcc_3e-main/chapter_10/exceptions/alice.txt')\n",
    "try:\n",
    "    contents = path.read_text(encoding='utf-8')\n",
    "except FileNotFoundError:\n",
    "    print(f\"Sorry, the file {path} does not exist.\")\n",
    "else:\n",
    "    # Count the approximate number of words in the file:\n",
    "    words = contents.split()\n",
    "    num_words = len(words)\n",
    "    print(f\"The file has about {num_words} words.\")"
   ]
  },
  {
   "cell_type": "code",
   "execution_count": 28,
   "metadata": {},
   "outputs": [
    {
     "name": "stdout",
     "output_type": "stream",
     "text": [
      "The file has about 29594 words.\n",
      "The file has about 189142 words.\n",
      "The file has about 215864 words.\n",
      "Sorry, the file siddhartha.txt does not exist.\n"
     ]
    }
   ],
   "source": [
    "# Working with Multiple Files\n",
    "\n",
    "from pathlib import Path\n",
    "\n",
    "def count_words(path):\n",
    "    try:\n",
    "        contents = path.read_text(encoding='utf-8')\n",
    "    except FileNotFoundError:\n",
    "        print(f\"Sorry, the file {path} does not exist.\")\n",
    "    else:\n",
    "        # Count the approximate number of words in the file:\n",
    "        words = contents.split()\n",
    "        num_words = len(words)\n",
    "        print(f\"The file has about {num_words} words.\")\n",
    "\n",
    "alice_path = '/Users/connorraney/Desktop/desktop/python_work/projectsourcefiles/pcc_3e-main/chapter_10/exceptions/alice.txt'\n",
    "little_women_path = '/Users/connorraney/Desktop/desktop/python_work/projectsourcefiles/pcc_3e-main/chapter_10/exceptions/little_women.txt'\n",
    "moby_dick_path = '/Users/connorraney/Desktop/desktop/python_work/projectsourcefiles/pcc_3e-main/chapter_10/exceptions/moby_dick.txt'\n",
    "\n",
    "filenames = [alice_path, little_women_path, moby_dick_path, 'siddhartha.txt']\n",
    "for filename in filenames:\n",
    "    path = Path(filename)\n",
    "    count_words(path)"
   ]
  },
  {
   "cell_type": "code",
   "execution_count": 29,
   "metadata": {},
   "outputs": [
    {
     "name": "stdout",
     "output_type": "stream",
     "text": [
      "The file has about 29594 words.\n",
      "The file has about 189142 words.\n",
      "The file has about 215864 words.\n"
     ]
    }
   ],
   "source": [
    "# Failing Silently \n",
    "\n",
    "# You can do the same thing with an exept block, but give it a pass statement\n",
    "#   that tells it to do nothing in a block\n",
    "\n",
    "def count_words(path):\n",
    "    try:\n",
    "        contents = path.read_text(encoding='utf-8')\n",
    "    except FileNotFoundError:\n",
    "        pass\n",
    "    else:\n",
    "        # Count the approximate number of words in the file:\n",
    "        words = contents.split()\n",
    "        num_words = len(words)\n",
    "        print(f\"The file has about {num_words} words.\")\n",
    "\n",
    "for filename in filenames:\n",
    "    path = Path(filename)\n",
    "    count_words(path)"
   ]
  },
  {
   "cell_type": "code",
   "execution_count": 31,
   "metadata": {},
   "outputs": [
    {
     "name": "stdout",
     "output_type": "stream",
     "text": [
      "Give me two numbers, and I'll add them.\n",
      "Enter 'q' to quit.\n",
      "30\n",
      "You provided text instead of numbers, please fix that!\n"
     ]
    }
   ],
   "source": [
    "# 10-6 & 10-7. Addition\n",
    "\n",
    "# 1. Write a program that prompts for two numbers, add them together and print\n",
    "#    the result.\n",
    "# 2. Catch the ValueError if either input is not a number, and print a friendly\n",
    "#    error message.\n",
    "\n",
    "print(\"Give me two numbers, and I'll add them.\")\n",
    "print(\"Enter 'q' to quit.\")\n",
    "\n",
    "while True:\n",
    "    first_number = input(\"\\nFirst number: \")\n",
    "    if first_number == 'q':\n",
    "        break\n",
    "    second_number = input(\"Second number: \")\n",
    "    if second_number == 'q':\n",
    "        break\n",
    "    try:\n",
    "        answer = int(first_number) + int(second_number)\n",
    "    except ValueError:\n",
    "        print(\"You provided text instead of numbers, please fix that!\")\n",
    "    else:\n",
    "        print(answer)"
   ]
  },
  {
   "cell_type": "code",
   "execution_count": null,
   "metadata": {},
   "outputs": [],
   "source": [
    "# Storing Data\n",
    "\n",
    "# One way to do this is to store your data using the json module. It allows you\n",
    "#   to convert simple Python data structures into JSON-formatted strings, and\n",
    "#   then load the data from that file the next time the program runs. You can\n",
    "#   also use json to share data between different Python programs, and you can\n",
    "#   also use it with many different programming languages as well."
   ]
  },
  {
   "cell_type": "code",
   "execution_count": 34,
   "metadata": {},
   "outputs": [
    {
     "name": "stdout",
     "output_type": "stream",
     "text": [
      "[2, 3, 5, 7, 11, 13]\n"
     ]
    }
   ],
   "source": [
    "# Using json.dumps() and json.loads()\n",
    "\n",
    "# The first program will use json.dumps() to store the set of numbers, and\n",
    "#   then the second program will use json.loads().\n",
    "\n",
    "# Number 1\n",
    "from pathlib import Path\n",
    "import json\n",
    "\n",
    "numbers = [2, 3, 5, 7, 11, 13]\n",
    "\n",
    "path = Path('/Users/connorraney/Desktop/desktop/python_work/projectsourcefiles/pcc_3e-main/chapter_10/storing_data/numbers.json')\n",
    "contents = json.dumps(numbers)\n",
    "path.write_text(contents)\n",
    "\n",
    "# Number 2\n",
    "from pathlib import Path\n",
    "import json\n",
    "\n",
    "path = Path('/Users/connorraney/Desktop/desktop/python_work/projectsourcefiles/pcc_3e-main/chapter_10/storing_data/numbers.json')\n",
    "contents = path.read_text()\n",
    "numbers = json.loads(contents)\n",
    "\n",
    "print(numbers)"
   ]
  },
  {
   "cell_type": "code",
   "execution_count": 39,
   "metadata": {},
   "outputs": [
    {
     "name": "stdout",
     "output_type": "stream",
     "text": [
      "We'll remember you when you come back, \"\\\"Eric\\\"\"!\n",
      "Welcome back, Eric!\n",
      "Welcome back, Eric!\n"
     ]
    }
   ],
   "source": [
    "# Saving and Reading User-Generated Data\n",
    "\n",
    "# Saving User-Generated Data\n",
    "\n",
    "from pathlib import Path\n",
    "import json\n",
    "\n",
    "username = input(\"What is your name? \")\n",
    "\n",
    "path = Path('/Users/connorraney/Desktop/desktop/python_work/projectsourcefiles/pcc_3e-main/chapter_10/storing_data/username.json')\n",
    "contents = path.read_text()\n",
    "username = json.dumps(contents)\n",
    "\n",
    "print(f\"We'll remember you when you come back, {username}!\")\n",
    "\n",
    "\n",
    "# Reading User-Generated Data\n",
    "\n",
    "from pathlib import Path\n",
    "import json\n",
    "\n",
    "path = Path('/Users/connorraney/Desktop/desktop/python_work/projectsourcefiles/pcc_3e-main/chapter_10/storing_data/username.json')\n",
    "contents = path.read_text()\n",
    "username = json.loads(contents)\n",
    "\n",
    "print(f\"Welcome back, {username}!\")"
   ]
  },
  {
   "cell_type": "code",
   "execution_count": 40,
   "metadata": {},
   "outputs": [
    {
     "name": "stdout",
     "output_type": "stream",
     "text": [
      "Welcome back, Eric!\n"
     ]
    }
   ],
   "source": [
    "# We can then combine these into one program like this:\n",
    "\n",
    "# We can then combine these into one program:\n",
    "from pathlib import Path\n",
    "import json\n",
    "\n",
    "path = Path('/Users/connorraney/Desktop/desktop/python_work/projectsourcefiles/pcc_3e-main/chapter_10/storing_data/username.json')\n",
    "if path.exists():\n",
    "    contents = path.read_text()\n",
    "    username = json.loads(contents)\n",
    "    print(f\"Welcome back, {username}!\")\n",
    "else:\n",
    "    username = input(\"What is your name? \")\n",
    "    contents = path.read_text()\n",
    "    username = json.dumps(contents)\n",
    "    print(f\"We'll remember you when you come back, {username}!\")"
   ]
  },
  {
   "cell_type": "code",
   "execution_count": 45,
   "metadata": {},
   "outputs": [
    {
     "name": "stdout",
     "output_type": "stream",
     "text": [
      "Welcome back, Eric!\n"
     ]
    }
   ],
   "source": [
    "# Refactoring\n",
    "\n",
    "# Often you'll come to a point where your code will work, but you'll recognize\n",
    "#   that you can improve the code by breaking it up into a series of functions\n",
    "#   that have specific jobs, which is called refactoring. This makes your code\n",
    "#   clearner, easier to understand, and easier to extend.\n",
    "\n",
    "# We can refactor the program we just made by moving the bulk of its logic\n",
    "#   into one or more functions:\n",
    "\n",
    "from pathlib import Path\n",
    "import json\n",
    "\n",
    "def get_stored_username(path):\n",
    "    \"\"\"Get the stored username if available.\"\"\"\n",
    "    if path.exists():\n",
    "        contents = path.read_text()\n",
    "        username = json.loads(contents)\n",
    "        return username\n",
    "    else:\n",
    "        return None\n",
    "    \n",
    "def get_new_username(path):\n",
    "    \"\"\"Prompt for a new username:\"\"\"\n",
    "    username = input(\"What is your name? \")\n",
    "    contents = json.dumps(contents)\n",
    "    path.write_text(contents)\n",
    "    return username\n",
    "\n",
    "def greet_user():\n",
    "    \"\"\"Greet the user by name.\"\"\"\n",
    "    path = Path('/Users/connorraney/Desktop/desktop/python_work/projectsourcefiles/pcc_3e-main/chapter_10/storing_data/username.json')\n",
    "    username = get_stored_username(path)\n",
    "    if username:\n",
    "        print(f\"Welcome back, {username}!\")\n",
    "    else:\n",
    "        username = get_new_username(path)\n",
    "        print(f\"We'll remember you when you come back, {username}!\")\n",
    "\n",
    "greet_user()"
   ]
  },
  {
   "cell_type": "code",
   "execution_count": 47,
   "metadata": {},
   "outputs": [
    {
     "name": "stdout",
     "output_type": "stream",
     "text": [
      "Thanks, I'll remember that.\n",
      "I know your favorite number! It is 12\n"
     ]
    }
   ],
   "source": [
    "# 10-11. Favorite Number\n",
    "\n",
    "# 1. Write a program that prompts for the user's favorite number. Use\n",
    "#    json.dumps() to store this number in a file.\n",
    "# 2. Then, print: \"I know your favorite number, it is ____\"\n",
    "\n",
    "# Program to prompt for the number and store it\n",
    "import json\n",
    "favorite_number_json = '/Users/connorraney/Desktop/desktop/python_work/projectsourcefiles/pcc_3e-main/solution_files/chapter_10/favorite_number.json'\n",
    "\n",
    "number = input(\"What is your favorite number? \")\n",
    "\n",
    "with open('{favorite_number_json}', 'w') as x:\n",
    "    json.dump(number, x)\n",
    "    print(\"Thanks, I'll remember that.\")\n",
    "\n",
    "# Program to read the favorite number:\n",
    "import json\n",
    "\n",
    "with open('{favorite_number_json}') as x:\n",
    "    number = json.load(x)\n",
    "\n",
    "print(f\"I know your favorite number! It is {number}!\")"
   ]
  },
  {
   "cell_type": "code",
   "execution_count": 48,
   "metadata": {},
   "outputs": [
    {
     "name": "stdout",
     "output_type": "stream",
     "text": [
      "I know your favorite number! It is 12!\n"
     ]
    }
   ],
   "source": [
    "# 10-12. Favorite Number Remembered\n",
    "\n",
    "# 1. Combine the two programs you wrote in 10-11\n",
    "# 2. If the number is already stored, report the favorite number to the user,\n",
    "#    if not, prompt for the user's favorite number and store it in a file.\n",
    "# 3. Run twice to see if it works.\n",
    "\n",
    "# Program to prompt for the number and store it\n",
    "import json\n",
    "favorite_number_json = '/Users/connorraney/Desktop/desktop/python_work/projectsourcefiles/pcc_3e-main/solution_files/chapter_10/favorite_number.json'\n",
    "\n",
    "try:\n",
    "    with open('{favorite_number_json}') as x:\n",
    "        number = json.load(x)\n",
    "except FileNotFoundError:\n",
    "    number = input(\"What is your favorite number? \")\n",
    "    with open('{favorite_number_json}', 'w') as x:\n",
    "        json.dump(number, x)\n",
    "    print(\"Thanks, I'll remember that.\")\n",
    "else:\n",
    "    with open('{favorite_number_json}') as x:\n",
    "        number = json.load(x)\n",
    "    print(f\"I know your favorite number! It is {number}!\")"
   ]
  },
  {
   "cell_type": "code",
   "execution_count": 60,
   "metadata": {},
   "outputs": [
    {
     "name": "stdout",
     "output_type": "stream",
     "text": [
      "Welcome back, connor!\n",
      "We remember you are 12 years old and live in new york city.\n",
      "\n",
      "Summary of what we remember about you:\n",
      "Name: Connor\n",
      "Age: 12\n",
      "Location: New York City\n"
     ]
    }
   ],
   "source": [
    "# 10-13. User Dictionary\n",
    "\n",
    "# 1. remember_me.py stores one piece of information, the username, expand this\n",
    "#    example by asking for two more pieces of info about the user, storing all\n",
    "#    of the information in a dictionary.\n",
    "# 2. Write this dictionary to a file using json.dumps(), and read it back in\n",
    "#    using json.loads(). \n",
    "# 3. Print a summary showing exactly what your program remembers about the user\n",
    "\n",
    "import json\n",
    "from pathlib import Path\n",
    "\n",
    "# Define the path to the JSON file\n",
    "user_data_path = Path('/Users/connorraney/Desktop/desktop/python_work/projectsourcefiles/pcc_3e-main/solution_files/chapter_10/user_info.json')\n",
    "\n",
    "def get_stored_user():\n",
    "    \"\"\"Retrieve a stored user if available.\"\"\"\n",
    "    try:\n",
    "        with open(user_data_path, 'r') as f:\n",
    "            user_data = json.load(f)  # Reads and converts JSON data into a dictionary\n",
    "        return user_data\n",
    "    except FileNotFoundError:\n",
    "        return None\n",
    "    except json.JSONDecodeError:\n",
    "        return None\n",
    "\n",
    "def get_new_user():\n",
    "    \"\"\"Prompt for a new user and store the data.\"\"\"\n",
    "    user = {\n",
    "        'name': input(\"What is your name? \"),\n",
    "        'age': input(\"How old are you? \"),\n",
    "        'location': input(\"Where do you live? \")\n",
    "    }\n",
    "    with open(user_data_path, 'w') as f:\n",
    "        json.dump(user, f)  # Writes the dictionary as a JSON formatted string\n",
    "    return user\n",
    "\n",
    "def greet_user():\n",
    "    \"\"\"Greet the user by name and print a summary of what the program remembers.\"\"\"\n",
    "    user = get_stored_user()\n",
    "    if user:\n",
    "        print(f\"Welcome back, {user['name']}!\")\n",
    "        print(f\"We remember you are {user['age']} years old and live in {user['location']}.\")\n",
    "        # Print a summary of the user information\n",
    "        print(\"\\nSummary of what we remember about you:\")\n",
    "        for key, value in user.items():\n",
    "            print(f\"{key.title()}: {value.title()}\")\n",
    "    else:\n",
    "        user = get_new_user()\n",
    "        print(f\"We'll remember you when you come back, {user['name']}!\")\n",
    "\n",
    "get_new_user()\n",
    "greet_user()"
   ]
  },
  {
   "cell_type": "code",
   "execution_count": 63,
   "metadata": {},
   "outputs": [
    {
     "name": "stdout",
     "output_type": "stream",
     "text": [
      "Welcome back, Connor!\n",
      "We remember you are 12 years old and live in New York City.\n",
      "\n",
      "Summary of what we remember about you:\n",
      "Name: Connor\n",
      "Age: 12\n",
      "Location: New York City\n"
     ]
    }
   ],
   "source": [
    "# 10-14. Verify User\n",
    "\n",
    "import json\n",
    "from pathlib import Path\n",
    "\n",
    "# Define the path to the JSON file\n",
    "user_data_path = Path('/Users/connorraney/Desktop/desktop/python_work/projectsourcefiles/pcc_3e-main/solution_files/chapter_10/user_info.json')\n",
    "\n",
    "def get_stored_user():\n",
    "    \"\"\"Retrieve a stored user if available.\"\"\"\n",
    "    try:\n",
    "        with open(user_data_path, 'r') as f:\n",
    "            user_data = json.load(f)  # Reads and converts JSON data into a dictionary\n",
    "        # Check if all required keys are present\n",
    "        if all(key in user_data for key in ['name', 'age', 'location']):\n",
    "            return user_data\n",
    "        else:\n",
    "            return None\n",
    "    except (FileNotFoundError, json.JSONDecodeError, KeyError):\n",
    "        return None\n",
    "\n",
    "def get_new_user():\n",
    "    \"\"\"Prompt for a new user and store the data.\"\"\"\n",
    "    user = {\n",
    "        'name': input(\"What is your name? \"),\n",
    "        'age': input(\"How old are you? \"),\n",
    "        'location': input(\"Where do you live? \")\n",
    "    }\n",
    "    with open(user_data_path, 'w') as f:\n",
    "        json.dump(user, f)  # Writes the dictionary as a JSON formatted string\n",
    "    return user\n",
    "\n",
    "def greet_user():\n",
    "    \"\"\"Greet the user by name and print a summary of what the program remembers.\"\"\"\n",
    "    user = get_stored_user()\n",
    "    if user:\n",
    "        # Confirm the username\n",
    "        response = input(f\"Is your name {user['name']}? (yes/no) \")\n",
    "        if response.lower() == 'yes':\n",
    "            print(f\"Welcome back, {user['name'].title()}!\")\n",
    "            print(f\"We remember you are {user['age']} years old and live in {user['location'].title()}.\")\n",
    "            # Print a summary of the user information\n",
    "            print(\"\\nSummary of what we remember about you:\")\n",
    "            for key, value in user.items():\n",
    "                print(f\"{key.title()}: {value.title()}\")\n",
    "        else:\n",
    "            user = get_new_user()\n",
    "            print(f\"We'll remember you when you come back, {user['name'].title()}!\")\n",
    "    else:\n",
    "        user = get_new_user()\n",
    "        print(f\"We'll remember you when you come back, {user['name'].title()}!\")\n",
    "\n",
    "greet_user()"
   ]
  }
 ],
 "metadata": {
  "kernelspec": {
   "display_name": "myenv",
   "language": "python",
   "name": "python3"
  },
  "language_info": {
   "codemirror_mode": {
    "name": "ipython",
    "version": 3
   },
   "file_extension": ".py",
   "mimetype": "text/x-python",
   "name": "python",
   "nbconvert_exporter": "python",
   "pygments_lexer": "ipython3",
   "version": "3.12.3"
  }
 },
 "nbformat": 4,
 "nbformat_minor": 2
}
