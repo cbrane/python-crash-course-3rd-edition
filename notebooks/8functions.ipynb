{
 "cells": [
  {
   "cell_type": "code",
   "execution_count": 24,
   "metadata": {},
   "outputs": [
    {
     "name": "stdout",
     "output_type": "stream",
     "text": [
      "Hello!\n"
     ]
    }
   ],
   "source": [
    "# Chapter 8 - Functions\n",
    "\n",
    "# Here's a simple function named greet_user that prints a greeting:\n",
    "\n",
    "# Using triple quotes for the docstring lets you write multiple lines, which Python will use\n",
    "# for documentation.\n",
    "def greet_user():\n",
    "    \"\"\"Display a simple greeting.\"\"\" # a docstring, which describes what the function does\n",
    "    print(\"Hello!\")\n",
    "\n",
    "greet_user()"
   ]
  },
  {
   "cell_type": "code",
   "execution_count": 25,
   "metadata": {},
   "outputs": [
    {
     "name": "stdout",
     "output_type": "stream",
     "text": [
      "Hello, Jesse!\n"
     ]
    }
   ],
   "source": [
    "# Passing Information to a Function\n",
    "\n",
    "def greet_user(username):\n",
    "    \"\"\"Display a simple greeting.\"\"\"\n",
    "    print(f\"Hello, {username.title()}!\")\n",
    "\n",
    "greet_user('jesse')"
   ]
  },
  {
   "cell_type": "code",
   "execution_count": 26,
   "metadata": {},
   "outputs": [],
   "source": [
    "# Arugments and Parameters\n",
    "\n",
    "# In the greet_user() function before we defined it to require a value for the\n",
    "#   variable username. Once the called the function and gave it that, it printed\n",
    "#   the right greeting. This is an example of a parameter, a piece of info that\n",
    "#   the function needs to do its job. An argument is a piece of info that passed\n",
    "#   from a function call to a function, and in our example, this is 'jesse',\n",
    "#   with the argument passed into the function, and the value assigned to the parameter username.\n",
    "\n",
    "# People sometimes speak of arguments and parameters interchangeably. Don't be\n",
    "#   surprised if you see the variables in a function definition referred to as\n",
    "#   arguments or the variables in a function referred to as parameters."
   ]
  },
  {
   "cell_type": "code",
   "execution_count": 27,
   "metadata": {},
   "outputs": [
    {
     "name": "stdout",
     "output_type": "stream",
     "text": [
      "We are learning about functions in this chapter and how to use them.\n"
     ]
    }
   ],
   "source": [
    "# 8-1. Message\n",
    "\n",
    "# Write a function called display_message() that prints one sentence telling\n",
    "#   everyone what you are learning about in this chapter.\n",
    "\n",
    "def display_message():\n",
    "    \"\"\"Displays a message to tell users what we are learning about.\"\"\"\n",
    "    print(\"We are learning about functions in this chapter and how to use them.\")\n",
    "\n",
    "display_message()"
   ]
  },
  {
   "cell_type": "code",
   "execution_count": 28,
   "metadata": {},
   "outputs": [
    {
     "name": "stdout",
     "output_type": "stream",
     "text": [
      "One of my favorite books is Harry Potter!\n"
     ]
    }
   ],
   "source": [
    "# 8-2. Favorite Book\n",
    "\n",
    "# Write a function called favorite_book() that acceptes one parameter, title.\n",
    "#   The function should print a message with the title as the argument.\n",
    "\n",
    "def favorite_book(title):\n",
    "    \"\"\"Tells everyone what our favorite book is and the title of it.\"\"\"\n",
    "    print(f\"One of my favorite books is {title.title()}!\")\n",
    "\n",
    "favorite_book('harry potter')"
   ]
  },
  {
   "cell_type": "code",
   "execution_count": 29,
   "metadata": {},
   "outputs": [],
   "source": [
    "# Passing Arguments\n",
    "\n",
    "# Because a function can have multiple parameters, a function call may need multiple arguments.\n",
    "# There are positional arguments and keyword arguments."
   ]
  },
  {
   "cell_type": "code",
   "execution_count": 30,
   "metadata": {},
   "outputs": [
    {
     "name": "stdout",
     "output_type": "stream",
     "text": [
      "\n",
      "I have a hamster.\n",
      "My hamster's name is Harry.\n",
      "\n",
      "I have a dog.\n",
      "My dog's name is Willie.\n"
     ]
    }
   ],
   "source": [
    "# Positional Arguments\n",
    "\n",
    "# When you call a function, Python must match each argument in the function call\n",
    "#   with a parameter in the function definition, and the simplest way to do\n",
    "#   this is based on the order of the arguments provided, using positional args\n",
    "\n",
    "def describe_pet(animal_type, pet_name):\n",
    "    \"\"\"Display information about a pet.\"\"\"\n",
    "    print(f\"\\nI have a {animal_type}.\")\n",
    "    print(f\"My {animal_type}'s name is {pet_name.title()}.\")\n",
    "\n",
    "describe_pet('hamster', 'harry')\n",
    "describe_pet('dog', 'willie')"
   ]
  },
  {
   "cell_type": "code",
   "execution_count": 31,
   "metadata": {},
   "outputs": [
    {
     "name": "stdout",
     "output_type": "stream",
     "text": [
      "\n",
      "I have a hamster.\n",
      "My hamster's name is Harry.\n"
     ]
    }
   ],
   "source": [
    "# Keyword Arguments\n",
    "# A name-value pair that you pass to a function, so there is no confusion of order\n",
    "\n",
    "describe_pet(animal_type='hamster', pet_name='harry')\n",
    "# Using keyword args frees you from having to worry about correctly ordering args."
   ]
  },
  {
   "cell_type": "code",
   "execution_count": 32,
   "metadata": {},
   "outputs": [
    {
     "name": "stdout",
     "output_type": "stream",
     "text": [
      "\n",
      "I have a dog.\n",
      "My dog's name is Willie.\n"
     ]
    }
   ],
   "source": [
    "# Default Values\n",
    "# When writing a function, you can define a default value for each parameter\n",
    "#   If an arg for a parameter is not provided in a function call, then Python uses\n",
    "#   the parameter's default value. Using default values can simplify your function calling.\n",
    "\n",
    "def describe_pet(pet_name, animal_type='dog'):\n",
    "    \"\"\"Display information about a pet.\"\"\"\n",
    "    print(f\"\\nI have a {animal_type}.\")\n",
    "    print(f\"My {animal_type}'s name is {pet_name.title()}.\")\n",
    "\n",
    "describe_pet('willie')\n",
    "# We also changed the order so that when we provide the name, it now lines up\n",
    "#   with the positional argument of the pet name and not the type of animal. \n",
    "\n",
    "# When you use default values, any parameter with a default value needs to be listed\n",
    "#   after all the parameters that don't have default values, so Python can\n",
    "#   continue to interpet positional arguments correctly"
   ]
  },
  {
   "cell_type": "code",
   "execution_count": 33,
   "metadata": {},
   "outputs": [
    {
     "name": "stdout",
     "output_type": "stream",
     "text": [
      "\n",
      "I have a dog.\n",
      "My dog's name is Willie.\n",
      "\n",
      "I have a dog.\n",
      "My dog's name is Willie.\n",
      "\n",
      "I have a hamster.\n",
      "My hamster's name is Harry.\n",
      "\n",
      "I have a hamster.\n",
      "My hamster's name is Harry.\n",
      "\n",
      "I have a hamster.\n",
      "My hamster's name is Harry.\n"
     ]
    }
   ],
   "source": [
    "# Equivalent Function Calls\n",
    "# Because positional arguments, keyword arguments, and default values can all be\n",
    "#   used together, you will often have several different ways to call a func:\n",
    "\n",
    "# A dog named Willie.\n",
    "describe_pet('willie')\n",
    "describe_pet(pet_name='willie')\n",
    "\n",
    "# A hamster named Harry.\n",
    "describe_pet('harry', 'hamster')\n",
    "describe_pet(pet_name='harry', animal_type='hamster')\n",
    "describe_pet(animal_type='hamster', pet_name='harry')"
   ]
  },
  {
   "cell_type": "code",
   "execution_count": 34,
   "metadata": {},
   "outputs": [
    {
     "name": "stdout",
     "output_type": "stream",
     "text": [
      "The shirt is size medium and will include the text: 'Connor'\n",
      "The shirt is size medium and will include the text: 'Connor'\n"
     ]
    }
   ],
   "source": [
    "# 8-3. T-Shirt\n",
    "# Write a function called make_shirt() that accepts a size and the text of msg\n",
    "#   for the shirt, then print a sentence summarizing it\n",
    "def make_shirt(size, text):\n",
    "    \"\"\"Accepts the size and text on the shirt and summarizes it.\"\"\"\n",
    "    print(f\"The shirt is size {size} and will include the text: '{text}'\")\n",
    "\n",
    "# Call once using positional arguments\n",
    "make_shirt('medium', 'Connor')\n",
    "# Call once using keyword arguments\n",
    "make_shirt(size='medium', text='Connor')"
   ]
  },
  {
   "cell_type": "code",
   "execution_count": 35,
   "metadata": {},
   "outputs": [
    {
     "name": "stdout",
     "output_type": "stream",
     "text": [
      "The shirt is size large and will include the text: 'I love Python'\n",
      "The shirt is size medium and will include the text: 'I love Python'\n",
      "The shirt is size small and will include the text: 'I hate Python!'\n"
     ]
    }
   ],
   "source": [
    "# 8-4. Large Shirts\n",
    "# Modify the make_shirt() function so that shirts are large by default with\n",
    "#   a message \"I love Python\"\n",
    "def make_shirt(size='large', text='I love Python'):\n",
    "    \"\"\"Accepts the size and text on the shirt and summarizes it.\"\"\"\n",
    "    print(f\"The shirt is size {size} and will include the text: '{text}'\")\n",
    "\n",
    "# Make a large shirt and medium shirt with the default message\n",
    "make_shirt()\n",
    "make_shirt('medium')\n",
    "# Make a shirt of any size with a different message\n",
    "make_shirt('small', 'I hate Python!')"
   ]
  },
  {
   "cell_type": "code",
   "execution_count": 36,
   "metadata": {},
   "outputs": [
    {
     "name": "stdout",
     "output_type": "stream",
     "text": [
      "New York City is in the United States.\n",
      "Boston is in the United States.\n",
      "London is in England.\n"
     ]
    }
   ],
   "source": [
    "# 8-5. Cities\n",
    "# Write a function called describe_city() that accepts a name of city & country.\n",
    "#   Give the parameter for country a default value.\n",
    "def describe_city(city, country='united states'):\n",
    "    \"\"\"Accepts the city and country of a place to describe it.\"\"\"\n",
    "    if country == 'united states':\n",
    "        print(f\"{city.title()} is in the {country.title()}.\")\n",
    "    else:\n",
    "        print(f\"{city.title()} is in {country.title()}.\")\n",
    "\n",
    "# Call your function for three cities, with one not in the default country.\n",
    "describe_city('new york city')\n",
    "describe_city('boston')\n",
    "describe_city('london', 'england')"
   ]
  },
  {
   "cell_type": "code",
   "execution_count": 37,
   "metadata": {},
   "outputs": [
    {
     "name": "stdout",
     "output_type": "stream",
     "text": [
      "Jimi Hendrix\n"
     ]
    }
   ],
   "source": [
    "# Return Values\n",
    "\n",
    "# A function does not always have to display its output directly and can instead\n",
    "#   process some data and then return a value or set of values, return values\n",
    "#   allow you to move much of your program's grunt work into function, which can\n",
    "#   simplify the body of your program. \n",
    "\n",
    "def get_formatted_name(first_name, last_name):\n",
    "    \"\"\"Return a full name, neatly formatted.\"\"\"\n",
    "    full_name = f\"{first_name} {last_name}\"\n",
    "    return full_name.title()\n",
    "\n",
    "musician = get_formatted_name('jimi', 'hendrix')\n",
    "print(musician)"
   ]
  },
  {
   "cell_type": "code",
   "execution_count": 38,
   "metadata": {},
   "outputs": [
    {
     "name": "stdout",
     "output_type": "stream",
     "text": [
      "Jimi Hendrix\n",
      "Jimi Jimi Hendrix\n"
     ]
    }
   ],
   "source": [
    "# Making an Argument Optional\n",
    "\n",
    "# Make middle name for this same function optional\n",
    "def get_formatted_name(first_name, last_name, middle_name=''): # We give it a default empty value, so only if the users gives us a value it is used.\n",
    "    \"\"\"Return a full name, neatly formatted.\"\"\"\n",
    "    if middle_name:\n",
    "        full_name = f\"{first_name} {middle_name} {last_name}\"\n",
    "    else:\n",
    "        full_name = f\"{first_name} {last_name}\"\n",
    "    return full_name.title()\n",
    "\n",
    "musician = get_formatted_name('jimi', 'hendrix')\n",
    "print(musician)\n",
    "musician = get_formatted_name('jimi', 'hendrix', 'jimi')\n",
    "print(musician)"
   ]
  },
  {
   "cell_type": "code",
   "execution_count": 39,
   "metadata": {},
   "outputs": [
    {
     "name": "stdout",
     "output_type": "stream",
     "text": [
      "{'first': 'jimi', 'last': 'hendrix'}\n",
      "{'first': 'jimi', 'last': 'hendrix', 'age': 27}\n"
     ]
    }
   ],
   "source": [
    "# Returning a Dictionary\n",
    "# A function can return any kind of value you need it to, including more\n",
    "#    complicated data structures like lists and dictionaries, for example:\n",
    "\n",
    "def build_person(first_name, last_name):\n",
    "    \"\"\"Return a dictionary of information about a person.\"\"\"\n",
    "    person = {'first': first_name, 'last': last_name}\n",
    "    return person\n",
    "\n",
    "musician = build_person('jimi', 'hendrix')\n",
    "print(musician)\n",
    "\n",
    "# We can also easily extend this to include optional values like an age, etc.\n",
    "def build_person(first_name, last_name, age=None): # None is used when a variable has no specific value assigned to it\n",
    "    \"\"\"Return a dictionary of information about a person.\"\"\" # you can think of it as a placeholder, since in conditional tests, None evaluates to false\n",
    "    person = {'first': first_name, 'last': last_name}\n",
    "    if age:\n",
    "        person['age'] = age\n",
    "    return person\n",
    "\n",
    "musician = build_person('jimi', 'hendrix', age=27)\n",
    "print(musician)"
   ]
  },
  {
   "cell_type": "code",
   "execution_count": 40,
   "metadata": {},
   "outputs": [
    {
     "name": "stdout",
     "output_type": "stream",
     "text": [
      "\n",
      "Please tell me your name: \n",
      "(enter 'q' at any time to quit)\n",
      "\n",
      "Hello,  !\n",
      "\n",
      "Please tell me your name: \n",
      "(enter 'q' at any time to quit)\n",
      "\n",
      "Hello,  !\n",
      "\n",
      "Please tell me your name: \n",
      "(enter 'q' at any time to quit)\n",
      "\n",
      "Hello,  !\n",
      "\n",
      "Please tell me your name: \n",
      "(enter 'q' at any time to quit)\n",
      "\n",
      "Hello,  !\n",
      "\n",
      "Please tell me your name: \n",
      "(enter 'q' at any time to quit)\n",
      "\n",
      "Hello,  !\n",
      "\n",
      "Please tell me your name: \n",
      "(enter 'q' at any time to quit)\n",
      "\n",
      "Hello,  !\n",
      "\n",
      "Please tell me your name: \n",
      "(enter 'q' at any time to quit)\n",
      "\n",
      "Hello,  !\n",
      "\n",
      "Please tell me your name: \n",
      "(enter 'q' at any time to quit)\n",
      "\n",
      "Hello,  !\n",
      "\n",
      "Please tell me your name: \n",
      "(enter 'q' at any time to quit)\n",
      "\n",
      "Hello,  !\n",
      "\n",
      "Please tell me your name: \n",
      "(enter 'q' at any time to quit)\n",
      "\n",
      "Hello,  !\n",
      "\n",
      "Please tell me your name: \n",
      "(enter 'q' at any time to quit)\n",
      "\n",
      "Hello,  !\n",
      "\n",
      "Please tell me your name: \n",
      "(enter 'q' at any time to quit)\n",
      "\n",
      "Hello,  !\n",
      "\n",
      "Please tell me your name: \n",
      "(enter 'q' at any time to quit)\n",
      "\n",
      "Hello,  !\n",
      "\n",
      "Please tell me your name: \n",
      "(enter 'q' at any time to quit)\n",
      "\n",
      "Hello,  !\n",
      "\n",
      "Please tell me your name: \n",
      "(enter 'q' at any time to quit)\n",
      "\n",
      "Hello,  !\n",
      "\n",
      "Please tell me your name: \n",
      "(enter 'q' at any time to quit)\n",
      "\n",
      "Hello,  !\n",
      "\n",
      "Please tell me your name: \n",
      "(enter 'q' at any time to quit)\n",
      "\n",
      "Hello,  !\n",
      "\n",
      "Please tell me your name: \n",
      "(enter 'q' at any time to quit)\n",
      "\n",
      "Hello,  !\n",
      "\n",
      "Please tell me your name: \n",
      "(enter 'q' at any time to quit)\n",
      "\n",
      "Hello,  !\n",
      "\n",
      "Please tell me your name: \n",
      "(enter 'q' at any time to quit)\n",
      "\n",
      "Hello,  !\n",
      "\n",
      "Please tell me your name: \n",
      "(enter 'q' at any time to quit)\n"
     ]
    }
   ],
   "source": [
    "# Using a Function with a while Loop\n",
    "\n",
    "def get_formatted_name(first_name, last_name):\n",
    "    \"\"\"Return a full name, neatly formatted.\"\"\"\n",
    "    full_name = f\"{first_name} {last_name}\"\n",
    "    return full_name.title()\n",
    "\n",
    "# This is an infinite loop! - not anymore by adding q!\n",
    "while True:\n",
    "    print(\"\\nPlease tell me your name: \")\n",
    "    print(\"(enter 'q' at any time to quit)\")\n",
    "\n",
    "    f_name = input(\"First name: \")\n",
    "    if f_name == 'q':\n",
    "        break\n",
    "\n",
    "    l_name = input(\"Last name: \")\n",
    "    if l_name == 'q':\n",
    "        break\n",
    "\n",
    "    formatted_name = get_formatted_name(f_name, l_name)\n",
    "    print(f\"\\nHello, {formatted_name}!\")"
   ]
  },
  {
   "cell_type": "code",
   "execution_count": 41,
   "metadata": {},
   "outputs": [
    {
     "name": "stdout",
     "output_type": "stream",
     "text": [
      "New York, United States\n",
      "Boston, United States\n",
      "London, England\n"
     ]
    }
   ],
   "source": [
    "# 8-6. City Names\n",
    "# Write a function called city_country() that takes in the name of a city and\n",
    "#   its country. It should return a string like: \"Santiago, Chile\"\n",
    "def city_country(city, country):\n",
    "    \"\"\"Returns the name of a city and country.\"\"\"\n",
    "    city_and_country = f\"{city.title()}, {country.title()}\"\n",
    "    return city_and_country\n",
    "\n",
    "# Call your function with 3 city-country pairs, and print the values that are returned\n",
    "print(city_country(\"New York\", \"United States\"))\n",
    "print(city_country(\"Boston\", \"United States\"))\n",
    "print(city_country(\"London\", \"England\"))"
   ]
  },
  {
   "cell_type": "code",
   "execution_count": 42,
   "metadata": {},
   "outputs": [
    {
     "name": "stdout",
     "output_type": "stream",
     "text": [
      "(\n",
      "Enter 'q' at any time to quit)\n",
      "\n",
      "{'artist_name': 'Quit', 'album_title': 'Quit'}\n",
      "(\n",
      "Enter 'q' at any time to quit)\n",
      "\n",
      "{'artist_name': 'Quit', 'album_title': 'Quit'}\n",
      "(\n",
      "Enter 'q' at any time to quit)\n"
     ]
    }
   ],
   "source": [
    "# 8-7/ 8-8 Album\n",
    "# Write a function make_album() that describes a music album, and should take\n",
    "#   an artist name, and an album title, and should return these two things\n",
    "def make_album(artist, title, songs=None):\n",
    "        \"\"\"Returns album information.\"\"\"\n",
    "        album = {'artist_name': artist.title(), 'album_title': title.title()}\n",
    "        if songs:\n",
    "            album['songs'] = songs\n",
    "        return album\n",
    "\n",
    "while True:\n",
    "    print(\"(\\nEnter 'q' at any time to quit)\")\n",
    "\n",
    "    artist_name = input(\"Artist name: \")\n",
    "    if artist_name == 'q':\n",
    "        break\n",
    "\n",
    "    album_name = input(\"Album name: \")\n",
    "    if album_name == 'q':\n",
    "        break\n",
    "\n",
    "    formatted_album = make_album(artist_name, album_name)\n",
    "    print(f\"\\n{formatted_album}\")"
   ]
  },
  {
   "cell_type": "code",
   "execution_count": 43,
   "metadata": {},
   "outputs": [
    {
     "name": "stdout",
     "output_type": "stream",
     "text": [
      "Hello, Hannah!\n",
      "Hello, Ty!\n",
      "Hello, Margot!\n"
     ]
    }
   ],
   "source": [
    "# Passing a List\n",
    "\n",
    "def greet_users(names):\n",
    "    \"\"\"Print a simple greeting to each user in the list.\"\"\"\n",
    "    for name in names:\n",
    "        msg = f\"Hello, {name.title()}!\"\n",
    "        print(msg)\n",
    "\n",
    "usernames = ['hannah', 'ty', 'margot']\n",
    "greet_users(usernames)"
   ]
  },
  {
   "cell_type": "code",
   "execution_count": 44,
   "metadata": {},
   "outputs": [
    {
     "name": "stdout",
     "output_type": "stream",
     "text": [
      "Printing model: dodecahedron\n",
      "Printing model: robot pendant\n",
      "Printing model: phone case\n",
      "\n",
      "The following models have been printed:\n",
      "Dodecahedron\n",
      "Robot Pendant\n",
      "Phone Case\n",
      "Printing model: dodecahedron\n",
      "Printing model: robot pendant\n",
      "Printing model: phone case\n",
      "\n",
      "The following models have been printed:\n",
      "dodecahedron\n",
      "robot pendant\n",
      "phone case\n"
     ]
    }
   ],
   "source": [
    "# Modifying a List in a Function\n",
    "\n",
    "# Start with some designs that need to be printed.\n",
    "unprinted_designs = ['phone case', 'robot pendant', 'dodecahedron']\n",
    "completed_models = []\n",
    "\n",
    "# Simulate printing each design, until none are left.\n",
    "#   Move each design to completed_models after printing.\n",
    "while unprinted_designs:\n",
    "    current_design = unprinted_designs.pop()\n",
    "    print(f\"Printing model: {current_design}\")\n",
    "    completed_models.append(current_design)\n",
    "\n",
    "# Display all completed models.\n",
    "print(\"\\nThe following models have been printed:\")\n",
    "for completed_model in completed_models:\n",
    "    print(completed_model.title())\n",
    "\n",
    "\n",
    "# Now, we can reorganize most of this code by writing two functions, each of which does one job.\n",
    "def print_models(unprinted_designs, completed_models):\n",
    "    \"\"\"Simulate printing each design, until none are left.\n",
    "    Move each design to completed_models after printing.\"\"\"\n",
    "    while unprinted_designs:\n",
    "        current_design = unprinted_designs.pop()\n",
    "        print(f\"Printing model: {current_design}\")\n",
    "        completed_models.append(current_design)\n",
    "\n",
    "def show_completed_models(completed_models):\n",
    "    \"\"\"Show all the models that were printed.\"\"\"\n",
    "    print(\"\\nThe following models have been printed:\")\n",
    "    for completed_model in completed_models:\n",
    "        print(completed_model)\n",
    "\n",
    "unprinted_designs = ['phone case', 'robot pendant', 'dodecahedron']\n",
    "completed_models = []\n",
    "\n",
    "print_models(unprinted_designs, completed_models)\n",
    "show_completed_models(completed_models)"
   ]
  },
  {
   "cell_type": "code",
   "execution_count": 45,
   "metadata": {},
   "outputs": [],
   "source": [
    "# Preventing a Function from Modifying a List\n",
    "# You may want to keep the original list of unprinted models from before, but not\n",
    "#   totally change the list and get rid of it. You might use this then. [:] the slice notation will make a copy of the list and pass it in as an argument.\n",
    "#   like this:\n",
    "\n",
    "# function_name(list_name[:])\n",
    "\n",
    "# So, for our example above:\n",
    "\n",
    "print_models(unprinted_designs[:], completed_models)"
   ]
  },
  {
   "cell_type": "code",
   "execution_count": 46,
   "metadata": {},
   "outputs": [
    {
     "name": "stdout",
     "output_type": "stream",
     "text": [
      "Hey! Nice to see you!\n",
      "What are you up to today?\n",
      "What are you doing tomorrow?\n"
     ]
    }
   ],
   "source": [
    "# 8-9. Messages\n",
    "# Make a list containing a series of short text messages. Pass the list to a\n",
    "#   function called show_messages(), which prints each text message.\n",
    "\n",
    "text_messages = []\n",
    "def add_text(text):\n",
    "    text_messages.append(text)\n",
    "\n",
    "add_text('Hey! Nice to see you!')\n",
    "add_text('What are you up to today?')\n",
    "add_text('What are you doing tomorrow?')\n",
    "\n",
    "def show_messages(texts):\n",
    "    for text in texts:\n",
    "        print(text)\n",
    "\n",
    "show_messages(text_messages)"
   ]
  },
  {
   "cell_type": "code",
   "execution_count": 47,
   "metadata": {},
   "outputs": [
    {
     "name": "stdout",
     "output_type": "stream",
     "text": [
      "Hey! Nice to see you!\n",
      "What are you up to today?\n",
      "What are you doing tomorrow?\n",
      "[]\n",
      "['What are you doing tomorrow?', 'What are you up to today?', 'Hey! Nice to see you!']\n"
     ]
    }
   ],
   "source": [
    "# 8-10. Sending Messages\n",
    "\n",
    "# Start with copy from 8-9\n",
    "text_messages = []\n",
    "def add_text(text):\n",
    "    text_messages.append(text)\n",
    "\n",
    "add_text('Hey! Nice to see you!')\n",
    "add_text('What are you up to today?')\n",
    "add_text('What are you doing tomorrow?')\n",
    "\n",
    "def show_messages(texts):\n",
    "    for text in texts:\n",
    "        print(text)\n",
    "\n",
    "show_messages(text_messages)\n",
    "\n",
    "# Write a function called send_messages(), prints each and moves to sent list\n",
    "def send_messages(texts):\n",
    "    while texts:\n",
    "        current_message = text_messages.pop()\n",
    "        sent_messages.append(current_message)\n",
    "\n",
    "sent_messages = []\n",
    "# Print both lists to make sure they were moved correctly\n",
    "send_messages(text_messages)\n",
    "print(text_messages)\n",
    "print(sent_messages)"
   ]
  },
  {
   "cell_type": "code",
   "execution_count": 50,
   "metadata": {},
   "outputs": [
    {
     "name": "stdout",
     "output_type": "stream",
     "text": [
      "Hey! Nice to see you!\n",
      "What are you up to today?\n",
      "What are you doing tomorrow?\n",
      "['Hey! Nice to see you!', 'What are you up to today?', 'What are you doing tomorrow?']\n",
      "['What are you doing tomorrow?', 'What are you up to today?', 'Hey! Nice to see you!']\n"
     ]
    }
   ],
   "source": [
    "# 8-11. Archieved Messages\n",
    "\n",
    "# Start with 8-10\n",
    "text_messages = []\n",
    "def add_text(text):\n",
    "    text_messages.append(text)\n",
    "\n",
    "add_text('Hey! Nice to see you!')\n",
    "add_text('What are you up to today?')\n",
    "add_text('What are you doing tomorrow?')\n",
    "\n",
    "def show_messages(texts):\n",
    "    for text in texts:\n",
    "        print(text)\n",
    "\n",
    "show_messages(text_messages)\n",
    "\n",
    "# Write a function called send_messages(), prints each and moves to sent list\n",
    "def send_messages(texts):\n",
    "    while texts:\n",
    "        current_message = texts.pop()\n",
    "        sent_messages.append(current_message)\n",
    "\n",
    "sent_messages = []\n",
    "\n",
    "# Call the function send_messages(), after calling the function print both\n",
    "#   of your lists to show that the original list has retained its messages\n",
    "\n",
    "send_messages(text_messages[:])\n",
    "print(text_messages)\n",
    "print(sent_messages)"
   ]
  },
  {
   "cell_type": "code",
   "execution_count": 53,
   "metadata": {},
   "outputs": [
    {
     "name": "stdout",
     "output_type": "stream",
     "text": [
      "('pepperoni',)\n",
      "('mushrooms', 'green peppers', 'extra cheese')\n",
      "\n",
      "Making a pizza with the following toppings:\n",
      "- pepperoni\n",
      "\n",
      "Making a pizza with the following toppings:\n",
      "- mushrooms\n",
      "- green peppers\n",
      "- extra cheese\n"
     ]
    }
   ],
   "source": [
    "# Passing an Arbitrary Number of Arguments\n",
    "# Sometimes you won't know how many args you will pass to a function, so:\n",
    "\n",
    "def make_pizza(*toppings):\n",
    "    \"\"\"Print the list of toppings that have been requested.\"\"\"\n",
    "    print(toppings)\n",
    "\n",
    "make_pizza('pepperoni')\n",
    "make_pizza('mushrooms', 'green peppers', 'extra cheese')\n",
    "\n",
    "# Now we can replace the print call with a loop that runs thru the list of toppings & order\n",
    "def make_pizza(*toppings):\n",
    "    \"\"\"Print the list of toppings that have been requested.\"\"\"\n",
    "    print(\"\\nMaking a pizza with the following toppings:\")\n",
    "    for topping in toppings:\n",
    "        print(f\"- {topping}\")\n",
    "\n",
    "make_pizza('pepperoni')\n",
    "make_pizza('mushrooms', 'green peppers', 'extra cheese')\n",
    "\n",
    "# We can use this syntax no matter how many arguments the function recieves."
   ]
  },
  {
   "cell_type": "code",
   "execution_count": 54,
   "metadata": {},
   "outputs": [
    {
     "name": "stdout",
     "output_type": "stream",
     "text": [
      "\n",
      "Making a 16-inch pizza with the following toppings:\n",
      "- pepperoni\n",
      "\n",
      "Making a 12-inch pizza with the following toppings:\n",
      "- mushrooms\n",
      "- green peppers\n",
      "- extra cheese\n"
     ]
    }
   ],
   "source": [
    "# Mixing Positional and Arbitrary Arguments\n",
    "\n",
    "# If you want a function to accept several different kinds of arguments, the par\n",
    "#   that accepts an arbitrary number of arguments must be placed last in the fnt\n",
    "#   definition. Python matches positional and keyword arguments first and then\n",
    "#   collects any remaining arguments in the final parameter.\n",
    "\n",
    "# For example:\n",
    "\n",
    "def make_pizza(size, *toppings):\n",
    "    \"\"\"Print the list of toppings that have been requested.\"\"\"\n",
    "    print(f\"\\nMaking a {size}-inch pizza with the following toppings:\")\n",
    "    for topping in toppings:\n",
    "        print(f\"- {topping}\")\n",
    "\n",
    "make_pizza(16, 'pepperoni')\n",
    "make_pizza(12, 'mushrooms', 'green peppers', 'extra cheese')\n",
    "\n",
    "# You'll often see the generic parameter name *args, which collects arbitrary\n",
    "#   positional arguments like this."
   ]
  },
  {
   "cell_type": "code",
   "execution_count": 55,
   "metadata": {},
   "outputs": [
    {
     "name": "stdout",
     "output_type": "stream",
     "text": [
      "{'location': 'princeton', 'field': 'physics', 'first_name': 'albert', 'last_name': 'einstein'}\n"
     ]
    }
   ],
   "source": [
    "# Using Arbitrary Keyword Arguments\n",
    "\n",
    "# Sometimes you'll want to accept an arbitrary number of args, but you won't\n",
    "#   know ahead of time what kind of info will be passed to the function, and\n",
    "#   in this case, you can write functions that accept as many key-value pairs as\n",
    "#   the calling statement provides:\n",
    "\n",
    "def build_profile(first, last, **user_info):\n",
    "    \"\"\"Build a dictionary containing everything we know about a user.\"\"\"\n",
    "    user_info['first_name'] = first\n",
    "    user_info['last_name'] = last\n",
    "    return user_info\n",
    "\n",
    "user_profile = build_profile('albert', 'einstein',\n",
    "                             location = 'princeton',\n",
    "                             field = 'physics')\n",
    "print(user_profile)\n",
    "\n",
    "# You can mix positional, keyword, and arbitrary values in many different ways\n",
    "#   when writing your own functions. It's useful to know that all these\n",
    "#   argument types exist because you'll see them often when you start reading\n",
    "#   other people's code. \n",
    "\n",
    "# Note that you'll often see the parameter name **kwargs used to collect\n",
    "#   nonspecific keyword arguments."
   ]
  },
  {
   "cell_type": "code",
   "execution_count": 58,
   "metadata": {},
   "outputs": [
    {
     "name": "stdout",
     "output_type": "stream",
     "text": [
      "\n",
      "You ordered a sandwich with the following ingredients:\n",
      "- ham\n",
      "- cheese\n",
      "- turkey\n",
      "\n",
      "You ordered a sandwich with the following ingredients:\n",
      "- ham\n",
      "- cheese\n",
      "- bacon\n",
      "- avocado\n",
      "\n",
      "You ordered a sandwich with the following ingredients:\n",
      "- ham\n",
      "- cheese\n"
     ]
    }
   ],
   "source": [
    "# 8-12. Sandwiches\n",
    "\n",
    "# Write a function that accepts a list of items a person wants on a sandwich.\n",
    "#   It should have one parameter that collects as many items as the call\n",
    "#   provides, and should print a summary of the sandwich that's being ordered.\n",
    "def make_sandwich(*toppings):\n",
    "    \"\"\"Print the list of toppings that have been requested.\"\"\"\n",
    "    print(\"\\nYou ordered a sandwich with the following ingredients:\")\n",
    "    for topping in toppings:\n",
    "        print(f\"- {topping}\")\n",
    "    \n",
    "# Call the function three times using a different number of args each time.\n",
    "make_sandwich('ham', 'cheese', 'turkey')\n",
    "make_sandwich('ham', 'cheese', 'bacon', 'avocado')\n",
    "make_sandwich('ham', 'cheese')"
   ]
  },
  {
   "cell_type": "code",
   "execution_count": 60,
   "metadata": {},
   "outputs": [
    {
     "name": "stdout",
     "output_type": "stream",
     "text": [
      "{'location': 'boston', 'field': 'business & analytics', 'hobbies': 'python', 'first_name': 'connor', 'last_name': 'raney'}\n"
     ]
    }
   ],
   "source": [
    "# 8-13. User Profile\n",
    "\n",
    "# Start with a copy of user_profile from page 148\n",
    "\n",
    "# Build a profile of yourself by calling it, using your first and last names,\n",
    "#   and three other key-value pairs that describe you.\n",
    "\n",
    "def build_profile(first, last, **user_info):\n",
    "    \"\"\"Build a dictionary containing everything we know about a user.\"\"\"\n",
    "    user_info['first_name'] = first\n",
    "    user_info['last_name'] = last\n",
    "    return user_info\n",
    "\n",
    "user_profile = build_profile('connor', 'raney',\n",
    "                             location = 'boston',\n",
    "                             field = 'business & analytics',\n",
    "                             hobbies = 'python')\n",
    "print(user_profile)"
   ]
  },
  {
   "cell_type": "code",
   "execution_count": 63,
   "metadata": {},
   "outputs": [
    {
     "name": "stdout",
     "output_type": "stream",
     "text": [
      "{'color': 'blue', 'package': 'luxury package', 'brand': 'ford', 'type': 'explorer'}\n"
     ]
    }
   ],
   "source": [
    "# 8-14. Cars\n",
    "\n",
    "# Write a function that stores info about a car in a dictionary, it should take\n",
    "#   a manufacturer and a model name. It should then take an arb # of keyword\n",
    "#   arguments. \n",
    "def build_car(brand, model, **car_info):\n",
    "    \"\"\"Build a dictionary containing everything we know about a car.\"\"\"\n",
    "    car_info['brand'] = brand\n",
    "    car_info['type'] = model\n",
    "    return car_info\n",
    "\n",
    "# Call it with required info and two other name-value pairs.\n",
    "build_car = build_car('ford', 'explorer',\n",
    "                    color = 'blue',\n",
    "                    package = 'luxury package')\n",
    "print(build_car)"
   ]
  },
  {
   "cell_type": "code",
   "execution_count": 64,
   "metadata": {},
   "outputs": [
    {
     "name": "stdout",
     "output_type": "stream",
     "text": [
      "\n",
      "Making a 16-inch pizza with the following toppings:\n",
      "- pepperoni\n",
      "\n",
      "Making a 12-inch pizza with the following toppings:\n",
      "- mushrooms\n",
      "- green peppers\n",
      "- extra cheese\n"
     ]
    }
   ],
   "source": [
    "# Importing an Entire Module\n",
    "\n",
    "# First, we have to create a module. A module is a file ending in .py that\n",
    "#   contains the code you want to import into your program.\n",
    "\n",
    "# Now, we can import pizza and make calls using make_pizza\n",
    "\n",
    "import pizza\n",
    "pizza.make_pizza(16, 'pepperoni')\n",
    "pizza.make_pizza(12, 'mushrooms', 'green peppers', 'extra cheese')\n",
    "\n",
    "# module_name.function_name() to access a function from a module."
   ]
  },
  {
   "cell_type": "code",
   "execution_count": 66,
   "metadata": {},
   "outputs": [
    {
     "name": "stdout",
     "output_type": "stream",
     "text": [
      "\n",
      "Making a 16-inch pizza with the following toppings:\n",
      "- pepperoni\n",
      "\n",
      "Making a 12-inch pizza with the following toppings:\n",
      "- mushrooms\n",
      "- green peppers\n",
      "- extra cheese\n"
     ]
    }
   ],
   "source": [
    "# Importing Specific Functions\n",
    "\n",
    "# You can also just import specific functions with this syntax:\n",
    "#   from module_name import function_name\n",
    "\n",
    "# You can import as many as you want:\n",
    "#   from module_name import function_name1, function_name2, etc.\n",
    "\n",
    "# So, with our example:\n",
    "\n",
    "from pizza import make_pizza\n",
    "pizza.make_pizza(16, 'pepperoni')\n",
    "pizza.make_pizza(12, 'mushrooms', 'green peppers', 'extra cheese')"
   ]
  },
  {
   "cell_type": "code",
   "execution_count": 67,
   "metadata": {},
   "outputs": [
    {
     "name": "stdout",
     "output_type": "stream",
     "text": [
      "\n",
      "Making a 16-inch pizza with the following toppings:\n",
      "- pepperoni\n",
      "\n",
      "Making a 12-inch pizza with the following toppings:\n",
      "- mushrooms\n",
      "- green peppers\n",
      "- extra cheese\n"
     ]
    }
   ],
   "source": [
    "# Using as to Give a Function an Alias\n",
    "\n",
    "# If the name of a function you're importing might conflict with an existing\n",
    "#   name in your program, or if the function name is long, you can use an alias:\n",
    "\n",
    "from pizza import make_pizza as mp\n",
    "\n",
    "mp(16, 'pepperoni')\n",
    "mp(12, 'mushrooms', 'green peppers', 'extra cheese')"
   ]
  },
  {
   "cell_type": "code",
   "execution_count": null,
   "metadata": {},
   "outputs": [],
   "source": [
    "# Using as to Give a Module an Alias\n",
    "\n",
    "import pizza as p\n",
    "\n",
    "p.make_pizza(16, 'pepperoni')\n",
    "p.make_pizza(12, 'mushrooms', 'green peppers', 'extra cheese')\n",
    "\n",
    "# The general syntax for this approach is:\n",
    "#   import module_name as mn"
   ]
  },
  {
   "cell_type": "code",
   "execution_count": 68,
   "metadata": {},
   "outputs": [
    {
     "name": "stdout",
     "output_type": "stream",
     "text": [
      "\n",
      "Making a 16-inch pizza with the following toppings:\n",
      "- pepperoni\n",
      "\n",
      "Making a 12-inch pizza with the following toppings:\n",
      "- mushrooms\n",
      "- green peppers\n",
      "- extra cheese\n"
     ]
    }
   ],
   "source": [
    "# Importing All Functions in a Module\n",
    "# You can tell Python to import every function in a module by using the *\n",
    "\n",
    "from pizza import *\n",
    "make_pizza(16, 'pepperoni')\n",
    "make_pizza(12, 'mushrooms', 'green peppers', 'extra cheese')\n",
    "\n",
    "# The general syntax for this is:\n",
    "#   from module_name import *"
   ]
  },
  {
   "cell_type": "code",
   "execution_count": null,
   "metadata": {},
   "outputs": [],
   "source": [
    "# Styling Functions\n",
    "\n",
    "# Functions should have descriptive names with lowercase letters and underscores.\n",
    "#   They should help you and others understand what the code does. Module names\n",
    "#   should also use these conventions as well. Every function should also have\n",
    "#   a comment that explains concisely what the function does, using docstring.\n",
    "\n",
    "# Other programmers in a well-documented function should be able to use the\n",
    "#   function by only reading the name of the function and description in the\n",
    "#   docstring, trusting the code works as described. And as long as they know\n",
    "#   the name of function, the args it needs, and the value it returns, that they\n",
    "#   can use it in their programs.\n",
    "\n",
    "# If you specify a default value for a parameter, no spaces should be used:\n",
    "# def function_name(parameter_0, parameter_1='default_value')\n",
    "\n",
    "# The same convention should be used for keyword arguments in function calls:\n",
    "# function_name(value_0, parameter_1='value')\n",
    "\n",
    "# If a set of parameters will be longer than the 79 character line:\n",
    "# def function_name(\n",
    "      # parameter_0, parameter_1, parameter_2,\n",
    "      # parameter_3, parameter_4, parameter_5):\n",
    "  # function body...\n",
    "\n",
    "# If your program or module has more than one function, you can separate each\n",
    "#   by two blank lines to make it easier to see where one function ends and the\n",
    "#   next one begins. \n",
    "\n",
    "# All import statements should be written at the beginning of a file. The only\n",
    "#   exception is if you use comments at the beginning of your file to describe\n",
    "#   the overall program. "
   ]
  },
  {
   "cell_type": "code",
   "execution_count": 3,
   "metadata": {},
   "outputs": [
    {
     "name": "stdout",
     "output_type": "stream",
     "text": [
      "Printing model: dodecahedron\n",
      "Printing model: robot pendant\n",
      "Printing model: phone case\n",
      "\n",
      "The following models have been printed:\n",
      "dodecahedron\n",
      "robot pendant\n",
      "phone case\n"
     ]
    }
   ],
   "source": [
    "# 8-15. Printing Models\n",
    "\n",
    "# Put the functions for the example printing_models into a file named\n",
    "#   printing_functions.py, write an import statement at the top of \n",
    "#   printing_models and modify the file to use the imported functions.\n",
    "\n",
    "import printing_functions\n",
    "\n",
    "unprinted_designs = ['phone case', 'robot pendant', 'dodecahedron']\n",
    "completed_models = []\n",
    "\n",
    "printing_functions.print_models(unprinted_designs, completed_models)\n",
    "printing_functions.show_completed_models(completed_models)"
   ]
  },
  {
   "cell_type": "code",
   "execution_count": 4,
   "metadata": {},
   "outputs": [],
   "source": [
    "# 8-16 Imports\n",
    "\n",
    "# Call a function using each of these approaches:\n",
    "import printing_functions\n",
    "printing_functions.print_models(unprinted_designs, completed_models)\n",
    "\n",
    "from printing_functions import print_models\n",
    "print_models(unprinted_designs, completed_models)\n",
    "\n",
    "from printing_functions import print_models as pm\n",
    "pm(unprinted_designs, completed_models)\n",
    "\n",
    "import printing_functions as pf\n",
    "pf.print_models(unprinted_designs, completed_models)\n",
    "\n",
    "from printing_functions import *\n",
    "print_models(unprinted_designs, completed_models)"
   ]
  }
 ],
 "metadata": {
  "kernelspec": {
   "display_name": "myenv",
   "language": "python",
   "name": "python3"
  },
  "language_info": {
   "codemirror_mode": {
    "name": "ipython",
    "version": 3
   },
   "file_extension": ".py",
   "mimetype": "text/x-python",
   "name": "python",
   "nbconvert_exporter": "python",
   "pygments_lexer": "ipython3",
   "version": "3.12.3"
  }
 },
 "nbformat": 4,
 "nbformat_minor": 2
}
