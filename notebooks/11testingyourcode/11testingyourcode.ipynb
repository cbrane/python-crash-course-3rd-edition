{
 "cells": [
  {
   "cell_type": "code",
   "execution_count": null,
   "metadata": {},
   "outputs": [],
   "source": [
    "# Chapter 11 - Testing Your Code"
   ]
  },
  {
   "cell_type": "code",
   "execution_count": 4,
   "metadata": {},
   "outputs": [
    {
     "name": "stdout",
     "output_type": "stream",
     "text": [
      "Requirement already satisfied: pip in /Users/connorraney/.venvs/myenv/lib/python3.12/site-packages (24.0)\n"
     ]
    }
   ],
   "source": [
    "! python -m pip install --upgrade pip\n",
    "# Upgrade pip to latest version"
   ]
  },
  {
   "cell_type": "code",
   "execution_count": 3,
   "metadata": {},
   "outputs": [
    {
     "name": "stdout",
     "output_type": "stream",
     "text": [
      "Collecting pytest\n",
      "  Downloading pytest-8.2.0-py3-none-any.whl.metadata (7.5 kB)\n",
      "Collecting iniconfig (from pytest)\n",
      "  Downloading iniconfig-2.0.0-py3-none-any.whl.metadata (2.6 kB)\n",
      "Requirement already satisfied: packaging in /Users/connorraney/.venvs/myenv/lib/python3.12/site-packages (from pytest) (24.0)\n",
      "Collecting pluggy<2.0,>=1.5 (from pytest)\n",
      "  Downloading pluggy-1.5.0-py3-none-any.whl.metadata (4.8 kB)\n",
      "Downloading pytest-8.2.0-py3-none-any.whl (339 kB)\n",
      "\u001b[2K   \u001b[90m━━━━━━━━━━━━━━━━━━━━━━━━━━━━━━━━━━━━━━━━\u001b[0m \u001b[32m339.2/339.2 kB\u001b[0m \u001b[31m3.2 MB/s\u001b[0m eta \u001b[36m0:00:00\u001b[0ma \u001b[36m0:00:01\u001b[0m\n",
      "\u001b[?25hDownloading pluggy-1.5.0-py3-none-any.whl (20 kB)\n",
      "Downloading iniconfig-2.0.0-py3-none-any.whl (5.9 kB)\n",
      "Installing collected packages: pluggy, iniconfig, pytest\n",
      "Successfully installed iniconfig-2.0.0 pluggy-1.5.0 pytest-8.2.0\n"
     ]
    }
   ],
   "source": [
    "! python -m pip install pytest\n",
    "# Install pytest"
   ]
  },
  {
   "cell_type": "code",
   "execution_count": null,
   "metadata": {},
   "outputs": [],
   "source": [
    "# Testing a Function\n",
    "\n",
    "# We are going to import that function from the file it is in and make a\n",
    "#   program that uses this function, which we can also find at name_function.py\n",
    "\n",
    "from name_function import get_formatted_name\n",
    "\n",
    "print(\"Enter 'q' at any time to quit.\")\n",
    "while True:\n",
    "    first = input(\"\\nPlease give me a first name: \")\n",
    "    if first == 'q':\n",
    "        break\n",
    "    last = input(\"Please give me a last name: \")\n",
    "    if last == 'q':\n",
    "        break\n",
    "        \n",
    "    formatted_name = get_formatted_name(first, last)\n",
    "    print(f\"\\tNeatly formatted name: {formatted_name}.\")"
   ]
  },
  {
   "cell_type": "code",
   "execution_count": 2,
   "metadata": {},
   "outputs": [],
   "source": [
    "# Unit Tests and Test Cases\n",
    "\n",
    "# A unit test verifies that one specific aspect of a function's behavior is\n",
    "#   correct, and a test case is a collection of unit tests that together prove\n",
    "#   that a function behaves as it's supposed to, within the full range of\n",
    "#   situations that you expect it to handle.\n",
    "\n",
    "# A good test case considers all the possible kinds of input a function could\n",
    "#   recieve and includes tests to represent each of these situations. A test\n",
    "#   case with full coverage includes a full rnage of unit tests covering all\n",
    "#   the possible ways you can use a function. Getting full coverage on a large\n",
    "#   project can be daunting because of this, so it's often good enough to write\n",
    "#   tests for your code's critical behaviors and then aim for full coverage\n",
    "#   only if the project starts to see widespread use.\n",
    "\n",
    "# A Passing Test\n",
    "#   With pytest we are going to write a single test function that calls the\n",
    "#   function we're testing, we'll make an assertion about the value that's\n",
    "#   returned, if our assertion is correct, the test passes, and if it is not, \n",
    "#   then the test will fail:\n",
    "\n",
    "from name_function import get_formatted_name\n",
    "\n",
    "def test_first_last_name():\n",
    "    \"\"\"Do names like 'Janis Joplin' work?\"\"\"\n",
    "    formatted_name = get_formatted_name('janis', 'joplin')\n",
    "    assert formatted_name == 'Janis Joplin'"
   ]
  },
  {
   "cell_type": "code",
   "execution_count": 3,
   "metadata": {},
   "outputs": [],
   "source": [
    "# Testing a Class\n",
    "\n",
    "# So far you've only seen one kind of assertion: a claim that a string has a\n",
    "#   specific value, and when writing a test you can make any claim that can be\n",
    "#   expressed as a conditional statement. If the condition is True as expected,\n",
    "#   your assumption about how that part of your program behaves will be\n",
    "#   confirmed; you can be confident that no errors exist. \n",
    "\n",
    "# Here are some commonly used assertion statements in tests:\n",
    "#   assert a == b ; assert that two values are equal\n",
    "#   assert a != b ; assert that two values are not equal\n",
    "#   assert a ; assert that a evaluates to True\n",
    "#   assert not a ; assert that a evaluates to False\n",
    "#   assert element in list ; assert that an element is in a list\n",
    "#   assert element not in list ; assert that an element is not in a list"
   ]
  },
  {
   "cell_type": "code",
   "execution_count": null,
   "metadata": {},
   "outputs": [],
   "source": [
    "# Using Fixtures\n",
    "\n",
    "# In test_survey.py we created a new instance of AnonymousSurvey in each test\n",
    "#   function, this is fine in the short example we're working with, but in a \n",
    "#   real world project, this would be problematic\n",
    "# In testing, a fixture helps set up a test environment, and often this means\n",
    "#   creating a resource that's used by more than one test. We can create a\n",
    "#   fixture in pytest by writing a function with the decorator @pytest.fixture\n",
    "# A decorator is a directive placed just before a function definition; Python\n",
    "#   applies this directive to the function before it runs, to alter how the \n",
    "#   function code behaves, this might sound complicated but you can use\n",
    "#   decorators from third-party packages before learning to write them yourself\n",
    "\n"
   ]
  }
 ],
 "metadata": {
  "kernelspec": {
   "display_name": "myenv",
   "language": "python",
   "name": "python3"
  },
  "language_info": {
   "codemirror_mode": {
    "name": "ipython",
    "version": 3
   },
   "file_extension": ".py",
   "mimetype": "text/x-python",
   "name": "python",
   "nbconvert_exporter": "python",
   "pygments_lexer": "ipython3",
   "version": "3.12.3"
  }
 },
 "nbformat": 4,
 "nbformat_minor": 2
}
