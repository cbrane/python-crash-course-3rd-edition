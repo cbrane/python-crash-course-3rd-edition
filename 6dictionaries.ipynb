{
 "cells": [
  {
   "cell_type": "code",
   "execution_count": null,
   "metadata": {},
   "outputs": [],
   "source": [
    "# Chapter 6. Dictionaries\n",
    "\n",
    "# A simple dictionary\n",
    "\n",
    "alien_0 = {'color': 'green', 'points': 5}\n",
    "\n",
    "print(alien_0['color'])\n",
    "print(alien_0['points'])\n",
    "\n",
    "# A dictionary in Python is a collection of key-value pairs, each key is connected to a value, \n",
    "# and you can use a key to access the value associated with that key. A key's value can be a number,\n",
    "# a string, a list, or even another dictionary. You can use any object that you create in Python\n",
    "# as a value in a dictionary."
   ]
  },
  {
   "cell_type": "code",
   "execution_count": 11,
   "metadata": {},
   "outputs": [
    {
     "name": "stdout",
     "output_type": "stream",
     "text": [
      "green\n",
      "5\n",
      "5\n",
      "You just earned 5 points!\n",
      "{'color': 'green', 'points': 5}\n",
      "{'color': 'green', 'points': 5, 'x_position': 0, 'y_position': 25}\n",
      "{'color': 'green', 'points': 5}\n",
      "The alien is green.\n",
      "The alien is yellow.\n",
      "Original Position: 0\n",
      "New position: 2\n",
      "Original Position: 0\n",
      "New position: 3\n"
     ]
    }
   ],
   "source": [
    "# Accessing Values in a Dictionary\n",
    "print(alien_0['points']) # give the name of dictionary, then plcae the key inside a set of square brackets\n",
    "# then it  will return the value associated with the key\n",
    "\n",
    "new_points = alien_0['points']\n",
    "print(f\"You just earned {new_points} points!\")\n",
    "# if you run this code every time an alien is shot down, then the alien's\n",
    "# point value will be retreived.\n",
    "\n",
    "\n",
    "\n",
    "# Adding New Key-Value Pairs\n",
    "## Dictionaries are dynamics, and you can add new key-value pairs at anytime:\n",
    "alien_0 = {'color': 'green', 'points': 5}\n",
    "print(alien_0)\n",
    "\n",
    "# Add two new pieces of information:\n",
    "alien_0['x_position'] = 0\n",
    "alien_0['y_position'] = 25\n",
    "print(alien_0)\n",
    "\n",
    "\n",
    "# Starting with an Empty Dictionary\n",
    "alien_0 = {}\n",
    "\n",
    "alien_0['color'] = 'green'\n",
    "alien_0['points'] = 5\n",
    "\n",
    "print(alien_0)\n",
    "\n",
    "\n",
    "\n",
    "# Modifying Values in a Dictionary\n",
    "\n",
    "# To modify a value, give the name of the dict. then the new value you want with that key\n",
    "alien_0 = {'color': 'green'}\n",
    "print(f\"The alien is {alien_0['color']}.\")\n",
    "\n",
    "alien_0['color'] = 'yellow'\n",
    "print(f\"The alien is {alien_0['color']}.\")\n",
    "\n",
    "\n",
    "# Let's track the position of an alien that can move at different speeds:\n",
    "alien_0 = {'x_position': 0, \n",
    "           'y_position': 25, \n",
    "           'speed': 'medium'}\n",
    "print(f\"Original Position: {alien_0['x_position']}\")\n",
    "\n",
    "# Move the alien to the right & determine how far to move alien based on speed\n",
    "if alien_0['speed'] == 'slow':\n",
    "    x_increment = 1\n",
    "elif alien_0['speed'] == 'medium':\n",
    "    x_increment = 2\n",
    "else:\n",
    "    # This must be a fast alien.\n",
    "    x_increment = 3\n",
    "\n",
    "# The new position is the old position plus the increment.\n",
    "alien_0['x_position'] = alien_0['x_position'] + x_increment\n",
    "\n",
    "print(f\"New position: {alien_0['x_position']}\")\n",
    "\n",
    "# Now, lets say that it is a fast alien instead! \n",
    "\n",
    "alien_0 = {'x_position': 0, \n",
    "           'y_position': 25, \n",
    "           'speed': 'fast'}\n",
    "print(f\"Original Position: {alien_0['x_position']}\")\n",
    "\n",
    "# Move the alien to the right & determine how far to move alien based on speed\n",
    "if alien_0['speed'] == 'slow':\n",
    "    x_increment = 1\n",
    "elif alien_0['speed'] == 'medium':\n",
    "    x_increment = 2\n",
    "else:\n",
    "    # This must be a fast alien.\n",
    "    x_increment = 3\n",
    "\n",
    "# The new position is the old position plus the increment.\n",
    "alien_0['x_position'] = alien_0['x_position'] + x_increment\n",
    "\n",
    "print(f\"New position: {alien_0['x_position']}\")"
   ]
  },
  {
   "cell_type": "code",
   "execution_count": 13,
   "metadata": {},
   "outputs": [
    {
     "name": "stdout",
     "output_type": "stream",
     "text": [
      "{'color': 'green', 'points': 5}\n",
      "{'color': 'green'}\n"
     ]
    }
   ],
   "source": [
    "# Removing Key-Value Pairs\n",
    "\n",
    "# When you no longer need a piece of information that's stored in a dict, del\n",
    "alien_0 = {'color': 'green', 'points': 5}\n",
    "print(alien_0)\n",
    "\n",
    "del alien_0['points']\n",
    "print(alien_0)"
   ]
  },
  {
   "cell_type": "code",
   "execution_count": 15,
   "metadata": {},
   "outputs": [
    {
     "name": "stdout",
     "output_type": "stream",
     "text": [
      "Sarah's favorite language is C.\n"
     ]
    }
   ],
   "source": [
    "# A Dictionary of Similar Objects\n",
    "favorite_languages = {\n",
    "    'jen': 'python',\n",
    "    'sarah': 'c',\n",
    "    'edward': 'rust',\n",
    "    'phil': 'python',\n",
    "}\n",
    "\n",
    "language = favorite_languages['sarah'].title()\n",
    "print(f\"Sarah's favorite language is {language}.\")"
   ]
  },
  {
   "cell_type": "code",
   "execution_count": 17,
   "metadata": {},
   "outputs": [
    {
     "name": "stdout",
     "output_type": "stream",
     "text": [
      "No point value assigned.\n"
     ]
    }
   ],
   "source": [
    "# Using get() to Access Values\n",
    "\n",
    "# For dictionaries specifically, you can use the get() method to set a default\n",
    "#   value that will be returned if the requested key doesn't exist\n",
    "\n",
    "alien_0 = {'color': 'green', 'speed': 'slow'}\n",
    "point_value = alien_0.get('points', 'No point value assigned.')\n",
    "print(point_value)\n",
    "# If there is a chance that the key you're asking for might not exist,\n",
    "#   consider using get() instead of the sq bracket notation"
   ]
  },
  {
   "cell_type": "code",
   "execution_count": 31,
   "metadata": {},
   "outputs": [
    {
     "name": "stdout",
     "output_type": "stream",
     "text": [
      "first_name -> jeff\n",
      "last_name -> parkins\n",
      "age -> 22\n",
      "city -> new york\n"
     ]
    }
   ],
   "source": [
    "# 6-1. Person:\n",
    "\n",
    "# Store information about a person\n",
    "person = {\n",
    "    'first_name': \"jeff\",\n",
    "    'last_name': \"parkins\",\n",
    "    'age': 22,\n",
    "    'city': 'new york'\n",
    "}\n",
    "\n",
    "for key, value in person.items():\n",
    "    print(key, \"->\", value)\n"
   ]
  },
  {
   "cell_type": "code",
   "execution_count": 67,
   "metadata": {},
   "outputs": [
    {
     "name": "stdout",
     "output_type": "stream",
     "text": [
      "Jen likes the number 4\n",
      "Sarah likes the number 7\n",
      "Edward likes the number 12\n",
      "Phil likes the number 13\n",
      "Connor likes the number 18\n"
     ]
    }
   ],
   "source": [
    "# 6-2. Favorite Numbers\n",
    "\n",
    "# Use a dict. to store 5 people's fav nums and print them:\n",
    "favorite_numbers = {\n",
    "    'jen': 4,\n",
    "    'sarah': 7,\n",
    "    'edward': 12,\n",
    "    'phil': 13,\n",
    "    'connor': 18,\n",
    "}\n",
    "\n",
    "for key, value in favorite_numbers.items():\n",
    "    print(key.title(), \"likes the number\", value)\n"
   ]
  },
  {
   "cell_type": "code",
   "execution_count": 76,
   "metadata": {},
   "outputs": [
    {
     "name": "stdout",
     "output_type": "stream",
     "text": [
      "Key: the first part of a key: value set in a dictionary!\n",
      "\n",
      "Value: the second part of a key: value set in a dictionary!\n",
      "\n",
      "Dictionary: a collection of key-value pairs!\n",
      "\n",
      "Equality: if things are equal to each other!\n",
      "\n",
      "Inequality: if things are not equal to each other!\n",
      "\n"
     ]
    }
   ],
   "source": [
    "# 6-3. Glossary\n",
    "\n",
    "# Use five programming words as keys, and meanings as values:\n",
    "words = {\n",
    "    'key': 'the first part of a key: value set in a dictionary!',\n",
    "    'value': 'the second part of a key: value set in a dictionary!',\n",
    "    'dictionary': 'a collection of key-value pairs!',\n",
    "    'equality': 'if things are equal to each other!',\n",
    "    'inequality': 'if things are not equal to each other!',\n",
    "}\n",
    "\n",
    "# Print each word and its meaning as neatly formatted output, and use \\n to put a new line between each output:\n",
    "for key, value in words.items():\n",
    "    print(f\"{key.title()}: {value}\\n\")"
   ]
  },
  {
   "cell_type": "code",
   "execution_count": 45,
   "metadata": {},
   "outputs": [
    {
     "name": "stdout",
     "output_type": "stream",
     "text": [
      "\n",
      "Key: username\n",
      "Value: efermi\n",
      "\n",
      "Key: first\n",
      "Value: enrico\n",
      "\n",
      "Key: last\n",
      "Value: fermi\n",
      "\n",
      "\n",
      "Jen's favorite language is Python.\n",
      "Sarah's favorite language is C.\n",
      "Edward's favorite language is Rust.\n",
      "Phil's favorite language is Python.\n"
     ]
    }
   ],
   "source": [
    "# Looping Through a Dictionary\n",
    "\n",
    "user_0 = {\n",
    "    'username': 'efermi',\n",
    "    'first': 'enrico',\n",
    "    'last': 'fermi',\n",
    "}\n",
    "\n",
    "for k, v in user_0.items():\n",
    "    print(f\"\\nKey: {k}\")\n",
    "    print(f\"Value: {v}\")\n",
    "\n",
    "\n",
    "# From the example we used earlier, lets loop through that dictionary:\n",
    "favorite_languages = {\n",
    "    'jen': 'python',\n",
    "    'sarah': 'c',\n",
    "    'edward': 'rust',\n",
    "    'phil': 'python',\n",
    "}\n",
    "\n",
    "print(\"\\n\")\n",
    "\n",
    "\n",
    "for name, language in favorite_languages.items():\n",
    "    print(f\"{name.title()}'s favorite language is {language.title()}.\")"
   ]
  },
  {
   "cell_type": "code",
   "execution_count": 56,
   "metadata": {},
   "outputs": [
    {
     "name": "stdout",
     "output_type": "stream",
     "text": [
      "Jen\n",
      "Sarah\n",
      "Edward\n",
      "Phil\n",
      "Hi, Jen.\n",
      "Hi, Sarah.\n",
      "\tSarah, I see that you love C!\n",
      "Hi, Edward.\n",
      "Hi, Phil.\n",
      "\tPhil, I see that you love Python!\n",
      "Erin, please take our poll!\n"
     ]
    }
   ],
   "source": [
    "# Looping Through All the Keys in a Dictionary\n",
    "\n",
    "favorite_languages = {\n",
    "    'jen': 'python',\n",
    "    'sarah': 'c',\n",
    "    'edward': 'rust',\n",
    "    'phil': 'python',\n",
    "}\n",
    "\n",
    "\n",
    "for name in favorite_languages.keys(): # defaults to keys, so don't have to use .keys() here, just for ease of reading\n",
    "    print(name.title())\n",
    "\n",
    "# lets use this example to print a message about the languages they chose\n",
    "friends = ['phil', 'sarah'] # make list of friends we want to print msg. to\n",
    "for name in favorite_languages.keys():\n",
    "    print(f\"Hi, {name.title()}.\") # then, we print their names\n",
    "\n",
    "    if name in friends: # check if the name we're working with is in the list friends\n",
    "        language = favorite_languages[name].title() # use current value of name as the key\n",
    "        print(f\"\\t{name.title()}, I see that you love {language}!\")\n",
    "\n",
    "\n",
    "# we can also use the keys method to find out if someone was polled:\n",
    "if 'erin' not in favorite_languages.keys():\n",
    "    print(\"Erin, please take our poll!\")"
   ]
  },
  {
   "cell_type": "code",
   "execution_count": 58,
   "metadata": {},
   "outputs": [
    {
     "name": "stdout",
     "output_type": "stream",
     "text": [
      "Edward, thank you for taking the poll.\n",
      "Jen, thank you for taking the poll.\n",
      "Phil, thank you for taking the poll.\n",
      "Sarah, thank you for taking the poll.\n"
     ]
    }
   ],
   "source": [
    "# Looping Through a Dictionary's Keys in a Particular Order\n",
    "## One way to do this is to sort the keys as they're returned in the for loop, we can use sorted()\n",
    "\n",
    "favorite_languages = {\n",
    "    'jen': 'python',\n",
    "    'sarah': 'c',\n",
    "    'edward': 'rust',\n",
    "    'phil': 'python',\n",
    "}\n",
    "\n",
    "for name in sorted(favorite_languages.keys()):\n",
    "    print(f\"{name.title()}, thank you for taking the poll.\")"
   ]
  },
  {
   "cell_type": "code",
   "execution_count": 63,
   "metadata": {},
   "outputs": [
    {
     "name": "stdout",
     "output_type": "stream",
     "text": [
      "The following languages have been mentioned:\n",
      "Python\n",
      "C\n",
      "Rust\n",
      "Python\n",
      "The following languages have been mentioned:\n",
      "Rust\n",
      "C\n",
      "Python\n"
     ]
    },
    {
     "data": {
      "text/plain": [
       "{'c', 'python', 'rust'}"
      ]
     },
     "execution_count": 63,
     "metadata": {},
     "output_type": "execute_result"
    }
   ],
   "source": [
    "# Looping Through All Values in a Dictionary\n",
    "## If you are just interested in the values a dictionary contains, you can use values()\n",
    "\n",
    "favorite_languages = {\n",
    "    'jen': 'python',\n",
    "    'sarah': 'c',\n",
    "    'edward': 'rust',\n",
    "    'phil': 'python',\n",
    "}\n",
    "\n",
    "print(\"The following languages have been mentioned:\")\n",
    "for language in favorite_languages.values():\n",
    "    print(language.title())\n",
    "# This pulls all without checking for repeats, so if we want to check for that:\n",
    "\n",
    "print(\"The following languages have been mentioned:\")\n",
    "for language in set(favorite_languages.values()):\n",
    "    print(language.title())\n",
    "# we use set() here to pull all the unique values, so we have a nonrepetitive list\n",
    "\n",
    "# You can build a set directly using braces and separating the elements with commas:\n",
    "languages = {'python', 'rust', 'python', 'c'}\n",
    "languages"
   ]
  },
  {
   "cell_type": "code",
   "execution_count": 81,
   "metadata": {},
   "outputs": [
    {
     "name": "stdout",
     "output_type": "stream",
     "text": [
      "Key: the first part of a key: value set in a dictionary!\n",
      "\n",
      "Value: the second part of a key: value set in a dictionary!\n",
      "\n",
      "Dictionary: a collection of key-value pairs!\n",
      "\n",
      "Equality: if things are equal to each other!\n",
      "\n",
      "Inequality: if things are not equal to each other!\n",
      "\n",
      "String: A series of characters.\n",
      "\n",
      "Comment: A note in a program that the Python interpreter ignores.\n",
      "\n",
      "List: A collection of items in a particular order.\n",
      "\n",
      "Loop: Work through a collection of items, one at a time.\n",
      "\n",
      "Conditional Test: A comparison between two values.\n",
      "\n"
     ]
    }
   ],
   "source": [
    "# 6-4. Glossary 2:\n",
    "\n",
    "# Use program from 6-3:\n",
    "# 6-3. Glossary\n",
    "# Since I already used a loop before, I do not have to change it, but just add 5 more words\n",
    "\n",
    "# Use five programming words as keys, and meanings as values:\n",
    "words = {\n",
    "    'key': 'the first part of a key: value set in a dictionary!',\n",
    "    'value': 'the second part of a key: value set in a dictionary!',\n",
    "    'dictionary': 'a collection of key-value pairs!',\n",
    "    'equality': 'if things are equal to each other!',\n",
    "    'inequality': 'if things are not equal to each other!',\n",
    "    'string': 'A series of characters.',\n",
    "    'comment': 'A note in a program that the Python interpreter ignores.',\n",
    "    'list': 'A collection of items in a particular order.',\n",
    "    'loop': 'Work through a collection of items, one at a time.',\n",
    "    'conditional test': 'A comparison between two values.',\n",
    "}\n",
    "\n",
    "# Print each word and its meaning as neatly formatted output, and use \\n to put a new line between each output:\n",
    "for key, value in words.items():\n",
    "    print(f\"{key.title()}: {value}\\n\")"
   ]
  },
  {
   "cell_type": "code",
   "execution_count": 94,
   "metadata": {},
   "outputs": [
    {
     "name": "stdout",
     "output_type": "stream",
     "text": [
      "The Nile river is in Egypt.\n",
      "The Mississippi river is in Us.\n",
      "The Amazon river is in Columbia.\n",
      "Nile\n",
      "Mississippi\n",
      "Amazon\n",
      "Egypt\n",
      "US\n",
      "Columbia\n"
     ]
    }
   ],
   "source": [
    "# 6-5. Rivers:\n",
    "\n",
    "# Make a dictionary containing 3 major rivers & the country that runs thru each\n",
    "rivers = {\n",
    "    'nile': 'egypt',\n",
    "    'mississippi': 'US',\n",
    "    'amazon': 'columbia',\n",
    "}\n",
    "\n",
    "# Use a loop to print a sentence about each river\n",
    "for river, country in rivers.items():\n",
    "    print(f\"The {river.title()} river is in {country.title()}.\")\n",
    "\n",
    "# Use a loop to print out the name of each river\n",
    "for river in rivers.keys():\n",
    "    print(f\"{river.title()}\")\n",
    "\n",
    "# Use a loop to print out the name of each country\n",
    "for country in rivers.values():\n",
    "    if country == 'US':\n",
    "        print(f\"{country.upper()}\")\n",
    "    else:\n",
    "        print(f\"{country.title()}\")"
   ]
  },
  {
   "cell_type": "code",
   "execution_count": 98,
   "metadata": {},
   "outputs": [
    {
     "name": "stdout",
     "output_type": "stream",
     "text": [
      "Thank you for taking the poll!\n",
      "Please take the poll!\n",
      "Please take the poll!\n",
      "Please take the poll!\n",
      "Thank you for taking the poll!\n",
      "Please take the poll!\n"
     ]
    }
   ],
   "source": [
    "# 6-6. Polling:\n",
    "\n",
    "# Use the code if favorite_languages.py (pg. 96)\n",
    "favorite_languages = {\n",
    "    'jen': 'python',\n",
    "    'sarah': 'c',\n",
    "    'edward': 'rust',\n",
    "    'phil': 'python',\n",
    "}\n",
    "\n",
    "# Make a list of the people who should take the fav languages poll, include some names that are already in the dictionary that should not.\n",
    "names = ('jen', 'ryan', 'jim', 'cameron', 'sarah', 'matthew')\n",
    "\n",
    "# Loop through the list of people who should take the poll, if they have taken the pool, print a msg. thanking them, if not, tell them to take the poll\n",
    "for name in names:\n",
    "    if name in favorite_languages.keys():\n",
    "        print(\"Thank you for taking the poll!\")\n",
    "    else:\n",
    "        print(\"Please take the poll!\")"
   ]
  },
  {
   "cell_type": "code",
   "execution_count": 122,
   "metadata": {},
   "outputs": [
    {
     "name": "stdout",
     "output_type": "stream",
     "text": [
      "{'color': 'green', 'points': 5}\n",
      "{'color': 'yellow', 'points': 10}\n",
      "{'color': 'red', 'points': 15}\n",
      "\n",
      "\n",
      "{'color': 'green', 'points': 5, 'speed': 'slow'}\n",
      "{'color': 'green', 'points': 5, 'speed': 'slow'}\n",
      "{'color': 'green', 'points': 5, 'speed': 'slow'}\n",
      "{'color': 'green', 'points': 5, 'speed': 'slow'}\n",
      "{'color': 'green', 'points': 5, 'speed': 'slow'}\n",
      "...\n",
      "Total number of aliens: 30\n",
      "{'color': 'yellow', 'points': 10, 'speed': 'medium'}\n",
      "{'color': 'yellow', 'points': 10, 'speed': 'medium'}\n",
      "{'color': 'yellow', 'points': 10, 'speed': 'medium'}\n",
      "{'color': 'green', 'points': 5, 'speed': 'slow'}\n",
      "{'color': 'green', 'points': 5, 'speed': 'slow'}\n",
      "...\n"
     ]
    }
   ],
   "source": [
    "# Nesting\n",
    "## Sometimes you will want to store multiple dictionaries in a list, or a list of items as a value in a dictionary, which is called nesting\n",
    "## You can nest dictionaries inside a list, a list of items inside a dictionary, or even a dictionary inside another dictionary\n",
    "\n",
    "# A List of Dictionaries\n",
    "alien_0 = {'color': 'green', 'points': 5}\n",
    "alien_1 = {'color': 'yellow', 'points': 10}\n",
    "alien_2 = {'color': 'red', 'points': 15}\n",
    "\n",
    "aliensold = [alien_0, alien_1, alien_2]\n",
    "\n",
    "for alien in aliensold:\n",
    "    print(alien)\n",
    "\n",
    "print(\"\\n\")\n",
    "# A more realistic example:\n",
    "# Make an empty list for storing aliens\n",
    "aliens = []\n",
    "\n",
    "# Make 30 green aliens.\n",
    "for alien_number in range(30):\n",
    "    new_alien = {'color': 'green', 'points': 5, 'speed': 'slow'}\n",
    "    aliens.append(new_alien)\n",
    "\n",
    "# Show the first 5 aliens\n",
    "for alien in aliens [:5]:\n",
    "    print(alien)\n",
    "print(\"...\")\n",
    "\n",
    "# Show how many aliens have been created:\n",
    "print(f\"Total number of aliens: {len(aliens)}\")\n",
    "\n",
    "# We could also change some of these aliens:\n",
    "aliens = []\n",
    "\n",
    "# Make 30 green aliens.\n",
    "for alien_number in range(30):\n",
    "    new_alien = {'color': 'green', 'points': 5, 'speed': 'slow'}\n",
    "    aliens.append(new_alien)\n",
    "\n",
    "for alien in aliens[0:3]:\n",
    "    if alien['color'] == 'green':\n",
    "        alien['color'] = 'yellow'\n",
    "        alien['speed'] = 'medium'\n",
    "        alien['points'] = 10\n",
    "    elif alien['color'] == 'yellow':\n",
    "        alien['color'] = 'red'\n",
    "        alien['speed'] = 'fast'\n",
    "        alien['points'] = 15         \n",
    "\n",
    "# Show the first 5 aliens\n",
    "for alien in aliens [:5]:\n",
    "    print(alien)\n",
    "print(\"...\")\n"
   ]
  },
  {
   "cell_type": "code",
   "execution_count": 125,
   "metadata": {},
   "outputs": [
    {
     "name": "stdout",
     "output_type": "stream",
     "text": [
      "You order a thick-crust pizza with the following toppings:\n",
      "\tmushrooms\n",
      "\textra cheese\n",
      "\n",
      "Jen's favorite languages are:\n",
      "\tRust\n",
      "\tC\n",
      "\tPython\n",
      "\n",
      "Sarah's favorite languages are:\n",
      "\tRust\n",
      "\tC\n",
      "\tPython\n",
      "\n",
      "Edward's favorite languages are:\n",
      "\tRust\n",
      "\tC\n",
      "\tPython\n",
      "\n",
      "Phil's favorite languages are:\n",
      "\tRust\n",
      "\tC\n",
      "\tPython\n"
     ]
    }
   ],
   "source": [
    "# A List in a Dictionary\n",
    "\n",
    "# Store information about a pizza being ordered.\n",
    "pizza = {\n",
    "    'crust': 'thick',\n",
    "    'toppings': ['mushrooms', 'extra cheese'], # nesting a list inside dictionary\n",
    "}\n",
    "\n",
    "# Summarize the order.\n",
    "print(f\"You order a {pizza['crust']}-crust pizza \"\n",
    "      \"with the following toppings:\")\n",
    "\n",
    "for topping in pizza['toppings']:\n",
    "    print(f\"\\t{topping}\")\n",
    "    \n",
    "\n",
    "# We can also store multiple languages instead of just one for each person:\n",
    "favorite_languages = {\n",
    "    'jen': ['python', 'rust'],\n",
    "    'sarah': ['c'],\n",
    "    'edward': ['rust', 'go'],\n",
    "    'phil': ['python', 'haskell'],\n",
    "}\n",
    "\n",
    "for name, language in favorite_languages.items():\n",
    "    print(f\"\\n{name.title()}'s favorite languages are:\")\n",
    "    for language in languages:\n",
    "        print(f\"\\t{language.title()}\")\n",
    "\n",
    "# You should not nest lists and dictionaries too deeply, and if you are nesting items\n",
    "# much deeper than what you see in later examples there's most likely a simpler way to solve the problem."
   ]
  },
  {
   "cell_type": "code",
   "execution_count": 126,
   "metadata": {},
   "outputs": [
    {
     "name": "stdout",
     "output_type": "stream",
     "text": [
      "\n",
      "Username: aeinstein\n",
      "\tFull name: Albert Einstein\n",
      "\tLocation: Princeton\n",
      "\n",
      "Username: mcurie\n",
      "\tFull name: Marie Curie\n",
      "\tLocation: Paris\n"
     ]
    }
   ],
   "source": [
    "# A Dictionary in a Dictionary:\n",
    "\n",
    "# We can store user info inside a dictionary of their username\n",
    "users = {\n",
    "    'aeinstein': {\n",
    "        'first': 'albert',\n",
    "        'last': 'einstein',\n",
    "        'location': 'princeton'\n",
    "    },\n",
    "    \n",
    "    'mcurie': {\n",
    "        'first': 'marie',\n",
    "        'last': 'curie',\n",
    "        'location': 'paris' \n",
    "    }\n",
    "}\n",
    "\n",
    "# Then we cna loop through the username and the dictionaries associated with each username\n",
    "for username, user_info in users.items():\n",
    "    print(f\"\\nUsername: {username}\")\n",
    "    full_name = f\"{user_info['first']} {user_info['last']}\"\n",
    "    location = user_info['location']\n",
    "\n",
    "    print(f\"\\tFull name: {full_name.title()}\")\n",
    "    print(f\"\\tLocation: {location.title()}\")"
   ]
  },
  {
   "cell_type": "code",
   "execution_count": 133,
   "metadata": {},
   "outputs": [
    {
     "name": "stdout",
     "output_type": "stream",
     "text": [
      "Full name: Jeff Parkins\n",
      "Age: 22\n",
      "City: New York\n",
      "\n",
      "\n",
      "Full name: Connor Mobile\n",
      "Age: 18\n",
      "City: Boston\n",
      "\n",
      "\n",
      "Full name: Martha Stewart\n",
      "Age: 78\n",
      "City: Marthas Vineyard\n",
      "\n",
      "\n"
     ]
    }
   ],
   "source": [
    "# 6-7. People\n",
    "\n",
    "# Start with program you wrote for 6-1\n",
    "# Store information about a person\n",
    "person1 = {\n",
    "    'first_name': \"jeff\",\n",
    "    'last_name': \"parkins\",\n",
    "    'age': 22,\n",
    "    'city': 'new york'\n",
    "}\n",
    "\n",
    "# Make two new dictionaries representing different people, and store all three dictionaries in a list called people\n",
    "person2 = {\n",
    "    'first_name': \"connor\",\n",
    "    'last_name': \"mobile\",\n",
    "    'age': 18,\n",
    "    'city': 'boston'\n",
    "}\n",
    "person3 = {\n",
    "    'first_name': \"martha\",\n",
    "    'last_name': \"stewart\",\n",
    "    'age': 78,\n",
    "    'city': \"marthas vineyard\"\n",
    "}\n",
    "\n",
    "people = [person1, person2, person3]\n",
    "\n",
    "# Loop through your list of people - as you loop through your list, print everything you know about each person\n",
    "\n",
    "for person in people:\n",
    "    print(f\"Full name: {person['first_name'].title()} {person['last_name'].title()}\")\n",
    "    print(f\"Age: {person['age']}\")\n",
    "    print(f\"City: {person['city'].title()}\")\n",
    "    print(\"\\n\")  # for an empty line between each person"
   ]
  },
  {
   "cell_type": "code",
   "execution_count": 135,
   "metadata": {},
   "outputs": [
    {
     "name": "stdout",
     "output_type": "stream",
     "text": [
      "Kind of pet: Dog\n",
      "Owners Name: Bob\n",
      "\n",
      "\n",
      "Kind of pet: Cat\n",
      "Owners Name: Rick\n",
      "\n",
      "\n",
      "Kind of pet: Rat\n",
      "Owners Name: Cameron\n",
      "\n",
      "\n",
      "Kind of pet: Mouse\n",
      "Owners Name: Matthew\n",
      "\n",
      "\n",
      "Kind of pet: Lion\n",
      "Owners Name: Caroline\n",
      "\n",
      "\n"
     ]
    }
   ],
   "source": [
    "# 6-8. Pets\n",
    "\n",
    "# Make several dictionaries, with each one being a pet. Have kind of pet & owner's name, store them in a list called pets\n",
    "\n",
    "pet1 = {'pet_kind': \"dog\", 'owners_name': \"bob\"}\n",
    "pet2 = {'pet_kind': \"cat\", 'owners_name': \"rick\"}\n",
    "pet3 = {'pet_kind': \"rat\", 'owners_name': \"cameron\"}\n",
    "pet4 = {'pet_kind': \"mouse\", 'owners_name': \"Matthew\"}\n",
    "pet5 = {'pet_kind': \"lion\", 'owners_name': \"caroline\"}\n",
    "\n",
    "# Create the list of pets\n",
    "pets = [pet1, pet2, pet3, pet4, pet5]\n",
    "\n",
    "# Loop through your list, and as you do, print everything you know about each pet\n",
    "\n",
    "for pet in pets:\n",
    "    print(f\"Kind of pet: {pet['pet_kind'].title()}\")\n",
    "    print(f\"Owners Name: {pet['owners_name'].title()}\")\n",
    "    print(\"\\n\")  # for an empty line between each person"
   ]
  },
  {
   "cell_type": "code",
   "execution_count": 140,
   "metadata": {},
   "outputs": [
    {
     "name": "stdout",
     "output_type": "stream",
     "text": [
      "\n",
      "Jen's favorite places are:\n",
      "\tBoston\n",
      "\tNew York\n",
      "\n",
      "Sarah's favorite places are:\n",
      "\tFlorida\n",
      "\n",
      "Edward's favorite places are:\n",
      "\tCalifornia\n",
      "\tHawaii\n",
      "\tTexas\n"
     ]
    }
   ],
   "source": [
    "# 6-9. Favorite Places\n",
    "\n",
    "# Make a dictionary with three names as keys, and store 1 to 3 places for each\n",
    "favorite_places = {\n",
    "    'jen': ['boston', 'new york'],\n",
    "    'sarah': ['florida'],\n",
    "    'edward': ['california', 'hawaii', 'texas'],\n",
    "}\n",
    "\n",
    "# Loop through the dictionary and print each person's name and place(s)\n",
    "for name, places in favorite_places.items():\n",
    "    print(f\"\\n{name.title()}'s favorite places are:\")\n",
    "    for places in places:\n",
    "        print(f\"\\t{places.title()}\")"
   ]
  },
  {
   "cell_type": "code",
   "execution_count": 142,
   "metadata": {},
   "outputs": [
    {
     "name": "stdout",
     "output_type": "stream",
     "text": [
      "\n",
      "Jen's favorite numbers are:\n",
      "\t4\n",
      "\t3\n",
      "\n",
      "Sarah's favorite numbers are:\n",
      "\t7\n",
      "\t6\n",
      "\n",
      "Edward's favorite numbers are:\n",
      "\t12\n",
      "\t8\n",
      "\n",
      "Phil's favorite numbers are:\n",
      "\t13\n",
      "\t0\n",
      "\n",
      "Connor's favorite numbers are:\n",
      "\t18\n",
      "\t5\n"
     ]
    }
   ],
   "source": [
    "# 6-10. Favorite Numbers\n",
    "\n",
    "# Modify 6-2 so each person can have more than one favorite number\n",
    "# Use a dict. to store 5 people's fav nums and print them:\n",
    "favorite_numbers = {\n",
    "    'jen': [4,3],\n",
    "    'sarah': [7,6],\n",
    "    'edward': [12,8],\n",
    "    'phil': [13,0],\n",
    "    'connor': [18,5],\n",
    "}\n",
    "\n",
    "# Print each person's name along with their favorite number\n",
    "\n",
    "for name, numbers in favorite_numbers.items():\n",
    "    print(f\"\\n{name.title()}'s favorite numbers are:\")\n",
    "    for numbers in numbers:\n",
    "        print(f\"\\t{numbers}\")"
   ]
  },
  {
   "cell_type": "code",
   "execution_count": 143,
   "metadata": {},
   "outputs": [
    {
     "name": "stdout",
     "output_type": "stream",
     "text": [
      "\n",
      "Username: aeinstein\n",
      "\tFull name: Albert Einstein\n",
      "\tLocation: Princeton\n",
      "\n",
      "Username: mcurie\n",
      "\tFull name: Marie Curie\n",
      "\tLocation: Paris\n",
      "\n",
      "Username: connorr\n",
      "\tFull name: Connor Mobile\n",
      "\tLocation: Yale\n",
      "\n",
      "Username: ryann\n",
      "\tFull name: Ryan Boyle\n",
      "\tLocation: Columbia\n",
      "\n",
      "Username: charless\n",
      "\tFull name: Charles Kingston\n",
      "\tLocation: Berkeley\n"
     ]
    }
   ],
   "source": [
    "# 6-12. Extensions\n",
    "\n",
    "# Use one of the example programs from this chapter and extend it by adding\n",
    "# more keys and values\n",
    "\n",
    "# We can store user info inside a dictionary of their username\n",
    "users = {\n",
    "    'aeinstein': {\n",
    "        'first': 'albert',\n",
    "        'last': 'einstein',\n",
    "        'location': 'princeton'\n",
    "    },\n",
    "    \n",
    "    'mcurie': {\n",
    "        'first': 'marie',\n",
    "        'last': 'curie',\n",
    "        'location': 'paris' \n",
    "    },\n",
    "\n",
    "    'connorr': {\n",
    "        'first': 'connor',\n",
    "        'last': 'mobile',\n",
    "        'location': 'yale' \n",
    "    },\n",
    "    'ryann': {\n",
    "        'first': 'ryan',\n",
    "        'last': 'boyle',\n",
    "        'location': 'columbia' \n",
    "    },\n",
    "\n",
    "    'charless': {\n",
    "        'first': 'charles',\n",
    "        'last': 'kingston',\n",
    "        'location': 'berkeley' \n",
    "    },\n",
    "}\n",
    "\n",
    "# Then we can loop through the username and the dictionaries associated with each username\n",
    "for username, user_info in users.items():\n",
    "    print(f\"\\nUsername: {username}\")\n",
    "    full_name = f\"{user_info['first']} {user_info['last']}\"\n",
    "    location = user_info['location']\n",
    "\n",
    "    print(f\"\\tFull name: {full_name.title()}\")\n",
    "    print(f\"\\tLocation: {location.title()}\")"
   ]
  }
 ],
 "metadata": {
  "kernelspec": {
   "display_name": "myenv",
   "language": "python",
   "name": "python3"
  },
  "language_info": {
   "codemirror_mode": {
    "name": "ipython",
    "version": 3
   },
   "file_extension": ".py",
   "mimetype": "text/x-python",
   "name": "python",
   "nbconvert_exporter": "python",
   "pygments_lexer": "ipython3",
   "version": "3.12.3"
  }
 },
 "nbformat": 4,
 "nbformat_minor": 2
}
