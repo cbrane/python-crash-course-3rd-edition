{
 "cells": [
  {
   "cell_type": "code",
   "execution_count": 3,
   "metadata": {},
   "outputs": [
    {
     "name": "stdout",
     "output_type": "stream",
     "text": [
      "green\n",
      "5\n",
      "5\n",
      "You just earned 5 points!\n"
     ]
    }
   ],
   "source": [
    "# Chapter 6. Dictionaries\n",
    "\n",
    "# A simple dictionary\n",
    "\n",
    "alien_0 = {'color': 'green', 'points': 5}\n",
    "\n",
    "print(alien_0['color'])\n",
    "print(alien_0['points'])\n",
    "\n",
    "# A dictionary in Python is a collection of key-value pairs, each key is connected to a value, \n",
    "# and you can use a key to access the value associated with that key. A key's value can be a number,\n",
    "# a string, a list, or even another dictionary. You can use any object that you create in Python\n",
    "# as a value in a dictionary.\n",
    "\n",
    "# Accessing Values in a Dictionary\n",
    "print(alien_0['points']) # give the name of dictionary, then plcae the key inside a set of square brackets\n",
    "# then it  will return the value associated with the key\n",
    "\n",
    "new_points = alien_0['points']\n",
    "print(f\"You just earned {new_points} points!\")\n",
    "# if you run this code every time an alien is shot down, then the alien's\n",
    "# point value will be retreived."
   ]
  }
 ],
 "metadata": {
  "kernelspec": {
   "display_name": "myenv",
   "language": "python",
   "name": "python3"
  },
  "language_info": {
   "codemirror_mode": {
    "name": "ipython",
    "version": 3
   },
   "file_extension": ".py",
   "mimetype": "text/x-python",
   "name": "python",
   "nbconvert_exporter": "python",
   "pygments_lexer": "ipython3",
   "version": "3.12.3"
  }
 },
 "nbformat": 4,
 "nbformat_minor": 2
}
