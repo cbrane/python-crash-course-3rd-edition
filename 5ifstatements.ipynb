{
 "cells": [
  {
   "cell_type": "code",
   "execution_count": 29,
   "metadata": {},
   "outputs": [
    {
     "name": "stdout",
     "output_type": "stream",
     "text": [
      "Audi\n",
      "BMW\n",
      "Subaru\n",
      "Toyota\n",
      "Hold the anchovies!\n",
      "That is not the correct answer. Please try again!\n",
      "Marie, you can post a response if you wish.\n"
     ]
    }
   ],
   "source": [
    "# Chapter 5 - If Statements\n",
    "\n",
    "# Conditional Tests\n",
    "cars = [\"audi\", \"bmw\", \"subaru\", \"toyota\"]\n",
    "for car in cars:\n",
    "    if car == \"bmw\":\n",
    "        print(car.upper())\n",
    "    else:\n",
    "        print(car.title())\n",
    "\n",
    "# Checking for Equality\n",
    "car = 'bmw'\n",
    "car == 'bmw'\n",
    "# True\n",
    "car == 'audi'\n",
    "# False\n",
    "\n",
    "# Ignoring Case When Checking for Equality\n",
    "car = 'Audi'\n",
    "car == 'audi' # if case matters, this is good, but if it does not matter:\n",
    "# False\n",
    "# If it does not matter then you can convert the value before comparison\n",
    "car.lower() == 'audi' # this will return true no matter how the value is formatted\n",
    "# True \n",
    "\n",
    "# Checking for Inequality\n",
    "requested_topping = 'mushrooms'\n",
    "if requested_topping!= 'anchovies':\n",
    "    print(\"Hold the anchovies!\")\n",
    "\n",
    "# Numerical Comparisons\n",
    "age = 18\n",
    "age == 18\n",
    "# True\n",
    "answer = 17\n",
    "if answer!= 42:\n",
    "    print(\"That is not the correct answer. Please try again!\")\n",
    "# You can also use mathematical comparisons\n",
    "age = 19\n",
    "age < 21\n",
    "# True\n",
    "age <= 21\n",
    "# True\n",
    "age > 21\n",
    "# False\n",
    "age >= 21\n",
    "# False\n",
    "\n",
    "# Using and to Check for Multiple Conditions\n",
    "age_0 = 22\n",
    "age_1 = 18\n",
    "age_0 >= 21 and age_1 >= 21\n",
    "# False\n",
    "age_1 = 22\n",
    "age_0 >= 21 and age_1 >= 21\n",
    "# True\n",
    "# We can also use parentheses to make these easier to read\n",
    "(age_0 >= 21) and (age_1 >= 21)\n",
    "\n",
    "# Using or to Check for Multiple Conditions\n",
    "age_0 = 22\n",
    "age_1 = 18\n",
    "age_0 >= 21 or age_1 >= 21\n",
    "# True\n",
    "age_0 = 18\n",
    "age_0 >= 21 or age_1 >= 21\n",
    "# False\n",
    "\n",
    "# Checking Whether a Value is In a List\n",
    "requested_toppings = ['mushrooms', 'onions', 'pineapple']\n",
    "'mushrooms' in requested_toppings\n",
    "# True\n",
    "'pepperoni' in requested_toppings\n",
    "# False\n",
    "\n",
    "# Checking Whether a Value is Not in a List\n",
    "banned_users = ['andrew', 'carolina', 'david']\n",
    "user = 'marie'\n",
    "if user not in banned_users:\n",
    "    print(f\"{user.title()}, you can post a response if you wish.\")\n",
    "\n",
    "# Boolean Expressions - another name for conditional test\n",
    "## These values can be used to keep track of certain conditions\n",
    "game_active = True\n",
    "can_edit = False"
   ]
  },
  {
   "cell_type": "code",
   "execution_count": 46,
   "metadata": {},
   "outputs": [
    {
     "name": "stdout",
     "output_type": "stream",
     "text": [
      "True\n",
      "\n",
      "\n",
      "False\n",
      "\n",
      "\n",
      "True\n",
      "\n",
      "\n",
      "True\n",
      "\n",
      "\n",
      "False\n",
      "\n",
      "\n",
      "False\n",
      "False\n",
      "\n",
      "\n",
      "True\n",
      "True\n",
      "\n",
      "\n",
      "False\n",
      "True\n",
      "\n",
      "\n",
      "True\n",
      "\n",
      "\n",
      "True\n"
     ]
    }
   ],
   "source": [
    "# 5-2. More Conditional Tests\n",
    "\n",
    "# Tests for equality with strings\n",
    "car = 'bmw'\n",
    "print(car == 'bmw')\n",
    "\n",
    "# Tests for inequality with strings\n",
    "print(\"\\n\")\n",
    "print(car!= 'bmw')\n",
    "\n",
    "# Tests using the lower() method\n",
    "print(\"\\n\")\n",
    "car = \"bmw\"\n",
    "print(car.lower() == 'bmw') # no matter how it is formatted, it will be true here\n",
    "\n",
    "# Numerical tests using equality\n",
    "print(\"\\n\")\n",
    "age = 21\n",
    "print(age == 21)\n",
    "\n",
    "# Numerical tests using inequality\n",
    "print(\"\\n\")\n",
    "print(age!= 21)\n",
    "\n",
    "# Numerical tests using greater than and less than\n",
    "print(\"\\n\")\n",
    "print(age > 21)\n",
    "print(age < 21)\n",
    "\n",
    "# Numerical tests using greater than or equal to, less than or equal to\n",
    "print(\"\\n\")\n",
    "print(age >= 21)\n",
    "print(age <= 21)\n",
    "\n",
    "\n",
    "# Tests using the and keyword and the or keyword\n",
    "print(\"\\n\")\n",
    "age1 = 19\n",
    "age2 = 18\n",
    "print(age1 >= 21 and age2 >= 18)\n",
    "print(age1 >= 21 or age2 >= 18)\n",
    "\n",
    "# Test whether an  item is in a list\n",
    "print(\"\\n\")\n",
    "cars = ['bmw', 'audi', 'toyota']\n",
    "print('bmw' in cars)\n",
    "\n",
    "# Test whether an item is not in a list\n",
    "print(\"\\n\")\n",
    "print('tesla' not in cars)"
   ]
  },
  {
   "cell_type": "code",
   "execution_count": 57,
   "metadata": {},
   "outputs": [
    {
     "name": "stdout",
     "output_type": "stream",
     "text": [
      "You can vote!\n",
      "Have you registered to vote yet?\n",
      "Sorry, you are too young to vote.\n",
      "Please register to vote as soon as you turn 18!\n",
      "Your admission cost is $25.\n",
      "Your admission cost is $25.\n",
      "Your admission cost is $25.\n",
      "Your admission cost is $25.\n",
      "Adding mushrooms.\n",
      "Adding Extra Cheese.\n"
     ]
    }
   ],
   "source": [
    "# If Statements\n",
    "\n",
    "# Simple if Statements\n",
    "age = 19\n",
    "if age >= 18:\n",
    "    print(\"You can vote!\")\n",
    "    print(\"Have you registered to vote yet?\")\n",
    "\n",
    "# If-else Statements\n",
    "age = 17\n",
    "if age >= 18:\n",
    "    print(\"You are old enough to vote!\")\n",
    "    print(\"Have you registered to vote yet?\")\n",
    "else:\n",
    "    print(\"Sorry, you are too young to vote.\")\n",
    "    print(\"Please register to vote as soon as you turn 18!\")\n",
    "\n",
    "# The if-elif-else Chain\n",
    "## Often you'll need to test more than two possible situations:\n",
    "## Python executes only one block in an if-elif-else chain, so when a test\n",
    "## passes, the code following that is executed and skips the rest:\n",
    "age = 12\n",
    "if age < 4:\n",
    "    print(\"Your admission cost is $0.\")\n",
    "elif age < 18:\n",
    "    print(\"Your admission cost is $25.\")\n",
    "else:\n",
    "    print(\"Your admission cost is $40.\")\n",
    "# However, instead of printing the cost inside the if-elif-else block,\n",
    "# we can just set the prices, and then have one print() that runs after the chain\n",
    "age = 12\n",
    "\n",
    "if age < 4:\n",
    "    price = 0\n",
    "elif age < 18:\n",
    "    price = 25\n",
    "else:\n",
    "    price = 40\n",
    "\n",
    "print(f\"Your admission cost is ${price}.\")\n",
    "\n",
    "# Using multiple elif Blocks\n",
    "## Most of this code is unchanged, but we add one more check so seniors get $20.\n",
    "age = 12\n",
    "\n",
    "if age < 4:\n",
    "    price = 0\n",
    "elif age < 18:\n",
    "    price = 25\n",
    "elif age < 65:\n",
    "    price = 40\n",
    "else:\n",
    "    price = 20\n",
    "\n",
    "print(f\"Your admission cost is ${price}.\")\n",
    "\n",
    "# Omitting the else block\n",
    "## Python does not need an else block, and the else is just a catchall statement\n",
    "age = 12\n",
    "\n",
    "if age < 4:\n",
    "    price = 0\n",
    "elif age < 18:\n",
    "    price = 25\n",
    "elif age < 65:\n",
    "    price = 40\n",
    "elif age >=65:\n",
    "    price = 20\n",
    "\n",
    "print(f\"Your admission cost is ${price}.\")\n",
    "\n",
    "# Testing Multiple Conditions\n",
    "requested_toppings = ['mushrooms', 'extra cheese']\n",
    "\n",
    "if 'mushrooms'  in requested_toppings:\n",
    "    print(\"Adding mushrooms.\")\n",
    "if 'pepperoni' in requested_toppings:\n",
    "    print(\"Adding pepperoni.\")\n",
    "if 'extra cheese' in requested_toppings:\n",
    "    print(\"Adding Extra Cheese.\")\n",
    "# This would not work properly if we used an if-elif-else block since\n",
    "# it would stop running after one condition is met\n",
    "\n",
    "# If you need one block --> use if-elif-else\n",
    "# If you need multiple blocks --> use a series of if statements!\n",
    "\n"
   ]
  },
  {
   "cell_type": "code",
   "execution_count": 60,
   "metadata": {},
   "outputs": [
    {
     "name": "stdout",
     "output_type": "stream",
     "text": [
      "You just earned 5 points!\n"
     ]
    }
   ],
   "source": [
    "# 5-3. Alien Colors #1\n",
    "\n",
    "alien_color = 'green'\n",
    "\n",
    "# version that passes\n",
    "if 'green' in alien_color:\n",
    "    print(\"You just earned 5 points!\")\n",
    "\n",
    "alien_color = 'yellow'\n",
    "\n",
    "# version that fails (no output from it)\n",
    "if 'green' in alien_color:\n",
    "    print(\"You just earned 5 points!\")\n",
    "\n"
   ]
  },
  {
   "cell_type": "code",
   "execution_count": 64,
   "metadata": {},
   "outputs": [
    {
     "name": "stdout",
     "output_type": "stream",
     "text": [
      "You just earned 10 points!\n",
      "You just earned 10 points!\n"
     ]
    }
   ],
   "source": [
    "# 5-4. Alien Colors #2\n",
    "\n",
    "alien_color = 'yellow'\n",
    "\n",
    "# version with an if statement\n",
    "if 'green' in alien_color:\n",
    "    print(\"You just earned 5 points!\")\n",
    "if alien_color != 'green':\n",
    "    print(\"You just earned 10 points!\")\n",
    "\n",
    "# version with an else statement\n",
    "if 'green' in alien_color:\n",
    "    print(\"You just earned 5 points!\")\n",
    "else:\n",
    "    print(\"You just earned 10 points!\")"
   ]
  },
  {
   "cell_type": "code",
   "execution_count": 69,
   "metadata": {},
   "outputs": [
    {
     "name": "stdout",
     "output_type": "stream",
     "text": [
      "You just earned 10 points!\n",
      "You just earned 5 points!\n",
      "You just earned 15 points!\n"
     ]
    }
   ],
   "source": [
    "# 5-5. Alien Colors #3\n",
    "\n",
    "# yellow alien\n",
    "alien_color = 'yellow'\n",
    "\n",
    "if alien_color == 'green':\n",
    "    print(\"You just earned 5 points!\")\n",
    "if alien_color == 'yellow':\n",
    "    print(\"You just earned 10 points!\")\n",
    "if alien_color == 'red':\n",
    "    print(\"You just earned 15 points!\")\n",
    "\n",
    "\n",
    "# green alien\n",
    "alien_color = 'green'\n",
    "\n",
    "if alien_color == 'green':\n",
    "    print(\"You just earned 5 points!\")\n",
    "if alien_color == 'yellow':\n",
    "    print(\"You just earned 10 points!\")\n",
    "if alien_color == 'red':\n",
    "    print(\"You just earned 15 points!\")\n",
    "\n",
    "\n",
    "# red alien\n",
    "alien_color = 'red'\n",
    "\n",
    "if alien_color == 'green':\n",
    "    print(\"You just earned 5 points!\")\n",
    "if alien_color == 'yellow':\n",
    "    print(\"You just earned 10 points!\")\n",
    "if alien_color == 'red':\n",
    "    print(\"You just earned 15 points!\")"
   ]
  },
  {
   "cell_type": "code",
   "execution_count": 71,
   "metadata": {},
   "outputs": [
    {
     "name": "stdout",
     "output_type": "stream",
     "text": [
      "The person is a kid.\n"
     ]
    }
   ],
   "source": [
    "# 5-6. Stages of Life\n",
    "age = 12\n",
    "\n",
    "if age < 2:\n",
    "    print(\"The person is a baby.\")\n",
    "elif age < 4:\n",
    "    print(\"The person is a toddler.\")\n",
    "elif age < 13:\n",
    "    print(\"The person is a kid.\")\n",
    "elif age < 20:\n",
    "    print(\"The person is a teenager.\")\n",
    "elif age < 65:\n",
    "    print(\"The person is an adult.\")\n",
    "else: \n",
    "    print(\"The person is an elder.\")"
   ]
  },
  {
   "cell_type": "code",
   "execution_count": 73,
   "metadata": {},
   "outputs": [
    {
     "name": "stdout",
     "output_type": "stream",
     "text": [
      "You really like apples!\n",
      "You really like oranges!\n",
      "You really like bananas!\n"
     ]
    }
   ],
   "source": [
    "# 5-7. Favorite Fruit\n",
    "\n",
    "favorite_fruits = ['apples', 'oranges', 'bananas']\n",
    "\n",
    "if 'apples' in favorite_fruits:\n",
    "    print(\"You really like apples!\")\n",
    "if 'oranges' in favorite_fruits:\n",
    "    print(\"You really like oranges!\")\n",
    "if 'bananas' in favorite_fruits:\n",
    "    print(\"You really like bananas!\")\n",
    "if 'pears' in favorite_fruits:\n",
    "    print(\"You really like pears!\")\n",
    "if 'strawberries' in favorite_fruits:\n",
    "    print(\"You really like strawberries!\")"
   ]
  },
  {
   "cell_type": "code",
   "execution_count": 79,
   "metadata": {},
   "outputs": [
    {
     "name": "stdout",
     "output_type": "stream",
     "text": [
      "Adding mushrooms.\n",
      "Adding green peppers.\n",
      "Adding extra cheese.\n",
      "\n",
      "Finished making your pizza!\n",
      "\n",
      "Adding mushrooms.\n",
      "Sorry, we are out of green peppers right now.\n",
      "Adding extra cheese.\n",
      "\n",
      "Finished making your pizza!\n",
      "\n",
      "\n",
      "Are you sure you want a plain pizza?\n"
     ]
    }
   ],
   "source": [
    "# Using if Statements with Lists\n",
    "\n",
    "# Checking for Special Items\n",
    "\n",
    "requested_toppings = ['mushrooms', 'green peppers', 'extra cheese']\n",
    "\n",
    "for requested_topping in requested_toppings:\n",
    "    print(f\"Adding {requested_topping}.\")\n",
    "print(\"\\nFinished making your pizza!\\n\")\n",
    "\n",
    "# What if they are out of green peppers? Then we can use an if statement\n",
    "for requested_topping in requested_toppings:\n",
    "    if requested_topping == 'green peppers':\n",
    "        print(\"Sorry, we are out of green peppers right now.\")\n",
    "    else:\n",
    "        print(f\"Adding {requested_topping}.\")\n",
    "print(\"\\nFinished making your pizza!\")\n",
    "\n",
    "print(\"\\n\")\n",
    "# Checking That a List Is Not Empty\n",
    "\n",
    "requested_toppings = []\n",
    "\n",
    "if requested_toppings: # if the name of a list is used in a for statement, python checks if it has one item, true if it does and false if not, so since it is false here it goes to the plain pizza block\n",
    "    for requested_topping in requested_toppings:\n",
    "        print(f\"Adding {requested_topping}.\")\n",
    "    print(\"\\nFinished making your pizza!\\n\")\n",
    "else:\n",
    "    print(\"Are you sure you want a plain pizza?\")"
   ]
  },
  {
   "cell_type": "code",
   "execution_count": 82,
   "metadata": {},
   "outputs": [
    {
     "name": "stdout",
     "output_type": "stream",
     "text": [
      "Adding mushrooms.\n",
      "Adding pineapple.\n",
      "Adding extra cheese.\n",
      "\n",
      "Finished making your pizza!\n",
      "\n"
     ]
    }
   ],
   "source": [
    "# Using Multiple Lists\n",
    "available_toppings = ['mushrooms', 'olives', 'green peppers',\n",
    "                      'pepperoni', 'pineapple', 'extra cheese']\n",
    "requested_toppings = ['mushrooms', 'pineapple', 'extra cheese']\n",
    "\n",
    "for requested_topping in requested_toppings:\n",
    "    if requested_topping in available_toppings:\n",
    "        print(f\"Adding {requested_topping}.\")\n",
    "    else:\n",
    "        print(f\"Sorry, we don't have {requested_topping}.\")\n",
    "\n",
    "print(\"\\nFinished making your pizza!\\n\")"
   ]
  },
  {
   "cell_type": "code",
   "execution_count": 86,
   "metadata": {},
   "outputs": [
    {
     "name": "stdout",
     "output_type": "stream",
     "text": [
      "Hello Admin! Would you like to see a status report?\n",
      "Welcome user user1. Nice to see you again.\n",
      "Welcome user user2. Nice to see you again.\n",
      "Welcome user user3. Nice to see you again.\n",
      "Welcome user user4. Nice to see you again.\n"
     ]
    }
   ],
   "source": [
    "# 5-8. Hello Admin\n",
    "\n",
    "# Create a list of 5 usernames\n",
    "usernames = ['admin', 'user1', 'user2', 'user3', 'user4']\n",
    "\n",
    "# If username == admin, print a special greeting\n",
    "for username in usernames:\n",
    "    if username == 'admin':\n",
    "        print(\"Hello Admin! Would you like to see a status report?\")\n",
    "    else:\n",
    "        print(f\"Welcome user {username}. Nice to see you again.\")"
   ]
  },
  {
   "cell_type": "code",
   "execution_count": 92,
   "metadata": {},
   "outputs": [
    {
     "name": "stdout",
     "output_type": "stream",
     "text": [
      "We need to find some users!\n"
     ]
    }
   ],
   "source": [
    "# 5-9. No Users\n",
    "\n",
    "# Add an if test to our last program to make sure the list is not empty.\n",
    "\n",
    "# Create a list of 5 usernames\n",
    "usernames = []\n",
    "\n",
    "# If username == admin, print a special greeting\n",
    "if usernames:\n",
    "    for username in usernames:\n",
    "        if username == 'admin':\n",
    "            print(\"Hello Admin! Would you like to see a status report?\")\n",
    "        else:\n",
    "            print(f\"Welcome user {username}. Nice to see you again.\")\n",
    "else:\n",
    "    print(\"We need to find some users!\")"
   ]
  },
  {
   "cell_type": "code",
   "execution_count": 99,
   "metadata": {},
   "outputs": [
    {
     "name": "stdout",
     "output_type": "stream",
     "text": [
      "['admin', 'user1', 'user2', 'user3', 'user4']\n",
      "This username is available.\n",
      "This username is available.\n",
      "This username is available.\n",
      "This username is available.\n",
      "This username is available.\n"
     ]
    }
   ],
   "source": [
    "# 5-10. Checking Usernames\n",
    "\n",
    "# Make a list of 5 or more usernames called current_users\n",
    "current_users = ['Admin', 'user1', 'user2', 'User3', 'user4']\n",
    "\n",
    "# Make another list of five called new_users\n",
    "new_users = ['user5', 'user6', 'user7', 'user8', 'user9']\n",
    "\n",
    "lower_current_users = []\n",
    "# Make a new list that has the lowercase version of all the current_users\n",
    "for username in current_users:\n",
    "    lower_current_users.append(username.lower())\n",
    "print(lower_current_users)\n",
    "\n",
    "# Loop through new_users list to see if each new username has already been used\n",
    "for username in new_users:\n",
    "    if username.lower() in current_users:\n",
    "        print(\"Sorry, this username has already been used.\")\n",
    "    else:\n",
    "        print(\"This username is available.\")"
   ]
  },
  {
   "cell_type": "code",
   "execution_count": 102,
   "metadata": {},
   "outputs": [
    {
     "name": "stdout",
     "output_type": "stream",
     "text": [
      "1st\n",
      "2nd\n",
      "3rd\n",
      "4th\n",
      "5th\n",
      "6th\n",
      "7th\n",
      "8th\n",
      "9th\n"
     ]
    }
   ],
   "source": [
    "# 5-11. Ordinal Numbers\n",
    "\n",
    "# Store the numbers 1 through 9 in a list\n",
    "numbers = [1, 2, 3, 4, 5, 6, 7, 8, 9]\n",
    "\n",
    "# Use if-elif-else chain inside the loop to print the proper ordinal ending for each number\n",
    "for number in numbers:\n",
    "    if number == 1:\n",
    "        print(\"1st\")\n",
    "    elif number == 2:\n",
    "        print(\"2nd\")\n",
    "    elif number == 3:\n",
    "        print(\"3rd\")\n",
    "    elif number == 4:\n",
    "        print(\"4th\")\n",
    "    elif number == 5:\n",
    "        print(\"5th\")\n",
    "    elif number == 6:\n",
    "        print(\"6th\")\n",
    "    elif number == 7:\n",
    "        print(\"7th\")\n",
    "    elif number == 8:\n",
    "        print(\"8th\")\n",
    "    else:\n",
    "        print(\"9th\")"
   ]
  }
 ],
 "metadata": {
  "kernelspec": {
   "display_name": "myenv",
   "language": "python",
   "name": "python3"
  },
  "language_info": {
   "codemirror_mode": {
    "name": "ipython",
    "version": 3
   },
   "file_extension": ".py",
   "mimetype": "text/x-python",
   "name": "python",
   "nbconvert_exporter": "python",
   "pygments_lexer": "ipython3",
   "version": "3.12.3"
  }
 },
 "nbformat": 4,
 "nbformat_minor": 2
}
