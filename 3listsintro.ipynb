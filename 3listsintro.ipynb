{
 "cells": [
  {
   "cell_type": "code",
   "execution_count": 2,
   "metadata": {},
   "outputs": [
    {
     "name": "stdout",
     "output_type": "stream",
     "text": [
      "['trek', 'cannondale', 'redline', 'specialized']\n"
     ]
    }
   ],
   "source": [
    "# A list is a collection of items in a particular order. In python, square brackets [] indicate a list and their individual elements are seperated by commas.\n",
    "bicycles = ['trek', 'cannondale','redline','specialized']\n",
    "print(bicycles) # prints as with this format if you ask python to return it"
   ]
  },
  {
   "cell_type": "code",
   "execution_count": 3,
   "metadata": {},
   "outputs": [
    {
     "name": "stdout",
     "output_type": "stream",
     "text": [
      "trek\n"
     ]
    }
   ],
   "source": [
    "# Accessing elements in a list - you can access any element bby telling python the index of the item desired\n",
    "bicycles = [\"trek\", \"cannondale\", \"redline\", \"specialized\"]\n",
    "print(bicycles[0]) # when we ask for a single item in the list, it just returns that elements without brackets"
   ]
  },
  {
   "cell_type": "code",
   "execution_count": 4,
   "metadata": {},
   "outputs": [
    {
     "name": "stdout",
     "output_type": "stream",
     "text": [
      "Trek\n"
     ]
    }
   ],
   "source": [
    "# We can also use string methods from Chapter 2 on any element, so we format trek  to look more presentable with title()\n",
    "print(bicycles[0].title()) # also, as a reminder, indexes start at 0 and not at 1"
   ]
  },
  {
   "cell_type": "code",
   "execution_count": 5,
   "metadata": {},
   "outputs": [
    {
     "name": "stdout",
     "output_type": "stream",
     "text": [
      "specialized\n"
     ]
    }
   ],
   "source": [
    "# Accessing the last element in a list - ask for the item at index -1, and it will return the last one\n",
    "print(bicycles[-1])"
   ]
  },
  {
   "cell_type": "code",
   "execution_count": 10,
   "metadata": {},
   "outputs": [
    {
     "data": {
      "text/plain": [
       "'My first bicycle was a Trek.'"
      ]
     },
     "execution_count": 10,
     "metadata": {},
     "output_type": "execute_result"
    }
   ],
   "source": [
    "# Using Individual Values from a List\n",
    "\n",
    "# We are going to pull a value from the index and use it with an f string to make a message\n",
    "message = f\"My first bicycle was a {bicycles[0].title()}.\"\n",
    "message"
   ]
  },
  {
   "cell_type": "code",
   "execution_count": 13,
   "metadata": {},
   "outputs": [
    {
     "name": "stdout",
     "output_type": "stream",
     "text": [
      "Connor\n",
      "Jason\n",
      "Kevin\n",
      "Jane\n"
     ]
    }
   ],
   "source": [
    "# 3-1 Names: Store the names of a few friends in a list called names, print each person's name one at a time\n",
    "names = [\"Connor\", \"Jason\", \"Kevin\", \"Jane\"]\n",
    "for name in names: # use a for loop to loop through and print each name\n",
    "    print(name)"
   ]
  },
  {
   "cell_type": "code",
   "execution_count": 14,
   "metadata": {},
   "outputs": [
    {
     "name": "stdout",
     "output_type": "stream",
     "text": [
      "Hello, Connor!\n",
      "Hello, Jason!\n",
      "Hello, Kevin!\n",
      "Hello, Jane!\n"
     ]
    }
   ],
   "source": [
    "# 3-2 Greetings: Start with the list you used in 3-1, but instead of just printing each person's name, print a message to them. The text of each message should be the same, but each message should be personalized with the person’s name.\n",
    "for names in names:\n",
    "    print(f\"Hello, {names.title()}!\")"
   ]
  },
  {
   "cell_type": "code",
   "execution_count": 15,
   "metadata": {},
   "outputs": [
    {
     "name": "stdout",
     "output_type": "stream",
     "text": [
      "I would like to own a Honda!\n",
      "I would like to own a Toyota!\n",
      "I would like to own a BMW!\n"
     ]
    }
   ],
   "source": [
    "# 3-3 Your Own List: Think of your favorite mode of transportation, such as a motorcycle or a car, and make a list that stores several examples. Use your list to print a series of statements about these items. For example, one of your list entries could be \"I would like to own a Honda motorcycle.\"\n",
    "example_list = [\"Honda\", \"Toyota\", \"BMW\"]\n",
    "for name in example_list:\n",
    "    print(f\"I would like to own a {name}!\")"
   ]
  },
  {
   "cell_type": "code",
   "execution_count": 19,
   "metadata": {},
   "outputs": [
    {
     "name": "stdout",
     "output_type": "stream",
     "text": [
      "['honda', 'yamaha', 'suzuki']\n",
      "['ducati', 'yamaha', 'suzuki']\n"
     ]
    }
   ],
   "source": [
    "# Modifying, Adding, and Removing Elements - most lists you create will be dynamic!\n",
    "\n",
    "# Modifying Elements in a List\n",
    "## To change an eleemnt, use the name of the list follwed by the index of the element you want to change, and then provide the next value you want that item to have\n",
    "motorcycles = [\"honda\", \"yamaha\", \"suzuki\"]\n",
    "print(motorcycles)\n",
    "motorcycles[0] = \"ducati\" # name of list, index, then we give it the new value we want - you can change any value in a list\n",
    "print(motorcycles) # then you can see here that value"
   ]
  },
  {
   "cell_type": "code",
   "execution_count": 22,
   "metadata": {},
   "outputs": [
    {
     "name": "stdout",
     "output_type": "stream",
     "text": [
      "['honda', 'yamaha', 'suzuki']\n",
      "['honda', 'yamaha', 'suzuki', 'ducati']\n",
      "[]\n",
      "['honda', 'yamaha', 'suzuki']\n"
     ]
    }
   ],
   "source": [
    "# Adding Elements to a List\n",
    "\n",
    "#  Applying Elements to the End of a List\n",
    "## The simplest way to do this is to append the item to the list, and when you append an item a list, the new element is added to the end of the list\n",
    "motorcycles = [\"honda\", \"yamaha\", \"suzuki\"]\n",
    "print(motorcycles)\n",
    "motorcycles.append(\"ducati\")\n",
    "print(motorcycles)\n",
    "\n",
    "# Append makes it easy for us to dynamically build lists. We can start with an empty list and then add items using a series of append() calls.\n",
    "motorcycles = []\n",
    "print(motorcycles)\n",
    "motorcycles.append(\"honda\")\n",
    "motorcycles.append(\"yamaha\")\n",
    "motorcycles.append(\"suzuki\")\n",
    "print(motorcycles)"
   ]
  },
  {
   "cell_type": "code",
   "execution_count": 50,
   "metadata": {},
   "outputs": [
    {
     "name": "stdout",
     "output_type": "stream",
     "text": [
      "['honda', 'yamaha', 'suzuki']\n",
      "['yamaha', 'suzuki']\n",
      "['honda', 'yamaha', 'suzuki']\n",
      "['honda', 'yamaha']\n",
      "suzuki\n",
      "The last motorcycle that I bought was a yamaha.\n",
      "The first motorcycle that I bought was a honda.\n",
      "['honda', 'yamaha', 'suzuki', 'ducati']\n",
      "['honda', 'yamaha', 'suzuki']\n",
      "['honda', 'yamaha', 'suzuki']\n",
      "\n",
      "A Ducati is too expensive for me.\n",
      "\n",
      "3-4: Guest List\n",
      "\n",
      "Hi Jennifer, I'd like to invite you to dinner at 6PM.\n",
      "Hi Joshua, I'd like to invite you to dinner at 6PM.\n",
      "Hi Amanda, I'd like to invite you to dinner at 6PM.\n",
      "\n",
      "3-5: Changing Guest List\n",
      "\n",
      "Hi Jennifer, I'd like to invite you to dinner at 6PM.\n",
      "Hi Joshua, I'd like to invite you to dinner at 6PM.\n",
      "Hi Amanda, I'd like to invite you to dinner at 6PM.\n",
      "Jennifer can't make it.\n",
      "['Jerry', 'Joshua', 'Amanda']\n",
      "Hi Jerry, I'd like to invite you to dinner at 6PM.\n",
      "Hi Joshua, I'd like to invite you to dinner at 6PM.\n",
      "Hi Amanda, I'd like to invite you to dinner at 6PM.\n",
      "\n",
      "3-6: More Guests\n",
      "\n",
      "Hi everyone, we have found a bigger table.\n",
      "['Taylor', 'Jerry', 'Katherine', 'Joshua', 'Amanda', 'Kimberly']\n",
      "Hi Taylor, I'd like to invite you to dinner at 6PM.\n",
      "Hi Jerry, I'd like to invite you to dinner at 6PM.\n",
      "Hi Katherine, I'd like to invite you to dinner at 6PM.\n",
      "Hi Joshua, I'd like to invite you to dinner at 6PM.\n",
      "Hi Amanda, I'd like to invite you to dinner at 6PM.\n",
      "Hi Kimberly, I'd like to invite you to dinner at 6PM.\n",
      "\n",
      "3-7: Shrinking Guest List\n",
      "\n",
      "Hi everyone, we can only invite two people for dinner.\n",
      "['Taylor', 'Jerry', 'Katherine', 'Joshua', 'Amanda', 'Kimberly']\n",
      "Hi Kimberly, I'm sorry you can't make it to dinner.\n",
      "Hi Amanda, I'm sorry you can't make it to dinner.\n",
      "Hi Joshua, I'm sorry you can't make it to dinner.\n"
     ]
    }
   ],
   "source": [
    "# Removing Elements from a List\n",
    "##  You can remove an item from a list according to its position in the list or according to its value\n",
    "\n",
    "# Removing an Item Using the del Statement\n",
    "## If you know the position if the item from which you want to remove it, you can use the del statement to remove it\n",
    "motorcycles = ['honda', 'yamaha','suzuki']\n",
    "print(motorcycles)\n",
    "\n",
    "del motorcycles[0]\n",
    "print(motorcycles)\n",
    "\n",
    "# Removing an Item Using the pop() Method\n",
    "## Sometimes you'll want to use the valye of an item after you remove it from a list, for example remove a user from web application but put him into inactive users\n",
    "## the pop() method removes the last item in a list, but it lets you work with that item after removing it\n",
    "motorcycles = ['honda', 'yamaha','suzuki']\n",
    "print(motorcycles)\n",
    "\n",
    "popped_motorcycle = motorcycles.pop()\n",
    "print(motorcycles)\n",
    "print(popped_motorcycle) # this is the value that was popped!\n",
    "\n",
    "## Maybe these are in chronological order and we are trying to find the last motorcycle that we bought, so then we can use pop to find out the last one!\n",
    "last_owned = motorcycles.pop()\n",
    "print(f\"The last motorcycle that I bought was a {last_owned}.\")\n",
    "\n",
    "# Popping Items from Any Position in a List\n",
    "## You can also use the pop() method to remove an item from any position in a list just by using the index of it\n",
    "motorcycles = ['honda', 'yamaha','suzuki']\n",
    "first_owned = motorcycles.pop(0)\n",
    "print(f\"The first motorcycle that I bought was a {first_owned}.\") \n",
    "# Also remember that each time you work with pop, the item you work with is no longer stored in the list.\n",
    "\n",
    "\n",
    "# Removing an Item by Value\n",
    "## Sometimes you do not know the position of the value you want to remove from a list, so you can use the remove() method\n",
    "motorcycles = ['honda', 'yamaha','suzuki', 'ducati']\n",
    "print(motorcycles)\n",
    "motorcycles.remove(\"ducati\")\n",
    "print(motorcycles)\n",
    "\n",
    "# we can also work with this value by defining it and then printing it out with the reasoning we are getting rid of it:\n",
    "motorcycles = ['honda', 'yamaha','suzuki', 'ducati']\n",
    "too_expensive = 'ducati'\n",
    "motorcycles.remove(too_expensive)\n",
    "print(motorcycles)\n",
    "print(f\"\\nA {too_expensive.title()} is too expensive for me.\")\n",
    "\n",
    "# Remember, the remove() method only deletes the first occurrence of the value that you specify, and if there's a change the value appears more than once you will have to use a loop to make sure all of them are removed.\n",
    "\n",
    "# 3-4: Guest List - If you could invite anyone to dinner, who would you invite? Make a list that includes three people you'd like to invite, then use your list to print a message to each person.\n",
    "print(\"\\n3-4: Guest List\\n\")\n",
    "guest_list = ['Jennifer', 'Joshua', 'Amanda']\n",
    "for guest in guest_list:\n",
    "    print(f\"Hi {guest.title()}, I'd like to invite you to dinner at 6PM.\")\n",
    "\n",
    "# 3-5: Changing Guest List: you just heard that one of your guests can't make it, so you need to send out a new set of invitations. \n",
    "print(\"\\n3-5: Changing Guest List\\n\")\n",
    "guest_list = ['Jennifer', 'Joshua', 'Amanda']\n",
    "for guest in guest_list:\n",
    "    print(f\"Hi {guest.title()}, I'd like to invite you to dinner at 6PM.\")\n",
    "cant_make_it = 'Jennifer'\n",
    "print(f\"{cant_make_it} can't make it.\")\n",
    "# Find index of Jennifer so we can replace her with the new guest.\n",
    "index = guest_list.index(cant_make_it)\n",
    "new_guest = 'Jerry'\n",
    "guest_list[index] = new_guest # replace the value of Jennifer with our new guest\n",
    "print(guest_list) # print the list to make sure it worked\n",
    "for guest in guest_list: # send out the new invites\n",
    "    print(f\"Hi {guest.title()}, I'd like to invite you to dinner at 6PM.\")\n",
    "\n",
    "#3-6: More Guests\n",
    "print(\"\\n3-6: More Guests\\n\")\n",
    "print(\"Hi everyone, we have found a bigger table.\") # inform everyone you found a bigger table\n",
    "guest_list.insert(0, \"Taylor\") # add one new guest to beginning of list\n",
    "# add one new guest to middle of list\n",
    "length_of_list = len(guest_list) # find the length of list\n",
    "index = length_of_list // 2 # find the index of the middle of the list # // is integer division, so use this since you need an integer value\n",
    "guest_list.insert(index, \"Katherine\") # add katherine to the middle of list\n",
    "guest_list.append(\"Kimberly\") # add kimberly to the end of the list\n",
    "print(guest_list)\n",
    "for guest in guest_list:\n",
    "    print(f\"Hi {guest.title()}, I'd like to invite you to dinner at 6PM.\") # send out a new set of invites"
   ]
  },
  {
   "cell_type": "code",
   "execution_count": 71,
   "metadata": {},
   "outputs": [
    {
     "name": "stdout",
     "output_type": "stream",
     "text": [
      "\n",
      "3-7: Shrinking Guest List\n",
      "\n",
      "Hi everyone, we can only invite two people for dinner.\n",
      "['Taylor', 'Jerry', 'Katherine', 'Joshua', 'Amanda', 'Kimberly']\n",
      "Hi Kimberly, I'm sorry you can't make it to dinner.\n",
      "Hi Amanda, I'm sorry you can't make it to dinner.\n",
      "Hi Joshua, I'm sorry you can't make it to dinner.\n",
      "Hi Katherine, I'm sorry you can't make it to dinner.\n",
      "Hi Taylor, you're invited to our dinner. Please let us know if you can make it.\n",
      "Hi Jerry, you're invited to our dinner. Please let us know if you can make it.\n",
      "['Taylor', 'Jerry']\n"
     ]
    }
   ],
   "source": [
    "# 3-7: Shrinking Guest List\n",
    "guest_list = ['Taylor', 'Jerry', 'Katherine', 'Joshua', 'Amanda', 'Kimberly']\n",
    "print(\"\\n3-7: Shrinking Guest List\\n\")\n",
    "print(\"Hi everyone, we can only invite two people for dinner.\") # print line that says you can only invite two people\n",
    "print(guest_list)\n",
    "\n",
    "while len(guest_list) > 2:\n",
    "    popped_guest = guest_list.pop() # remove the last guest in the list and store value\n",
    "    print(f\"Hi {popped_guest.title()}, I'm sorry you can't make it to dinner.\") # print out the name of the guest that you removed\n",
    "\n",
    "for guest in guest_list:\n",
    "    print(f\"Hi {guest.title()}, you're invited to our dinner. Please let us know if you can make it.\") # print message of the two people remaining in the list\n",
    "\n",
    "print(guest_list) # print the final guest list"
   ]
  },
  {
   "cell_type": "code",
   "execution_count": 78,
   "metadata": {},
   "outputs": [
    {
     "name": "stdout",
     "output_type": "stream",
     "text": [
      "['audi', 'bmw', 'subaru', 'toyota']\n",
      "['toyota', 'subaru', 'bmw', 'audi']\n",
      "Here is the original list:\n",
      "['toyota', 'subaru', 'bmw', 'audi']\n",
      "\n",
      "Here is the sorted list:\n",
      "['audi', 'bmw', 'subaru', 'toyota']\n",
      "\n",
      "Here is the original list again:\n",
      "['toyota', 'subaru', 'bmw', 'audi']\n",
      "\n",
      "['bmw', 'audi', 'toyota', 'subaru']\n",
      "['subaru', 'toyota', 'audi', 'bmw']\n"
     ]
    },
    {
     "data": {
      "text/plain": [
       "4"
      ]
     },
     "execution_count": 78,
     "metadata": {},
     "output_type": "execute_result"
    }
   ],
   "source": [
    "# Organizing a List\n",
    "\n",
    "# Sorting a List Permanently with the sort() Method\n",
    "## If we want to sort our list alphabetically, we can just use the sort() method on the list.\n",
    "cars = ['bmw', 'audi', 'toyota','subaru']\n",
    "cars.sort()\n",
    "print(cars)\n",
    "# We can also use reverse=True to print them in reverse alphabetical order:\n",
    "cars.sort(reverse=True)\n",
    "print(cars) # Also, remember, once we use sort, this is done perm and we cannot revert back to the original order.\n",
    "\n",
    "\n",
    "# Sorting a List Temporarily with the sorted() Function\n",
    "## We can maintain the original order of a list, but present it in a sorted order, by using the sorted() function.\n",
    "## This does not actually affect the actual order of the list, but just presents it.\n",
    "print(\"Here is the original list:\")\n",
    "print(cars)\n",
    "print(\"\\nHere is the sorted list:\")\n",
    "print(sorted(cars))\n",
    "print(\"\\nHere is the original list again:\")\n",
    "print(cars) # Also though, note that it is a bit harder to sort alphabetically when all the values are not lowercase, but we will not deal with that now.\n",
    "\n",
    "\n",
    "# Printing a List in Reverse Order\n",
    "## To reverse the order of a list, you can use the reverse() method. If we chronologically stored the values from when we owned them, we could just rearrange them into reverse-chronological order.\n",
    "cars = ['bmw', 'audi', 'toyota','subaru']\n",
    "print(f\"\\n{cars}\")\n",
    "cars.reverse()\n",
    "print(cars) # this changes the order of the list permanently, but you can use reverse to change it back again.\n",
    "\n",
    "\n",
    "# Finding the length of a List\n",
    "## You can quickly find the length of a list by using the len() function\n",
    "cars = ['bmw', 'audi', 'toyota','subaru']\n",
    "len(cars)\n"
   ]
  },
  {
   "cell_type": "code",
   "execution_count": 82,
   "metadata": {},
   "outputs": [
    {
     "name": "stdout",
     "output_type": "stream",
     "text": [
      "['North America', 'Europe', 'South America', 'Asia', 'Africa', 'Antarctica']\n",
      "['Africa', 'Antarctica', 'Asia', 'Europe', 'North America', 'South America']\n",
      "['North America', 'Europe', 'South America', 'Asia', 'Africa', 'Antarctica']\n",
      "['South America', 'North America', 'Europe', 'Asia', 'Antarctica', 'Africa']\n",
      "['North America', 'Europe', 'South America', 'Asia', 'Africa', 'Antarctica']\n",
      "['Antarctica', 'Africa', 'Asia', 'South America', 'Europe', 'North America']\n",
      "['North America', 'Europe', 'South America', 'Asia', 'Africa', 'Antarctica']\n",
      "['Africa', 'Antarctica', 'Asia', 'Europe', 'North America', 'South America']\n"
     ]
    }
   ],
   "source": [
    "# 3-8. Seeing the World\n",
    "locations = ['North America', 'Europe', 'South America', 'Asia', 'Africa', 'Antarctica'] # store the locations in a list, make sure they are not in alphabetical order\n",
    "print(locations) # print your original list\n",
    "print(sorted(locations)) # use sorted() to display in alphabetical order while not modifying the actual list\n",
    "print(locations) # show that your list is still in its original order by printing it\n",
    "print(sorted(locations, reverse=True)) # use sorted to print the list in reverse-alphabetical order without changing the order of the original list\n",
    "print(locations) # show that the original list has not been modified\n",
    "locations.reverse() # use reverse to change the order of the list\n",
    "print(locations) # show that the order of the list has been reversed\n",
    "locations.reverse() # use reverse() to change the order of it again\n",
    "print(locations) # show that the order of the list is back to its original\n",
    "locations.sort() # use sort to change your list so it is stores in alphabetical order\n",
    "print(locations) # show that the list is now in alphabetical order\n",
    "locations.sort(reverse=True) # use sort to change your list so it is stored in reverse-alphabetical order"
   ]
  },
  {
   "cell_type": "code",
   "execution_count": 83,
   "metadata": {},
   "outputs": [
    {
     "name": "stdout",
     "output_type": "stream",
     "text": [
      "\n",
      "3-7: Shrinking Guest List\n",
      "\n",
      "Hi everyone, we can only invite two people for dinner.\n",
      "['Taylor', 'Jerry', 'Katherine', 'Joshua', 'Amanda', 'Kimberly']\n",
      "Hi Kimberly, I'm sorry you can't make it to dinner.\n",
      "Hi Amanda, I'm sorry you can't make it to dinner.\n",
      "Hi Joshua, I'm sorry you can't make it to dinner.\n",
      "Hi Katherine, I'm sorry you can't make it to dinner.\n",
      "Hi Taylor, you're invited to our dinner. Please let us know if you can make it.\n",
      "Hi Jerry, you're invited to our dinner. Please let us know if you can make it.\n",
      "['Taylor', 'Jerry']\n",
      "\n",
      "Now, we move onto our program for 3-9. Dinner Guests:\n",
      "We are inviting 2 people for dinner tonight!\n"
     ]
    }
   ],
   "source": [
    "# 3-9. Dinner Guests\n",
    "# Use one of the programs that we worked with earlier:\n",
    "\n",
    "# 3-7: Shrinking Guest List\n",
    "guest_list = ['Taylor', 'Jerry', 'Katherine', 'Joshua', 'Amanda', 'Kimberly']\n",
    "print(\"\\n3-7: Shrinking Guest List\\n\")\n",
    "print(\"Hi everyone, we can only invite two people for dinner.\") # print line that says you can only invite two people\n",
    "print(guest_list)\n",
    "\n",
    "while len(guest_list) > 2:\n",
    "    popped_guest = guest_list.pop() # remove the last guest in the list and store value\n",
    "    print(f\"Hi {popped_guest.title()}, I'm sorry you can't make it to dinner.\") # print out the name of the guest that you removed\n",
    "\n",
    "for guest in guest_list:\n",
    "    print(f\"Hi {guest.title()}, you're invited to our dinner. Please let us know if you can make it.\") # print message of the two people remaining in the list\n",
    "\n",
    "print(guest_list) # print the final guest list\n",
    "\n",
    "print(\"\\nNow, we move onto our program for 3-9. Dinner Guests:\")\n",
    "length = len(guest_list) # store the length of the guest list in a variable\n",
    "print(f\"We are inviting {length} people for dinner tonight!\")"
   ]
  },
  {
   "cell_type": "code",
   "execution_count": 2,
   "metadata": {},
   "outputs": [
    {
     "name": "stdout",
     "output_type": "stream",
     "text": [
      "['Cape Town', 'London', 'Melbourne', 'Moscow', 'New York', 'Paris', 'Rio de Janeiro', 'Sydney', 'Tokyo']\n",
      "['Tokyo', 'Sydney', 'Rio de Janeiro', 'Paris', 'New York', 'Moscow', 'Melbourne', 'London', 'Cape Town']\n",
      "9\n",
      "['Cape Town', 'London', 'Melbourne', 'Moscow', 'New York', 'Paris', 'Rio de Janeiro', 'Sydney', 'Tokyo']\n"
     ]
    }
   ],
   "source": [
    "# 3-10. Every Function\n",
    "# Think of things you can store in a list, a list of mountains, rivers, countries, cities, languages, etc., and write a program that uses each function introduced in this chapter at least once.\n",
    "\n",
    "# Functions: append(), insert(), del, pop(), remove(), sort(), reverse(), len(), sorted()\n",
    "\n",
    "cities = ['Seoul', 'Tokyo', 'New York', 'Paris', 'Moscow', 'London', 'Rio de Janeiro', 'Sydney', 'Melbourne', 'Cape Town'] # make a list of cities\n",
    "\n",
    "# Append\n",
    "cities.append('Amsterdam') # append a city\n",
    "\n",
    "# Insert\n",
    "cities.insert(0, 'Singapore') # insert a city at the beginning of the list\n",
    "\n",
    "# Del\n",
    "del cities[1] # delete a city\n",
    "\n",
    "# Pop\n",
    "cities.pop() # pop a city\n",
    "\n",
    "# Remove\n",
    "cities.remove('Singapore') # remove a city\n",
    "\n",
    "# Sort\n",
    "cities.sort() # sort the list\n",
    "print(cities)\n",
    "\n",
    "# Reverse\n",
    "cities.reverse() # reverse the list\n",
    "print(cities)\n",
    "\n",
    "# Len\n",
    "print(len(cities)) # length of the list\n",
    "\n",
    "# Sorted\n",
    "print(sorted(cities)) # sorted list"
   ]
  }
 ],
 "metadata": {
  "kernelspec": {
   "display_name": "Python 3",
   "language": "python",
   "name": "python3"
  },
  "language_info": {
   "codemirror_mode": {
    "name": "ipython",
    "version": 3
   },
   "file_extension": ".py",
   "mimetype": "text/x-python",
   "name": "python",
   "nbconvert_exporter": "python",
   "pygments_lexer": "ipython3",
   "version": "3.12.3"
  }
 },
 "nbformat": 4,
 "nbformat_minor": 2
}
